{
 "cells": [
  {
   "cell_type": "markdown",
   "id": "fde96d6a-0281-4ba2-ae2f-447cb6a625f0",
   "metadata": {},
   "source": [
    "# Countermeasure tests"
   ]
  },
  {
   "cell_type": "code",
   "execution_count": 129,
   "id": "eab24cb8-af40-4cc1-be5f-f120fe9932ee",
   "metadata": {},
   "outputs": [],
   "source": [
    "from pyecsca.sca.target.ectester import KeypairEnum, ParameterEnum, CurveEnum, KeyEnum, KeyClassEnum, KeyBuildEnum, KeyAgreementEnum, SignatureEnum, TransformationEnum\n",
    "from pyecsca.ec.params import load_params_ectester\n",
    "from pyecsca.sca.target.ectester import ECTesterTargetPCSC, KeyAgreementEnum\n",
    "from pyecsca.sca.target.PCSC import PCSCTarget\n",
    "from smartcard.System import readers\n",
    "import numpy as np\n",
    "from time import sleep\n",
    "from utils import *\n",
    "import os"
   ]
  },
  {
   "cell_type": "code",
   "execution_count": 132,
   "id": "4958e925-4764-4665-941d-fab0b00bd5bb",
   "metadata": {},
   "outputs": [],
   "source": [
    "rs = readers()\n",
    "for reader in rs:\n",
    "    if \"Gemalto\" in reader.name:\n",
    "        break\n",
    "target = ECTesterTargetPCSC(reader)"
   ]
  },
  {
   "cell_type": "code",
   "execution_count": 133,
   "id": "5d4c75be-86e4-4924-82e3-5a75d48ed088",
   "metadata": {},
   "outputs": [],
   "source": [
    "target.connect()"
   ]
  },
  {
   "cell_type": "code",
   "execution_count": 134,
   "id": "88c049c9-ba24-41a7-830d-a9e81ecd5e67",
   "metadata": {},
   "outputs": [
    {
     "data": {
      "text/plain": [
       "True"
      ]
     },
     "execution_count": 134,
     "metadata": {},
     "output_type": "execute_result"
    }
   ],
   "source": [
    "target.select_applet()"
   ]
  },
  {
   "cell_type": "code",
   "execution_count": 135,
   "id": "f65d7cb5-b54e-48bc-9a67-153b964f5df1",
   "metadata": {},
   "outputs": [],
   "source": [
    "CARD = \"I1\""
   ]
  },
  {
   "cell_type": "code",
   "execution_count": 136,
   "id": "ac9a16f7-ef19-4b05-86bd-f50b2b070037",
   "metadata": {},
   "outputs": [
    {
     "name": "stdout",
     "output_type": "stream",
     "text": [
      "I1 connected, I1 selected\n"
     ]
    }
   ],
   "source": [
    "atr = target.atr.hex()\n",
    "card_map = {\n",
    "    \"3bd518ff8191fe1fc38073c8211309\": \"A1\",\n",
    "    \"3bb89600c00831fe45ffff1154305023006a\": \"I1\",\n",
    "    \"3bfe1800008031fe45803180664090a5102e1083019000f2\": \"I2\",\n",
    "    \"3bf81800ff8131fe454a434f507632343143\": \"N1\",\n",
    "    \"3bf81300008131fe454a434f5076323431b7\": \"N2N9\",\n",
    "    \"3b9495810146545601c4\": \"N4N10\",\n",
    "    \"3bd518ff8191fe1fc38073c821100a\": \"N6\",\n",
    "    \"3b9c9580811f039067464a01005404f272fe00c0\": \"F1\",\n",
    "    \"3b90958011fe6a\": \"F2\",\n",
    "    \"3b9f95803fc7a08031e073fa21106300000083f09000bb\": \"S1S2\",\n",
    "    \"3bf91300008131fe454a434f503234325233a2\":\"N8\",\n",
    "    \"3bf99600008131fe4553434537200e00202028\":\"G1\"\n",
    "}\n",
    "print(f\"{card_map[atr]} connected, {CARD} selected\")\n",
    "assert CARD in card_map[atr]\n"
   ]
  },
  {
   "cell_type": "markdown",
   "id": "2eb7fdb7-9444-48ec-bcde-dbf68b14b1ad",
   "metadata": {},
   "source": [
    "## Test cofactor"
   ]
  },
  {
   "cell_type": "code",
   "execution_count": 314,
   "id": "d52d4b8d-c203-4324-88d3-6409927d52b2",
   "metadata": {},
   "outputs": [],
   "source": [
    "params = load_params_ectester(\"tests/testcofactor/cofactor256p4_h.csv\", \"affine\")\n",
    "params_csv = read_curve_params(\"tests/testcofactor/cofactor256p4_h.csv\")\n",
    "point = get_point_bytes(\"tests/testcofactor/point_4n.csv\")\n",
    "with open(\"tests/testcofactor/key.csv\") as f:\n",
    "    key = int(f.read(),16)"
   ]
  },
  {
   "cell_type": "code",
   "execution_count": 358,
   "id": "d461d3a3-12d8-4df0-9ca3-a7d5b27cc739",
   "metadata": {},
   "outputs": [],
   "source": [
    "params = load_params_ectester(\"tests/testcofactor/weakcurve.csv\", \"affine\")\n",
    "params_csv = read_curve_params(\"tests/testcofactor/weakcurve.csv\")\n",
    "point = get_point_bytes(\"tests/testcofactor/weakcurve_point_4n.csv\")\n",
    "with open(\"tests/testcofactor/key.csv\") as f:\n",
    "    key = int(f.read(),16)"
   ]
  },
  {
   "cell_type": "code",
   "execution_count": 359,
   "id": "8fad24f9-0f25-4ccb-9284-1b31d08a42fb",
   "metadata": {},
   "outputs": [
    {
     "data": {
      "text/plain": [
       "AllocateResponse(sws=[0x9000], sw=0x9000, success=True, error=False)"
      ]
     },
     "execution_count": 359,
     "metadata": {},
     "output_type": "execute_result"
    }
   ],
   "source": [
    "target.allocate(KeypairEnum.KEYPAIR_LOCAL,\n",
    "                  KeyBuildEnum.BUILD_KEYBUILDER | KeyBuildEnum.BUILD_KEYPAIR,\n",
    "                  256,\n",
    "                  KeyClassEnum.ALG_EC_FP)"
   ]
  },
  {
   "cell_type": "code",
   "execution_count": 360,
   "id": "3daf588f-77d5-4e92-8dbc-ae49a79779e4",
   "metadata": {},
   "outputs": [
    {
     "data": {
      "text/plain": [
       "AllocateKaResponse(sws=[0x9000], sw=0x9000, success=True, error=False)"
      ]
     },
     "execution_count": 360,
     "metadata": {},
     "output_type": "execute_result"
    }
   ],
   "source": [
    "target.allocate_ka(KeyAgreementEnum.ALG_EC_SVDP_DH_PLAIN)"
   ]
  },
  {
   "cell_type": "code",
   "execution_count": 361,
   "id": "288aacff-18d8-417e-80f3-7b4e3c09990b",
   "metadata": {},
   "outputs": [
    {
     "data": {
      "text/plain": [
       "SetResponse(sws=[0x9000], sw=0x9000, success=True, error=False)"
      ]
     },
     "execution_count": 361,
     "metadata": {},
     "output_type": "execute_result"
    }
   ],
   "source": [
    "target.set(KeypairEnum.KEYPAIR_LOCAL,\n",
    "             CurveEnum.external,\n",
    "             ParameterEnum.DOMAIN_FP,\n",
    "             ECTesterTargetPCSC.encode_parameters(ParameterEnum.DOMAIN_FP, params))"
   ]
  },
  {
   "cell_type": "code",
   "execution_count": 362,
   "id": "cdd0d614-9e2d-4a85-a1d2-045a73647629",
   "metadata": {},
   "outputs": [
    {
     "data": {
      "text/plain": [
       "SetResponse(sws=[0x9000], sw=0x9000, success=True, error=False)"
      ]
     },
     "execution_count": 362,
     "metadata": {},
     "output_type": "execute_result"
    }
   ],
   "source": [
    "target.set(KeypairEnum.KEYPAIR_LOCAL,\n",
    "             CurveEnum.external,\n",
    "             ParameterEnum.S,\n",
    "             ECTesterTargetPCSC.encode_parameters(ParameterEnum.S, key))"
   ]
  },
  {
   "cell_type": "code",
   "execution_count": 363,
   "id": "d22a09ca-cd35-41ff-a7e8-1845034ccc40",
   "metadata": {},
   "outputs": [],
   "source": [
    "result = target.ecdh_direct(KeypairEnum.KEYPAIR_LOCAL,\n",
    "                         True,\n",
    "                         TransformationEnum.NONE,\n",
    "                         KeyAgreementEnum.ALG_EC_SVDP_DH_PLAIN,\n",
    "                         point) # pubkey as bytes\n",
    "if not result.success:\n",
    "    print(result)\n",
    "result_lines = [serialize_ecdh_response(result,params_csv,point,key)]"
   ]
  },
  {
   "cell_type": "code",
   "execution_count": 364,
   "id": "7c65a25f-3743-4504-a1d5-85897b46c6eb",
   "metadata": {},
   "outputs": [
    {
     "data": {
      "text/plain": [
       "ResponseAPDU(data=b\"\\x90\\x00\\x00 S\\x9d\\x8b\\xeb\\xdfI\\x892\\xf1\\x90\\r\\xbb\\xca\\x10\\xb7\\xdfC\\x98\\xf7\\xb5\\x08\\x86\\xd9\\x87\\x0fa'\\x93\\xa4\\x0b>f\", sw=36864)"
      ]
     },
     "execution_count": 364,
     "metadata": {},
     "output_type": "execute_result"
    }
   ],
   "source": [
    "result.resp"
   ]
  },
  {
   "cell_type": "code",
   "execution_count": 365,
   "id": "d496aaf3-11e3-4b21-a988-b1d28651540f",
   "metadata": {},
   "outputs": [],
   "source": [
    "header = \"success;error;secret[SHA1];priv;pub;curve;params;apdu;sws\"\n",
    "filename = f\"results/{CARD}/testcofactor/ecdh_plain2.csv\"\n",
    "if os.path.isfile(filename):\n",
    "    print(\"Measurement already exists\")\n",
    "with open(filename,\"w\") as f:\n",
    "    f.write(f\"{header}\\n\")\n",
    "    for line in result_lines:\n",
    "        f.write(f\"{line}\\n\")"
   ]
  },
  {
   "cell_type": "markdown",
   "id": "a84108a4-73d0-4eb5-a72f-424763f22474",
   "metadata": {},
   "source": [
    "### Test3n - ECDH"
   ]
  },
  {
   "cell_type": "code",
   "execution_count": 6,
   "id": "8be52585-25c1-46c7-b6bc-7165198c7cba",
   "metadata": {},
   "outputs": [],
   "source": [
    "params = load_params_ectester(\"tests/test3n/curve_prime_gen.csv\", \"affine\")\n",
    "params_csv = read_curve_params(\"tests/test3n/curve_prime_gen.csv\")\n",
    "point = get_point_bytes(\"tests/test3n/point_3n.csv\")\n",
    "with open(\"tests/test3n/key.csv\") as f:\n",
    "    key = int(f.read(),16)"
   ]
  },
  {
   "cell_type": "code",
   "execution_count": 8,
   "id": "e6faa774-d813-40cd-a51f-8ae9a680c880",
   "metadata": {},
   "outputs": [],
   "source": [
    "samples = 100"
   ]
  },
  {
   "cell_type": "code",
   "execution_count": null,
   "id": "a398d6bc-c98a-420d-8996-ff5ecd73c53a",
   "metadata": {},
   "outputs": [],
   "source": [
    "target.allocate(KeypairEnum.KEYPAIR_LOCAL,\n",
    "                  KeyBuildEnum.BUILD_KEYBUILDER | KeyBuildEnum.BUILD_KEYPAIR,\n",
    "                  256,\n",
    "                  KeyClassEnum.ALG_EC_FP)"
   ]
  },
  {
   "cell_type": "code",
   "execution_count": 9,
   "id": "edf7190f-eea5-4f3f-9271-7861ac10b2a6",
   "metadata": {},
   "outputs": [
    {
     "data": {
      "text/plain": [
       "AllocateKaResponse(sws=[0x9000], sw=0x9000, success=True, error=False)"
      ]
     },
     "execution_count": 9,
     "metadata": {},
     "output_type": "execute_result"
    }
   ],
   "source": [
    "target.allocate_ka(KeyAgreementEnum.ALG_EC_SVDP_DH)"
   ]
  },
  {
   "cell_type": "code",
   "execution_count": 10,
   "id": "6bd6e733-2e8c-451e-8b62-f3075e97e877",
   "metadata": {},
   "outputs": [
    {
     "data": {
      "text/plain": [
       "SetResponse(sws=[0x9000], sw=0x9000, success=True, error=False)"
      ]
     },
     "execution_count": 10,
     "metadata": {},
     "output_type": "execute_result"
    }
   ],
   "source": [
    "target.set(KeypairEnum.KEYPAIR_LOCAL,\n",
    "             CurveEnum.external,\n",
    "             ParameterEnum.DOMAIN_FP,\n",
    "             ECTesterTargetPCSC.encode_parameters(ParameterEnum.DOMAIN_FP, params))"
   ]
  },
  {
   "cell_type": "code",
   "execution_count": 11,
   "id": "c1858f95-1183-42ac-92c6-190785f7e787",
   "metadata": {},
   "outputs": [
    {
     "data": {
      "text/plain": [
       "SetResponse(sws=[0x9000], sw=0x9000, success=True, error=False)"
      ]
     },
     "execution_count": 11,
     "metadata": {},
     "output_type": "execute_result"
    }
   ],
   "source": [
    "target.set(KeypairEnum.KEYPAIR_LOCAL,\n",
    "             CurveEnum.external,\n",
    "             ParameterEnum.S,\n",
    "             ECTesterTargetPCSC.encode_parameters(ParameterEnum.S, key))"
   ]
  },
  {
   "cell_type": "code",
   "execution_count": 12,
   "id": "16d4f809-fc4e-4b56-be48-0932bee9df5d",
   "metadata": {},
   "outputs": [],
   "source": [
    "result_lines = []\n",
    "\n",
    "for _ in range(samples):\n",
    "    result = target.ecdh_direct(KeypairEnum.KEYPAIR_LOCAL,\n",
    "                         True,\n",
    "                         TransformationEnum.NONE,\n",
    "                         KeyAgreementEnum.ALG_EC_SVDP_DH,\n",
    "                         point) # pubkey as bytes\n",
    "    if not result.success:\n",
    "        print(result)\n",
    "    result_lines.append(serialize_ecdh_response(result,params_csv,point,key))"
   ]
  },
  {
   "cell_type": "code",
   "execution_count": 15,
   "id": "32f12f37-51d5-4325-ab1b-aea2635b4efc",
   "metadata": {},
   "outputs": [],
   "source": []
  },
  {
   "cell_type": "code",
   "execution_count": 167,
   "id": "16a3567c-f2d9-40a4-bfae-d04d65a5feef",
   "metadata": {},
   "outputs": [
    {
     "data": {
      "text/plain": [
       "CleanupResponse(sws=[0x9000], sw=0x9000, success=True, error=False)"
      ]
     },
     "execution_count": 167,
     "metadata": {},
     "output_type": "execute_result"
    }
   ],
   "source": [
    "target.cleanup()"
   ]
  },
  {
   "cell_type": "code",
   "execution_count": 1,
   "id": "a16af658-34d5-455e-a609-3075ede7dad7",
   "metadata": {},
   "outputs": [
    {
     "ename": "NameError",
     "evalue": "name 'target' is not defined",
     "output_type": "error",
     "traceback": [
      "\u001b[0;31m---------------------------------------------------------------------------\u001b[0m",
      "\u001b[0;31mNameError\u001b[0m                                 Traceback (most recent call last)",
      "Cell \u001b[0;32mIn[1], line 1\u001b[0m\n\u001b[0;32m----> 1\u001b[0m \u001b[43mtarget\u001b[49m\u001b[38;5;241m.\u001b[39mdisconnect()\n",
      "\u001b[0;31mNameError\u001b[0m: name 'target' is not defined"
     ]
    }
   ],
   "source": [
    "target.disconnect()"
   ]
  },
  {
   "cell_type": "markdown",
   "id": "3c30db78-bfba-4e7b-bec7-dca29480c3f5",
   "metadata": {},
   "source": [
    "### Test3n - ECDSA"
   ]
  },
  {
   "cell_type": "code",
   "execution_count": 7,
   "id": "59619b5b-5ddf-41be-9d7d-5691ab8954af",
   "metadata": {},
   "outputs": [],
   "source": [
    "target.connect()"
   ]
  },
  {
   "cell_type": "code",
   "execution_count": 90,
   "id": "ad17301a-902f-48e9-936e-f553a1a8f006",
   "metadata": {},
   "outputs": [],
   "source": [
    "params = load_params_ectester(\"tests/test3n/curve.csv\", \"affine\")\n",
    "params_csv = read_curve_params(\"tests/test3n/curve.csv\")\n",
    "with open(\"tests/test3n/key.csv\") as f:\n",
    "    key = int(f.read(),16)\n",
    "point_bytes = get_point_bytes(\"tests/test3n/point_key.csv\")\n",
    "point = params.curve.decode_point(point_bytes)"
   ]
  },
  {
   "cell_type": "code",
   "execution_count": 187,
   "id": "82e30c00-9409-4ecb-a049-4c7a4e5e358a",
   "metadata": {},
   "outputs": [],
   "source": [
    "samples = 10\n",
    "fixed_key = False\n",
    "data = bytes.fromhex(\"e8c86c9596e46403c211206617b8bcdd160a673b0b1304869f5559e3afe99d79\")"
   ]
  },
  {
   "cell_type": "code",
   "execution_count": 188,
   "id": "975fb0b2-613b-430f-81bf-261e54be2afd",
   "metadata": {},
   "outputs": [
    {
     "data": {
      "text/plain": [
       "AllocateResponse(sws=[0x9000], sw=0x9000, success=True, error=False)"
      ]
     },
     "execution_count": 188,
     "metadata": {},
     "output_type": "execute_result"
    }
   ],
   "source": [
    "target.allocate(KeypairEnum.KEYPAIR_LOCAL,\n",
    "                  KeyBuildEnum.BUILD_KEYBUILDER | KeyBuildEnum.BUILD_KEYPAIR,\n",
    "                  256,\n",
    "                  KeyClassEnum.ALG_EC_FP)"
   ]
  },
  {
   "cell_type": "code",
   "execution_count": null,
   "id": "1c4451f0-c628-4f2f-b3e6-4f3573c78e25",
   "metadata": {},
   "outputs": [],
   "source": [
    "target.allocate_sig(SignatureEnum.ALG_ECDSA_SHA)"
   ]
  },
  {
   "cell_type": "code",
   "execution_count": 189,
   "id": "2a64c51d-6597-4eaa-8266-c6dca1c1dd5b",
   "metadata": {},
   "outputs": [
    {
     "data": {
      "text/plain": [
       "SetResponse(sws=[0x9000], sw=0x9000, success=True, error=False)"
      ]
     },
     "execution_count": 189,
     "metadata": {},
     "output_type": "execute_result"
    }
   ],
   "source": [
    "target.set(KeypairEnum.KEYPAIR_LOCAL,\n",
    "             CurveEnum.external,\n",
    "             ParameterEnum.DOMAIN_FP,\n",
    "             ECTesterTargetPCSC.encode_parameters(ParameterEnum.DOMAIN_FP, params))"
   ]
  },
  {
   "cell_type": "code",
   "execution_count": 153,
   "id": "068dba48-c8d8-442e-9a1e-7bc203d17e1b",
   "metadata": {},
   "outputs": [
    {
     "name": "stdout",
     "output_type": "stream",
     "text": [
      "GenerateResponse(sws=[0x2], sw=0x9000, success=False, error=False)\n",
      "ExportResponse(sws=[0x2], sw=0x9000, success=False, error=True, keypair=KEYPAIR_LOCAL, key=BOTH, params=KEYPAIR)\n"
     ]
    },
    {
     "ename": "ValueError",
     "evalue": "invalid literal for int() with base 16: ''",
     "output_type": "error",
     "traceback": [
      "\u001b[0;31m---------------------------------------------------------------------------\u001b[0m",
      "\u001b[0;31mValueError\u001b[0m                                Traceback (most recent call last)",
      "Cell \u001b[0;32mIn[153], line 12\u001b[0m\n\u001b[1;32m     10\u001b[0m export \u001b[38;5;241m=\u001b[39m target\u001b[38;5;241m.\u001b[39mexport(KeypairEnum\u001b[38;5;241m.\u001b[39mKEYPAIR_LOCAL, KeyEnum\u001b[38;5;241m.\u001b[39mBOTH,ParameterEnum\u001b[38;5;241m.\u001b[39mKEYPAIR)\n\u001b[1;32m     11\u001b[0m \u001b[38;5;28mprint\u001b[39m(export)\n\u001b[0;32m---> 12\u001b[0m key \u001b[38;5;241m=\u001b[39m \u001b[38;5;28;43mint\u001b[39;49m\u001b[43m(\u001b[49m\u001b[43mexport\u001b[49m\u001b[38;5;241;43m.\u001b[39;49m\u001b[43mparams\u001b[49m\u001b[43m[\u001b[49m\u001b[38;5;241;43m1\u001b[39;49m\u001b[43m]\u001b[49m\u001b[38;5;241;43m.\u001b[39;49m\u001b[43mhex\u001b[49m\u001b[43m(\u001b[49m\u001b[43m)\u001b[49m\u001b[43m,\u001b[49m\u001b[38;5;241;43m16\u001b[39;49m\u001b[43m)\u001b[49m\n\u001b[1;32m     13\u001b[0m point \u001b[38;5;241m=\u001b[39m params\u001b[38;5;241m.\u001b[39mcurve\u001b[38;5;241m.\u001b[39mdecode_point(export\u001b[38;5;241m.\u001b[39mparams[\u001b[38;5;241m0\u001b[39m])\n\u001b[1;32m     14\u001b[0m point_bytes \u001b[38;5;241m=\u001b[39m export\u001b[38;5;241m.\u001b[39mparams[\u001b[38;5;241m0\u001b[39m]\n",
      "\u001b[0;31mValueError\u001b[0m: invalid literal for int() with base 16: ''"
     ]
    }
   ],
   "source": [
    "if fixed_key:\n",
    "    keypair_dict = ECTesterTargetPCSC.encode_parameters(ParameterEnum.S, key)\n",
    "    keypair_dict.update(ECTesterTargetPCSC.encode_parameters(ParameterEnum.W, point))\n",
    "    print(target.set(KeypairEnum.KEYPAIR_LOCAL,\n",
    "                 CurveEnum.external,\n",
    "                 ParameterEnum.KEYPAIR,\n",
    "                 keypair_dict))\n",
    "else:\n",
    "    print(target.generate(KeypairEnum.KEYPAIR_LOCAL))\n",
    "    export = target.export(KeypairEnum.KEYPAIR_LOCAL, KeyEnum.BOTH,ParameterEnum.KEYPAIR)\n",
    "    print(export)\n",
    "    key = int(export.params[1].hex(),16)\n",
    "    point = params.curve.decode_point(export.params[0])\n",
    "    point_bytes = export.params[0]"
   ]
  },
  {
   "cell_type": "code",
   "execution_count": null,
   "id": "1e17dcbf-3578-4893-a86d-668157af69e0",
   "metadata": {},
   "outputs": [],
   "source": [
    "result_lines = []\n",
    "error = False\n",
    "for _ in range(samples):\n",
    "    sign_response = target.ecdsa_sign(KeypairEnum.KEYPAIR_LOCAL,True,SignatureEnum.ALG_ECDSA_SHA,data)\n",
    "    if error or not sign_response.success:\n",
    "        print(f\"sign: {sign_response.sws}\",end=\", \")\n",
    "        error = True\n",
    "    signature = sign_response.signature\n",
    "    verify_response = target.ecdsa_verify(KeypairEnum.KEYPAIR_LOCAL,SignatureEnum.ALG_ECDSA_SHA,signature,data)\n",
    "    if error or not verify_response.success:\n",
    "        print(f\"verify: {verify_response.sws}\",end=\", \")\n",
    "        error = True\n",
    "    # verify_response = target.ecdsa(KeypairEnum.KEYPAIR_LOCAL,True,SignatureEnum.ALG_ECDSA_SHA,data)\n",
    "    try:\n",
    "        result_lines.append(serialize_ecdsa_response(sign_response,data,params,key,params_csv,point_bytes, verify_response.success))\n",
    "    except:\n",
    "        continue"
   ]
  },
  {
   "cell_type": "code",
   "execution_count": null,
   "id": "a3407a67-3ab1-43d0-8989-f24ae22d1f78",
   "metadata": {},
   "outputs": [],
   "source": [
    "result_lines"
   ]
  },
  {
   "cell_type": "code",
   "execution_count": 115,
   "id": "6c677375-2ff5-47bd-a3bb-69ad7014c016",
   "metadata": {},
   "outputs": [],
   "source": [
    "filename = f\"results/{CARD}/test3n/ecdsa.csv\" if not fixed_key else f\"results/{CARD}/test3n/ecdsa_fixed.csv\"\n",
    "if os.path.isfile(filename):\n",
    "    print(\"Measurement already exists\")\n",
    "with open(filename,\"w\") as f:\n",
    "    for line in result_lines:\n",
    "        f.write(f\"{line}\\n\")"
   ]
  },
  {
   "cell_type": "code",
   "execution_count": 216,
   "id": "eb3dccf4-d692-4e63-b3de-ca38aa4a1cdc",
   "metadata": {},
   "outputs": [
    {
     "ename": "KeyboardInterrupt",
     "evalue": "",
     "output_type": "error",
     "traceback": [
      "\u001b[0;31m---------------------------------------------------------------------------\u001b[0m",
      "\u001b[0;31mKeyboardInterrupt\u001b[0m                         Traceback (most recent call last)",
      "Cell \u001b[0;32mIn[216], line 1\u001b[0m\n\u001b[0;32m----> 1\u001b[0m \u001b[43mtarget\u001b[49m\u001b[38;5;241;43m.\u001b[39;49m\u001b[43mcleanup\u001b[49m\u001b[43m(\u001b[49m\u001b[43m)\u001b[49m\n",
      "File \u001b[0;32m~/ECTester/ectester/libs_analysis/env/lib/python3.10/site-packages/pyecsca/sca/target/ectester.py:964\u001b[0m, in \u001b[0;36mECTesterTarget.cleanup\u001b[0;34m(self)\u001b[0m\n\u001b[1;32m    958\u001b[0m \u001b[38;5;28;01mdef\u001b[39;00m \u001b[38;5;21mcleanup\u001b[39m(\u001b[38;5;28mself\u001b[39m) \u001b[38;5;241m-\u001b[39m\u001b[38;5;241m>\u001b[39m CleanupResponse:\n\u001b[1;32m    959\u001b[0m \u001b[38;5;250m    \u001b[39m\u001b[38;5;124;03m\"\"\"\u001b[39;00m\n\u001b[1;32m    960\u001b[0m \u001b[38;5;124;03m    Send the Cleanup command.\u001b[39;00m\n\u001b[1;32m    961\u001b[0m \n\u001b[1;32m    962\u001b[0m \u001b[38;5;124;03m    :return: The response.\u001b[39;00m\n\u001b[1;32m    963\u001b[0m \u001b[38;5;124;03m    \"\"\"\u001b[39;00m\n\u001b[0;32m--> 964\u001b[0m     resp \u001b[38;5;241m=\u001b[39m \u001b[38;5;28;43mself\u001b[39;49m\u001b[38;5;241;43m.\u001b[39;49m\u001b[43msend\u001b[49m\u001b[43m(\u001b[49m\n\u001b[1;32m    965\u001b[0m \u001b[43m        \u001b[49m\u001b[43mCommandAPDU\u001b[49m\u001b[43m(\u001b[49m\u001b[38;5;28;43mself\u001b[39;49m\u001b[38;5;241;43m.\u001b[39;49m\u001b[43mCLA_ECTESTER\u001b[49m\u001b[43m,\u001b[49m\u001b[43m \u001b[49m\u001b[43mInstructionEnum\u001b[49m\u001b[38;5;241;43m.\u001b[39;49m\u001b[43mINS_CLEANUP\u001b[49m\u001b[43m,\u001b[49m\u001b[43m \u001b[49m\u001b[38;5;241;43m0\u001b[39;49m\u001b[43m,\u001b[49m\u001b[43m \u001b[49m\u001b[38;5;241;43m0\u001b[39;49m\u001b[43m,\u001b[49m\u001b[43m \u001b[49m\u001b[38;5;28;43;01mNone\u001b[39;49;00m\u001b[43m)\u001b[49m\n\u001b[1;32m    966\u001b[0m \u001b[43m    \u001b[49m\u001b[43m)\u001b[49m\n\u001b[1;32m    967\u001b[0m     \u001b[38;5;28;01mreturn\u001b[39;00m CleanupResponse(resp)\n",
      "File \u001b[0;32m~/ECTester/ectester/libs_analysis/env/lib/python3.10/site-packages/pyecsca/sca/target/ectester.py:559\u001b[0m, in \u001b[0;36mECTesterTarget.send\u001b[0;34m(self, apdu)\u001b[0m\n\u001b[1;32m    557\u001b[0m resp \u001b[38;5;241m=\u001b[39m \u001b[38;5;28mself\u001b[39m\u001b[38;5;241m.\u001b[39msend_apdu(apdu)\n\u001b[1;32m    558\u001b[0m \u001b[38;5;28;01mif\u001b[39;00m resp\u001b[38;5;241m.\u001b[39msw \u001b[38;5;241m&\u001b[39m \u001b[38;5;241m0xFF00\u001b[39m \u001b[38;5;241m==\u001b[39m ISO7816\u001b[38;5;241m.\u001b[39mSW_BYTES_REMAINING_00:\n\u001b[0;32m--> 559\u001b[0m     resp \u001b[38;5;241m=\u001b[39m \u001b[38;5;28;43mself\u001b[39;49m\u001b[38;5;241;43m.\u001b[39;49m\u001b[43msend_apdu\u001b[49m\u001b[43m(\u001b[49m\n\u001b[1;32m    560\u001b[0m \u001b[43m        \u001b[49m\u001b[43mCommandAPDU\u001b[49m\u001b[43m(\u001b[49m\u001b[38;5;241;43m0x00\u001b[39;49m\u001b[43m,\u001b[49m\u001b[43m \u001b[49m\u001b[38;5;241;43m0xC0\u001b[39;49m\u001b[43m,\u001b[49m\u001b[43m \u001b[49m\u001b[38;5;241;43m0x00\u001b[39;49m\u001b[43m,\u001b[49m\u001b[43m \u001b[49m\u001b[38;5;241;43m0x00\u001b[39;49m\u001b[43m,\u001b[49m\u001b[43m \u001b[49m\u001b[38;5;28;43;01mNone\u001b[39;49;00m\u001b[43m,\u001b[49m\u001b[43m \u001b[49m\u001b[43mresp\u001b[49m\u001b[38;5;241;43m.\u001b[39;49m\u001b[43msw\u001b[49m\u001b[43m \u001b[49m\u001b[38;5;241;43m&\u001b[39;49m\u001b[43m \u001b[49m\u001b[38;5;241;43m0xFF\u001b[39;49m\u001b[43m)\u001b[49m\n\u001b[1;32m    561\u001b[0m \u001b[43m    \u001b[49m\u001b[43m)\u001b[49m\n\u001b[1;32m    562\u001b[0m \u001b[38;5;28;01mreturn\u001b[39;00m resp\n",
      "File \u001b[0;32m~/ECTester/ectester/libs_analysis/env/lib/python3.10/site-packages/pyecsca/sca/target/PCSC.py:59\u001b[0m, in \u001b[0;36mPCSCTarget.send_apdu\u001b[0;34m(self, apdu)\u001b[0m\n\u001b[1;32m     58\u001b[0m \u001b[38;5;28;01mdef\u001b[39;00m \u001b[38;5;21msend_apdu\u001b[39m(\u001b[38;5;28mself\u001b[39m, apdu: CommandAPDU) \u001b[38;5;241m-\u001b[39m\u001b[38;5;241m>\u001b[39m ResponseAPDU:\n\u001b[0;32m---> 59\u001b[0m     resp, sw1, sw2 \u001b[38;5;241m=\u001b[39m \u001b[38;5;28;43mself\u001b[39;49m\u001b[38;5;241;43m.\u001b[39;49m\u001b[43mconnection\u001b[49m\u001b[38;5;241;43m.\u001b[39;49m\u001b[43mtransmit\u001b[49m\u001b[43m(\u001b[49m\u001b[38;5;28;43mlist\u001b[39;49m\u001b[43m(\u001b[49m\u001b[38;5;28;43mbytes\u001b[39;49m\u001b[43m(\u001b[49m\u001b[43mapdu\u001b[49m\u001b[43m)\u001b[49m\u001b[43m)\u001b[49m\u001b[43m)\u001b[49m\n\u001b[1;32m     60\u001b[0m     \u001b[38;5;28;01mreturn\u001b[39;00m ResponseAPDU(\u001b[38;5;28mbytes\u001b[39m(resp), sw1 \u001b[38;5;241m<<\u001b[39m \u001b[38;5;241m8\u001b[39m \u001b[38;5;241m|\u001b[39m sw2)\n",
      "File \u001b[0;32m~/ECTester/ectester/libs_analysis/env/lib/python3.10/site-packages/smartcard/CardConnectionDecorator.py:86\u001b[0m, in \u001b[0;36mCardConnectionDecorator.transmit\u001b[0;34m(self, command, protocol)\u001b[0m\n\u001b[1;32m     84\u001b[0m \u001b[38;5;28;01mdef\u001b[39;00m \u001b[38;5;21mtransmit\u001b[39m(\u001b[38;5;28mself\u001b[39m, command, protocol\u001b[38;5;241m=\u001b[39m\u001b[38;5;28;01mNone\u001b[39;00m):\n\u001b[1;32m     85\u001b[0m \u001b[38;5;250m    \u001b[39m\u001b[38;5;124;03m\"\"\"call inner component transmit\"\"\"\u001b[39;00m\n\u001b[0;32m---> 86\u001b[0m     \u001b[38;5;28;01mreturn\u001b[39;00m \u001b[38;5;28;43mself\u001b[39;49m\u001b[38;5;241;43m.\u001b[39;49m\u001b[43mcomponent\u001b[49m\u001b[38;5;241;43m.\u001b[39;49m\u001b[43mtransmit\u001b[49m\u001b[43m(\u001b[49m\u001b[43mcommand\u001b[49m\u001b[43m,\u001b[49m\u001b[43m \u001b[49m\u001b[43mprotocol\u001b[49m\u001b[43m)\u001b[49m\n",
      "File \u001b[0;32m~/ECTester/ectester/libs_analysis/env/lib/python3.10/site-packages/smartcard/CardConnection.py:174\u001b[0m, in \u001b[0;36mCardConnection.transmit\u001b[0;34m(self, command, protocol)\u001b[0m\n\u001b[1;32m    170\u001b[0m Observable\u001b[38;5;241m.\u001b[39msetChanged(\u001b[38;5;28mself\u001b[39m)\n\u001b[1;32m    171\u001b[0m Observable\u001b[38;5;241m.\u001b[39mnotifyObservers(\n\u001b[1;32m    172\u001b[0m     \u001b[38;5;28mself\u001b[39m, CardConnectionEvent(\u001b[38;5;124m\"\u001b[39m\u001b[38;5;124mcommand\u001b[39m\u001b[38;5;124m\"\u001b[39m, [command, protocol])\n\u001b[1;32m    173\u001b[0m )\n\u001b[0;32m--> 174\u001b[0m data, sw1, sw2 \u001b[38;5;241m=\u001b[39m \u001b[38;5;28;43mself\u001b[39;49m\u001b[38;5;241;43m.\u001b[39;49m\u001b[43mdoTransmit\u001b[49m\u001b[43m(\u001b[49m\u001b[43mcommand\u001b[49m\u001b[43m,\u001b[49m\u001b[43m \u001b[49m\u001b[43mprotocol\u001b[49m\u001b[43m)\u001b[49m\n\u001b[1;32m    175\u001b[0m Observable\u001b[38;5;241m.\u001b[39msetChanged(\u001b[38;5;28mself\u001b[39m)\n\u001b[1;32m    176\u001b[0m Observable\u001b[38;5;241m.\u001b[39mnotifyObservers(\n\u001b[1;32m    177\u001b[0m     \u001b[38;5;28mself\u001b[39m, CardConnectionEvent(\u001b[38;5;124m\"\u001b[39m\u001b[38;5;124mresponse\u001b[39m\u001b[38;5;124m\"\u001b[39m, [data, sw1, sw2])\n\u001b[1;32m    178\u001b[0m )\n",
      "File \u001b[0;32m~/ECTester/ectester/libs_analysis/env/lib/python3.10/site-packages/smartcard/pcsc/PCSCCardConnection.py:267\u001b[0m, in \u001b[0;36mPCSCCardConnection.doTransmit\u001b[0;34m(self, command, protocol)\u001b[0m\n\u001b[1;32m    265\u001b[0m \u001b[38;5;28;01mif\u001b[39;00m \u001b[38;5;28mself\u001b[39m\u001b[38;5;241m.\u001b[39mhcard \u001b[38;5;129;01mis\u001b[39;00m \u001b[38;5;28;01mNone\u001b[39;00m:\n\u001b[1;32m    266\u001b[0m     \u001b[38;5;28;01mraise\u001b[39;00m CardConnectionException(\u001b[38;5;124m\"\u001b[39m\u001b[38;5;124mCard not connected\u001b[39m\u001b[38;5;124m\"\u001b[39m)\n\u001b[0;32m--> 267\u001b[0m hresult, response \u001b[38;5;241m=\u001b[39m \u001b[43mSCardTransmit\u001b[49m\u001b[43m(\u001b[49m\u001b[38;5;28;43mself\u001b[39;49m\u001b[38;5;241;43m.\u001b[39;49m\u001b[43mhcard\u001b[49m\u001b[43m,\u001b[49m\u001b[43m \u001b[49m\u001b[43mpcscprotocolheader\u001b[49m\u001b[43m,\u001b[49m\u001b[43m \u001b[49m\u001b[43mcommand\u001b[49m\u001b[43m)\u001b[49m\n\u001b[1;32m    268\u001b[0m \u001b[38;5;28;01mif\u001b[39;00m hresult \u001b[38;5;241m!=\u001b[39m SCARD_S_SUCCESS:\n\u001b[1;32m    269\u001b[0m     \u001b[38;5;28;01mraise\u001b[39;00m CardConnectionException(\n\u001b[1;32m    270\u001b[0m         \u001b[38;5;124m\"\u001b[39m\u001b[38;5;124mFailed to transmit with protocol \u001b[39m\u001b[38;5;124m\"\u001b[39m\n\u001b[1;32m    271\u001b[0m         \u001b[38;5;241m+\u001b[39m dictProtocolHeader[pcscprotocolheader]\n\u001b[0;32m   (...)\u001b[0m\n\u001b[1;32m    274\u001b[0m         hresult\u001b[38;5;241m=\u001b[39mhresult,\n\u001b[1;32m    275\u001b[0m     )\n",
      "File \u001b[0;32m~/ECTester/ectester/libs_analysis/env/lib/python3.10/site-packages/smartcard/scard/scard.py:997\u001b[0m, in \u001b[0;36mSCardTransmit\u001b[0;34m(hcard, pioSendPci, apducommand)\u001b[0m\n\u001b[1;32m    956\u001b[0m \u001b[38;5;28;01mdef\u001b[39;00m \u001b[38;5;21mSCardTransmit\u001b[39m(hcard, pioSendPci, apducommand):\n\u001b[1;32m    957\u001b[0m \u001b[38;5;250m    \u001b[39m\u001b[38;5;124mr\u001b[39m\u001b[38;5;124;03m\"\"\"\u001b[39;00m\n\u001b[1;32m    958\u001b[0m \u001b[38;5;124;03m    SCardTransmit( hcard, unsigned long pioSendPci, byte[] apducommand) -> SCARDRETCODE\u001b[39;00m\n\u001b[1;32m    959\u001b[0m \n\u001b[0;32m   (...)\u001b[0m\n\u001b[1;32m    995\u001b[0m \n\u001b[1;32m    996\u001b[0m \u001b[38;5;124;03m    \"\"\"\u001b[39;00m\n\u001b[0;32m--> 997\u001b[0m     \u001b[38;5;28;01mreturn\u001b[39;00m \u001b[43m_scard\u001b[49m\u001b[38;5;241;43m.\u001b[39;49m\u001b[43mSCardTransmit\u001b[49m\u001b[43m(\u001b[49m\u001b[43mhcard\u001b[49m\u001b[43m,\u001b[49m\u001b[43m \u001b[49m\u001b[43mpioSendPci\u001b[49m\u001b[43m,\u001b[49m\u001b[43m \u001b[49m\u001b[43mapducommand\u001b[49m\u001b[43m)\u001b[49m\n",
      "\u001b[0;31mKeyboardInterrupt\u001b[0m: "
     ]
    }
   ],
   "source": [
    "target.cleanup()\n"
   ]
  },
  {
   "cell_type": "code",
   "execution_count": null,
   "id": "6514dcd5-9484-4928-80b3-d419de975409",
   "metadata": {},
   "outputs": [],
   "source": [
    "target.disconnect()"
   ]
  },
  {
   "cell_type": "markdown",
   "id": "0b73b805-5d36-4908-8ba9-e5c3023831c0",
   "metadata": {},
   "source": [
    "### Test3n - Keygen"
   ]
  },
  {
   "cell_type": "code",
   "execution_count": 213,
   "id": "4595a86a-7bb8-47cf-b4c9-93babc33a0b2",
   "metadata": {},
   "outputs": [],
   "source": [
    "params = load_params_ectester(\"tests/test3n/curve.csv\", \"affine\")\n",
    "params_csv = read_curve_params(\"tests/test3n/curve.csv\")"
   ]
  },
  {
   "cell_type": "code",
   "execution_count": 214,
   "id": "8977904d-6e11-43ae-a459-413902b87a2d",
   "metadata": {},
   "outputs": [],
   "source": [
    "samples = 1000"
   ]
  },
  {
   "cell_type": "code",
   "execution_count": 215,
   "id": "7880e434-1e72-418a-8a90-c6da659c777d",
   "metadata": {},
   "outputs": [
    {
     "data": {
      "text/plain": [
       "AllocateResponse(sws=[0x3], sw=0x9000, success=False, error=False)"
      ]
     },
     "execution_count": 215,
     "metadata": {},
     "output_type": "execute_result"
    }
   ],
   "source": [
    "target.allocate(KeypairEnum.KEYPAIR_LOCAL,\n",
    "                  KeyBuildEnum.BUILD_KEYBUILDER | KeyBuildEnum.BUILD_KEYPAIR,\n",
    "                  256,\n",
    "                  KeyClassEnum.ALG_EC_FP)"
   ]
  },
  {
   "cell_type": "code",
   "execution_count": 195,
   "id": "2a081121-1a75-4f19-a495-be9cbc76c136",
   "metadata": {},
   "outputs": [
    {
     "data": {
      "text/plain": [
       "SetResponse(sws=[0x9000], sw=0x9000, success=True, error=False)"
      ]
     },
     "execution_count": 195,
     "metadata": {},
     "output_type": "execute_result"
    }
   ],
   "source": [
    "target.set(KeypairEnum.KEYPAIR_LOCAL,\n",
    "             CurveEnum.external,\n",
    "             ParameterEnum.DOMAIN_FP,\n",
    "             ECTesterTargetPCSC.encode_parameters(ParameterEnum.DOMAIN_FP, params))"
   ]
  },
  {
   "cell_type": "code",
   "execution_count": null,
   "id": "013a8a15-b73d-4dea-88a7-67e2c0c73ae8",
   "metadata": {},
   "outputs": [],
   "source": [
    "result_lines = []\n",
    "for _ in range(samples):\n",
    "    generate_response = target.generate(KeypairEnum.KEYPAIR_LOCAL)\n",
    "    error = False\n",
    "    if not generate_response.success:\n",
    "        print(f\"generate: {generate_response.sws}\",end=\", \")\n",
    "        error = True\n",
    "    export = target.export(KeypairEnum.KEYPAIR_LOCAL, KeyEnum.BOTH,ParameterEnum.KEYPAIR)\n",
    "    if not export.success:\n",
    "        print(f\"export: {export.sws}\",end=\", \")\n",
    "        error = True\n",
    "    \n",
    "    try:\n",
    "        key = int(export.params[1].hex(),16)\n",
    "        point = params.curve.decode_point(export.params[0])\n",
    "        point_bytes = export.params[0]\n",
    "        result_lines.append(serialize_keygen_response(generate_response,key,params_csv,point_bytes))\n",
    "    except:\n",
    "        continue"
   ]
  },
  {
   "cell_type": "code",
   "execution_count": null,
   "id": "8e35fbd8-d331-4650-8ef0-b6f9d76b6361",
   "metadata": {},
   "outputs": [],
   "source": [
    "result_lines"
   ]
  },
  {
   "cell_type": "code",
   "execution_count": 204,
   "id": "2fcbb056-7bc9-40c3-872e-23dec4c96305",
   "metadata": {},
   "outputs": [],
   "source": [
    "header = \"success;error;priv;pub;curve;params;apdu;sws\"\n",
    "filename = f\"results/{CARD}/test3n/keygen.csv\"\n",
    "if os.path.isfile(filename):\n",
    "    print(\"Measurement already exists\")\n",
    "with open(filename,\"w\") as f:\n",
    "    f.write(f\"{header}\\n\")\n",
    "    for line in result_lines:\n",
    "        f.write(f\"{line}\\n\")"
   ]
  },
  {
   "cell_type": "code",
   "execution_count": null,
   "id": "7ca57c7d-3cf9-44b6-9060-33ff67db6d47",
   "metadata": {},
   "outputs": [],
   "source": [
    "target.disconnect()"
   ]
  },
  {
   "cell_type": "markdown",
   "id": "c147a398-a66b-464f-9a4d-0b4978c46307",
   "metadata": {},
   "source": [
    "### Testinverse - ECDH"
   ]
  },
  {
   "cell_type": "code",
   "execution_count": 51,
   "id": "33e2dd59-6d6a-4bbc-b5d3-8f8a76ff7229",
   "metadata": {},
   "outputs": [],
   "source": [
    "params = load_params_ectester(\"tests/testinverse/cofactor256p11_full.csv\", \"affine\")\n",
    "params_csv = read_curve_params(\"tests/testinverse/cofactor256p11_full.csv\")\n",
    "point_bytes = get_point_bytes(\"tests/testinverse/point_11n.csv\")\n",
    "with open(\"tests/testinverse/key.csv\") as f:\n",
    "    key = int(f.read(),16)"
   ]
  },
  {
   "cell_type": "code",
   "execution_count": 52,
   "id": "4e5c98f0-8c7a-4330-ad9c-7462ae4c87ab",
   "metadata": {},
   "outputs": [],
   "source": [
    "samples = 100"
   ]
  },
  {
   "cell_type": "code",
   "execution_count": 53,
   "id": "a9aba5f9-045f-404e-b144-cbac0f73888a",
   "metadata": {},
   "outputs": [
    {
     "data": {
      "text/plain": [
       "AllocateKaResponse(sws=[0x9000], sw=0x9000, success=True, error=False)"
      ]
     },
     "execution_count": 53,
     "metadata": {},
     "output_type": "execute_result"
    }
   ],
   "source": [
    "target.allocate_ka(KeyAgreementEnum.ALG_EC_SVDP_DH)"
   ]
  },
  {
   "cell_type": "code",
   "execution_count": 54,
   "id": "a9e510a8-019e-4817-a3b4-58cdb51bbbdb",
   "metadata": {},
   "outputs": [
    {
     "data": {
      "text/plain": [
       "SetResponse(sws=[0x9000], sw=0x9000, success=True, error=False)"
      ]
     },
     "execution_count": 54,
     "metadata": {},
     "output_type": "execute_result"
    }
   ],
   "source": [
    "target.set(KeypairEnum.KEYPAIR_LOCAL,\n",
    "             CurveEnum.external,\n",
    "             ParameterEnum.DOMAIN_FP,\n",
    "             ECTesterTargetPCSC.encode_parameters(ParameterEnum.DOMAIN_FP, params))"
   ]
  },
  {
   "cell_type": "code",
   "execution_count": 55,
   "id": "4cef1b6b-1c70-4a64-aa54-4f7f1c420cd7",
   "metadata": {},
   "outputs": [
    {
     "data": {
      "text/plain": [
       "SetResponse(sws=[0x9000], sw=0x9000, success=True, error=False)"
      ]
     },
     "execution_count": 55,
     "metadata": {},
     "output_type": "execute_result"
    }
   ],
   "source": [
    "target.set(KeypairEnum.KEYPAIR_LOCAL,\n",
    "             CurveEnum.external,\n",
    "             ParameterEnum.S,\n",
    "             ECTesterTargetPCSC.encode_parameters(ParameterEnum.S, key))"
   ]
  },
  {
   "cell_type": "code",
   "execution_count": 56,
   "id": "d4bf4415-6a06-47aa-970a-1d33426435c3",
   "metadata": {},
   "outputs": [],
   "source": [
    "result_lines = []\n",
    "\n",
    "for _ in range(samples):\n",
    "    result = target.ecdh_direct(KeypairEnum.KEYPAIR_LOCAL,\n",
    "                         True,\n",
    "                         TransformationEnum.NONE,\n",
    "                         KeyAgreementEnum.ALG_EC_SVDP_DH,\n",
    "                         point_bytes) # pubkey as bytes\n",
    "    if not result.success:\n",
    "        print(result)\n",
    "    result_lines.append(serialize_ecdh_response(result,params_csv,point_bytes,key))"
   ]
  },
  {
   "cell_type": "code",
   "execution_count": 58,
   "id": "fe139916-e09f-4714-b74d-4a4e6f0ee268",
   "metadata": {},
   "outputs": [],
   "source": [
    "filename = f\"results/{CARD}/testinverse/ecdh.csv\"\n",
    "if os.path.isfile(filename):\n",
    "    print(\"Measurement already exists\")\n",
    "with open(filename,\"w\") as f:\n",
    "    for line in result_lines:\n",
    "        f.write(f\"{line}\\n\")"
   ]
  },
  {
   "cell_type": "code",
   "execution_count": 59,
   "id": "72052224-dfd6-42b4-ba95-1dc04a919aa4",
   "metadata": {},
   "outputs": [
    {
     "data": {
      "text/plain": [
       "CleanupResponse(sws=[0x9000], sw=0x9000, success=True, error=False)"
      ]
     },
     "execution_count": 59,
     "metadata": {},
     "output_type": "execute_result"
    }
   ],
   "source": [
    "target.cleanup()"
   ]
  },
  {
   "cell_type": "code",
   "execution_count": null,
   "id": "8c74e904-3ca1-4cab-af00-60f851f3045e",
   "metadata": {},
   "outputs": [],
   "source": [
    "target.disconnect()"
   ]
  },
  {
   "cell_type": "markdown",
   "id": "519acbea-ded4-471c-8f4a-1664fc276455",
   "metadata": {},
   "source": [
    "### Testinverse - ECDSA"
   ]
  },
  {
   "cell_type": "code",
   "execution_count": 22,
   "id": "70932e65-8246-4f1e-8e45-79faa46e579c",
   "metadata": {},
   "outputs": [],
   "source": [
    "target.connect()"
   ]
  },
  {
   "cell_type": "code",
   "execution_count": 7,
   "id": "d965ad90-8692-4152-a3bf-9641e058a9f2",
   "metadata": {},
   "outputs": [],
   "source": [
    "params = load_params_ectester(\"tests/testinverse/cofactor256p11_full.csv\", \"affine\")\n",
    "params_csv = read_curve_params(\"tests/testinverse/cofactor256p11_full.csv\")\n",
    "point_bytes = get_point_bytes(\"tests/testinverse/point_11n.csv\")\n",
    "point = params.curve.decode_point(point_bytes)\n",
    "\n",
    "with open(\"tests/testinverse/key.csv\") as f:\n",
    "    key = int(f.read(),16)"
   ]
  },
  {
   "cell_type": "code",
   "execution_count": 8,
   "id": "6859176c-c60c-4aec-a18d-90e1c5e59f78",
   "metadata": {},
   "outputs": [],
   "source": [
    "samples = 100\n",
    "fixed_key = False\n",
    "data = bytes.fromhex(\"e8c86c9596e46403c211206617b8bcdd160a673b0b1304869f5559e3afe99d79\")"
   ]
  },
  {
   "cell_type": "code",
   "execution_count": 9,
   "id": "7c38ca2a-417e-450d-8093-a9f2c757f26b",
   "metadata": {},
   "outputs": [
    {
     "data": {
      "text/plain": [
       "AllocateSigResponse(sws=[0x9000], sw=0x9000, success=True, error=False)"
      ]
     },
     "execution_count": 9,
     "metadata": {},
     "output_type": "execute_result"
    }
   ],
   "source": [
    "target.allocate_sig(SignatureEnum.ALG_ECDSA_SHA)"
   ]
  },
  {
   "cell_type": "code",
   "execution_count": 10,
   "id": "38f4499a-97ad-49ba-aec9-d99aa264867c",
   "metadata": {},
   "outputs": [
    {
     "data": {
      "text/plain": [
       "SetResponse(sws=[0x9000], sw=0x9000, success=True, error=False)"
      ]
     },
     "execution_count": 10,
     "metadata": {},
     "output_type": "execute_result"
    }
   ],
   "source": [
    "target.set(KeypairEnum.KEYPAIR_LOCAL,\n",
    "             CurveEnum.external,\n",
    "             ParameterEnum.DOMAIN_FP,\n",
    "             ECTesterTargetPCSC.encode_parameters(ParameterEnum.DOMAIN_FP, params))"
   ]
  },
  {
   "cell_type": "code",
   "execution_count": 11,
   "id": "7b1a48cc-6aa3-480e-b9a6-f82b0417275a",
   "metadata": {},
   "outputs": [
    {
     "name": "stdout",
     "output_type": "stream",
     "text": [
      "GenerateResponse(sws=[0x9000], sw=0x9000, success=True, error=False)\n",
      "ExportResponse(sws=[0x9000], sw=0x9000, success=True, error=False, keypair=KEYPAIR_LOCAL, key=BOTH, params=KEYPAIR)\n"
     ]
    }
   ],
   "source": [
    "if fixed_key:\n",
    "    keypair_dict = ECTesterTargetPCSC.encode_parameters(ParameterEnum.S, key)\n",
    "    keypair_dict.update(ECTesterTargetPCSC.encode_parameters(ParameterEnum.W, point))\n",
    "    print(target.set(KeypairEnum.KEYPAIR_LOCAL,\n",
    "                 CurveEnum.external,\n",
    "                 ParameterEnum.KEYPAIR,\n",
    "                 keypair_dict))\n",
    "else:\n",
    "    print(target.generate(KeypairEnum.KEYPAIR_LOCAL))\n",
    "    export = target.export(KeypairEnum.KEYPAIR_LOCAL, KeyEnum.BOTH,ParameterEnum.KEYPAIR)\n",
    "    print(export)\n",
    "    key = int(export.params[1].hex(),16)\n",
    "    point = params.curve.decode_point(export.params[0])\n",
    "    point_bytes = export.params[0]"
   ]
  },
  {
   "cell_type": "code",
   "execution_count": 12,
   "id": "3b04e99a-43f4-4cf1-9f2c-d15c541cbc1a",
   "metadata": {},
   "outputs": [
    {
     "name": "stdout",
     "output_type": "stream",
     "text": [
      "ECDSAResponse(sws=[0xee1], sw=0x9000, success=False, error=False, sig=3045022100b7a1ad7daaa91c559046f314f54f556b0755a0de0546023c43e7604fe9ed1fcc022053cfcb6bd1d819176bb27a7f01c3b9b278e15855f3fb578ff5d80a0a8dcedc2c)\n",
      "ECDSAResponse(sws=[0xee1], sw=0x9000, success=False, error=False, sig=304402207b00aaa06e824519f0fc475641999088b987c5032d93c4faadaf6ed9849d864302205784ebecbee557ab096610c39717ddaffcdf115d3d0c3d824a28ebd0525c0ad6)\n",
      "ECDSAResponse(sws=[0xee1], sw=0x9000, success=False, error=False, sig=30450220246ea8a99be18caa06ad09f34a06ea024bbacdc6583d9e300f14e59c1b77753a0221008460644a4c21ef6947876afd0fae698a9cb2b89375cc1e7ba1724fa32ab9aaa8)\n",
      "ECDSAResponse(sws=[0xee1], sw=0x9000, success=False, error=False, sig=3045022100ad9e83310d27ec5f7abca5c692fd5f471d77a3d941b7fcfc83c3b8d4a56d2c3202204423d7d357f24f7f52c82b001bb8597f6dab0286d3d735558c3ae19e9d017501)\n",
      "ECDSAResponse(sws=[0xee1], sw=0x9000, success=False, error=False, sig=30440220565efd10fdf1f946f23cf3c02117b3eb5c78404ba884e77ad7653ec04221441702207ec7e663d2b3b99ae7974762e3e2c4f48d717c279e138bd8f4aebdff53c6f9d2)\n",
      "ECDSAResponse(sws=[0xee1], sw=0x9000, success=False, error=False, sig=304402203f7066e5058d7f81c1fe50f55e09b587a312e5ed22b818d59dc42dfeae008830022024f5135635ff1a8530e37151aefb296943d478d9d6ece2422637605fcae786d1)\n",
      "ECDSAResponse(sws=[0xee1], sw=0x9000, success=False, error=False, sig=30450221009155eca05abb92446feac95cc9c8a68d4a28224d2b3a0a974901ade81c8c867302203d1ef9965e3108aaa9aac24a61c05def2cf529cc463f7c5bfdf30ffe265fd4a5)\n",
      "ECDSAResponse(sws=[0xee1], sw=0x9000, success=False, error=False, sig=3044022025dba80a32c4fd3113546b720dc919a7cea69e281d868413a3848d61a3dd93e2022064a2c0ebe91513c2196d6e740e8d40b0e7ba175cf71ff37eb414c1c5b43e2aa5)\n",
      "ECDSAResponse(sws=[0xee1], sw=0x9000, success=False, error=False, sig=3044022013c6f4a6ef818f36c0f4779c2a080596bc7fe395191b985fa157314a17be8f6602200829eae3a61e89ce8f35cf2999b41b41b3a4e933c6c2b2747482c092b7b9d82c)\n",
      "ECDSAResponse(sws=[0xee1], sw=0x9000, success=False, error=False, sig=3046022100bd79ebe4616aeeb5d01c03a0045f2d35fc3d329eac42a436220096d44a24ab2f02210080415b761b0138694e177f9f8d6d851485f0116387913b316f34b17cca7d2fbc)\n",
      "ECDSAResponse(sws=[0xee1], sw=0x9000, success=False, error=False, sig=304502205bc44571adde2f051423620385c3815614997656bbb818834e29d1b0a893a7be0221008a6f4230078c723676bbb36a1b31439288d628cebdc03100d7ede023943f8000)\n",
      "ECDSAResponse(sws=[0xee1], sw=0x9000, success=False, error=False, sig=304502203c55a21518235a1a299e9ec8559454369285217e504e3ab945c5d9497f2634ad02210089346da34207b1a097a3df7667520ad1f6dcbe460fa1bfeb3d4501f1fe7d0348)\n",
      "ECDSAResponse(sws=[0xee1], sw=0x9000, success=False, error=False, sig=3045022008d6dfe93ef19908d9874000934edc375398f897b00f1f15dfb9fe3722bbf7710221008075adaf60ec9601510d432ab055de6ce8757e7ac7f0d2a9b6784d3a66c09041)\n",
      "ECDSAResponse(sws=[0xee1], sw=0x9000, success=False, error=False, sig=30460221008c42251028c17363772331c75e994b56a992bb95397e445138247e994973912402210085cfd11431bd29809b4ce133ac0cb7db12fffeb2e3e276a40767f2438505891a)\n",
      "ECDSAResponse(sws=[0xee1], sw=0x9000, success=False, error=False, sig=304402200df4ad00ed4a98010bd054603362601b76c03fe45fe6e8833b84aaf7c17ed19c0220759b1b892cb5152936beb657ed1f5b71762ae50ccba81617fc20e046d2cdf729)\n",
      "ECDSAResponse(sws=[0xee1], sw=0x9000, success=False, error=False, sig=304502201a1c6e6536003eff5798f1643b16cf03aa4a1c42b02f8cdffb37a3e18b926d770221009f20fdb07ee9b49bade03e361dd0d21ac3ab268b083c81ccfd40c4d36209f251)\n",
      "ECDSAResponse(sws=[0xee1], sw=0x9000, success=False, error=False, sig=3046022100c760d929ef4ff8a96cd3b03817d02a3010a0c4372b469d06139f7bb2df470d8d022100920cc5203fd3c4a6b142c0a77e31e9df8bf2e10c3f89d34ebb30bb03e6f85bb6)\n"
     ]
    }
   ],
   "source": [
    "result_lines = []\n",
    "\n",
    "for _ in range(samples):\n",
    "    sign_response = target.ecdsa(KeypairEnum.KEYPAIR_LOCAL,True,SignatureEnum.ALG_ECDSA_SHA,data)\n",
    "    if not sign_response.success:\n",
    "        print(sign_response)\n",
    "    # verify_response = target.ecdsa(KeypairEnum.KEYPAIR_LOCAL,True,SignatureEnum.ALG_ECDSA_SHA,data)\n",
    "    result_lines.append(serialize_ecdsa_response(sign_response,data,params,key,params_csv,point_bytes))"
   ]
  },
  {
   "cell_type": "code",
   "execution_count": 13,
   "id": "50389671-934f-45ad-9511-0b46af7cecd5",
   "metadata": {},
   "outputs": [],
   "source": [
    "filename = f\"results/{CARD}/testinverse/ecdsa.csv\" if not fixed_key else f\"results/{CARD}/testinverse/ecdsa_fixedkey.csv\"\n",
    "if os.path.isfile(filename):\n",
    "    print(\"Measurement already exists\")\n",
    "with open(filename,\"w\") as f:\n",
    "    for line in result_lines:\n",
    "        f.write(f\"{line}\\n\")"
   ]
  },
  {
   "cell_type": "code",
   "execution_count": 14,
   "id": "06564085-bcb0-4108-80f2-f14d51062967",
   "metadata": {},
   "outputs": [
    {
     "data": {
      "text/plain": [
       "CleanupResponse(sws=[0x9000], sw=0x9000, success=True, error=False)"
      ]
     },
     "execution_count": 14,
     "metadata": {},
     "output_type": "execute_result"
    }
   ],
   "source": [
    "target.cleanup()"
   ]
  },
  {
   "cell_type": "code",
   "execution_count": null,
   "id": "ae49a097-4622-4056-ba0b-d3fcfd8e4a72",
   "metadata": {},
   "outputs": [],
   "source": [
    "target.disconnect()"
   ]
  },
  {
   "cell_type": "markdown",
   "id": "853c5302-2a4f-4798-8d06-e030dc686c38",
   "metadata": {},
   "source": [
    "### Test3n - Keygen"
   ]
  },
  {
   "cell_type": "code",
   "execution_count": 15,
   "id": "d360b9c5-2076-481c-baa9-0524098e5f27",
   "metadata": {},
   "outputs": [],
   "source": [
    "divisor = 11\n",
    "params = load_params_ectester(f\"tests/testinverse/cofactor256p{divisor}_full.csv\", \"affine\")\n",
    "params_csv = read_curve_params(f\"tests/testinverse/cofactor256p{divisor}_full.csv\")"
   ]
  },
  {
   "cell_type": "code",
   "execution_count": 16,
   "id": "0b7dba4e-39a1-4559-8065-8f40074c1792",
   "metadata": {},
   "outputs": [],
   "source": [
    "samples = 10"
   ]
  },
  {
   "cell_type": "code",
   "execution_count": 17,
   "id": "8bc87547-1186-44f8-b575-d61fd247d92c",
   "metadata": {},
   "outputs": [
    {
     "data": {
      "text/plain": [
       "AllocateKaResponse(sws=[0x9000], sw=0x9000, success=True, error=False)"
      ]
     },
     "execution_count": 17,
     "metadata": {},
     "output_type": "execute_result"
    }
   ],
   "source": [
    "target.allocate_ka(KeypairEnum.KEYPAIR_LOCAL)"
   ]
  },
  {
   "cell_type": "code",
   "execution_count": 18,
   "id": "087ec5a5-c336-49f5-858a-6982dba8cba8",
   "metadata": {},
   "outputs": [
    {
     "data": {
      "text/plain": [
       "SetResponse(sws=[0x9000], sw=0x9000, success=True, error=False)"
      ]
     },
     "execution_count": 18,
     "metadata": {},
     "output_type": "execute_result"
    }
   ],
   "source": [
    "target.set(KeypairEnum.KEYPAIR_LOCAL,\n",
    "             CurveEnum.external,\n",
    "             ParameterEnum.DOMAIN_FP,\n",
    "             ECTesterTargetPCSC.encode_parameters(ParameterEnum.DOMAIN_FP, params))"
   ]
  },
  {
   "cell_type": "code",
   "execution_count": 19,
   "id": "ca66f4a8-0592-41fd-b585-af564782bcc2",
   "metadata": {},
   "outputs": [],
   "source": [
    "result_lines = []\n",
    "for _ in range(samples):\n",
    "    generate_response = target.generate(KeypairEnum.KEYPAIR_LOCAL)\n",
    "    if not generate_response.success:\n",
    "        print(generate_response)\n",
    "    export = target.export(KeypairEnum.KEYPAIR_LOCAL, KeyEnum.BOTH,ParameterEnum.KEYPAIR)\n",
    "    if not export.success:\n",
    "        print(export)\n",
    "    key = int(export.params[1].hex(),16)\n",
    "    point = params.curve.decode_point(export.params[0])\n",
    "    point_bytes = export.params[0]\n",
    "    result_lines.append(serialize_keygen_response(generate_response,key,params_csv,point_bytes))"
   ]
  },
  {
   "cell_type": "code",
   "execution_count": 20,
   "id": "136b6482-1fab-4380-8c8b-89d453845d58",
   "metadata": {},
   "outputs": [],
   "source": [
    "filename = f\"results/{CARD}/testinverse/keygen_{divisor}.csv\"\n",
    "if os.path.isfile(filename):\n",
    "    print(\"Measurement already exists\")\n",
    "with open(filename,\"w\") as f:\n",
    "    for line in result_lines:\n",
    "        f.write(f\"{line}\\n\")"
   ]
  },
  {
   "cell_type": "code",
   "execution_count": 21,
   "id": "76307bc8-6b02-450e-81ce-505d9a18f009",
   "metadata": {},
   "outputs": [],
   "source": [
    "target.disconnect()"
   ]
  },
  {
   "cell_type": "markdown",
   "id": "55b6a278-ab84-4c97-a9f1-b379699cbff5",
   "metadata": {},
   "source": [
    "### Test10 - ECDH"
   ]
  },
  {
   "cell_type": "code",
   "execution_count": 30,
   "id": "aaab3211-8b0b-41fa-bb68-a65234f32880",
   "metadata": {},
   "outputs": [],
   "source": [
    "params = load_params_ectester(\"tests/testk10/secp256r1.csv\", \"affine\")\n",
    "params_csv = read_curve_params(\"tests/testk10/secp256r1.csv\")\n",
    "point_bytes = get_point_bytes(\"tests/testk10/secgpoint.csv\")\n",
    "with open(\"tests/testk10/key_10.csv\") as f:\n",
    "    key = int(f.read(),16)"
   ]
  },
  {
   "cell_type": "code",
   "execution_count": 31,
   "id": "fc60fce3-944a-414a-8b0a-fafbe1db2a4b",
   "metadata": {},
   "outputs": [],
   "source": [
    "samples = 100"
   ]
  },
  {
   "cell_type": "code",
   "execution_count": 32,
   "id": "2a646481-71c0-4c65-b4ba-62957ae72a3f",
   "metadata": {},
   "outputs": [
    {
     "data": {
      "text/plain": [
       "AllocateKaResponse(sws=[0x9000], sw=0x9000, success=True, error=False)"
      ]
     },
     "execution_count": 32,
     "metadata": {},
     "output_type": "execute_result"
    }
   ],
   "source": [
    "target.allocate_ka(KeyAgreementEnum.ALG_EC_SVDP_DH)"
   ]
  },
  {
   "cell_type": "code",
   "execution_count": 33,
   "id": "1493b7cc-e5e6-46a6-a2e5-27247e670cfb",
   "metadata": {},
   "outputs": [
    {
     "data": {
      "text/plain": [
       "SetResponse(sws=[0x9000], sw=0x9000, success=True, error=False)"
      ]
     },
     "execution_count": 33,
     "metadata": {},
     "output_type": "execute_result"
    }
   ],
   "source": [
    "target.set(KeypairEnum.KEYPAIR_LOCAL,\n",
    "             CurveEnum.external,\n",
    "             ParameterEnum.DOMAIN_FP,\n",
    "             ECTesterTargetPCSC.encode_parameters(ParameterEnum.DOMAIN_FP, params))"
   ]
  },
  {
   "cell_type": "code",
   "execution_count": 34,
   "id": "b2296297-23d9-4af9-8d8d-5dbd2db1004a",
   "metadata": {},
   "outputs": [
    {
     "data": {
      "text/plain": [
       "SetResponse(sws=[0x9000], sw=0x9000, success=True, error=False)"
      ]
     },
     "execution_count": 34,
     "metadata": {},
     "output_type": "execute_result"
    }
   ],
   "source": [
    "target.set(KeypairEnum.KEYPAIR_LOCAL,\n",
    "             CurveEnum.external,\n",
    "             ParameterEnum.S,\n",
    "             ECTesterTargetPCSC.encode_parameters(ParameterEnum.S, key))"
   ]
  },
  {
   "cell_type": "code",
   "execution_count": 35,
   "id": "1ed11d52-d7cd-471e-9ac3-02b9248dfb9a",
   "metadata": {},
   "outputs": [
    {
     "ename": "CardConnectionException",
     "evalue": "Failed to transmit with protocol T1. Transaction failed.: Transaction failed. (0x80100016)",
     "output_type": "error",
     "traceback": [
      "\u001b[0;31m---------------------------------------------------------------------------\u001b[0m",
      "\u001b[0;31mCardConnectionException\u001b[0m                   Traceback (most recent call last)",
      "Cell \u001b[0;32mIn[35], line 4\u001b[0m\n\u001b[1;32m      1\u001b[0m result_lines \u001b[38;5;241m=\u001b[39m []\n\u001b[1;32m      3\u001b[0m \u001b[38;5;28;01mfor\u001b[39;00m _ \u001b[38;5;129;01min\u001b[39;00m \u001b[38;5;28mrange\u001b[39m(samples):\n\u001b[0;32m----> 4\u001b[0m     result \u001b[38;5;241m=\u001b[39m \u001b[43mtarget\u001b[49m\u001b[38;5;241;43m.\u001b[39;49m\u001b[43mecdh_direct\u001b[49m\u001b[43m(\u001b[49m\u001b[43mKeypairEnum\u001b[49m\u001b[38;5;241;43m.\u001b[39;49m\u001b[43mKEYPAIR_LOCAL\u001b[49m\u001b[43m,\u001b[49m\n\u001b[1;32m      5\u001b[0m \u001b[43m                         \u001b[49m\u001b[38;5;28;43;01mTrue\u001b[39;49;00m\u001b[43m,\u001b[49m\n\u001b[1;32m      6\u001b[0m \u001b[43m                         \u001b[49m\u001b[43mTransformationEnum\u001b[49m\u001b[38;5;241;43m.\u001b[39;49m\u001b[43mNONE\u001b[49m\u001b[43m,\u001b[49m\n\u001b[1;32m      7\u001b[0m \u001b[43m                         \u001b[49m\u001b[43mKeyAgreementEnum\u001b[49m\u001b[38;5;241;43m.\u001b[39;49m\u001b[43mALG_EC_SVDP_DH\u001b[49m\u001b[43m,\u001b[49m\n\u001b[1;32m      8\u001b[0m \u001b[43m                         \u001b[49m\u001b[43mpoint_bytes\u001b[49m\u001b[43m)\u001b[49m \u001b[38;5;66;03m# pubkey as bytes\u001b[39;00m\n\u001b[1;32m      9\u001b[0m     \u001b[38;5;28;01mif\u001b[39;00m \u001b[38;5;129;01mnot\u001b[39;00m result\u001b[38;5;241m.\u001b[39msuccess:\n\u001b[1;32m     10\u001b[0m         \u001b[38;5;28mprint\u001b[39m(result)\n",
      "File \u001b[0;32m~/ECTester/ectester/libs_analysis/env/lib/python3.10/site-packages/pyecsca/sca/target/ectester.py:875\u001b[0m, in \u001b[0;36mECTesterTarget.ecdh_direct\u001b[0;34m(self, privkey, export, transformation, ka_type, pubkey)\u001b[0m\n\u001b[1;32m    857\u001b[0m \u001b[38;5;28;01mdef\u001b[39;00m \u001b[38;5;21mecdh_direct\u001b[39m(\n\u001b[1;32m    858\u001b[0m     \u001b[38;5;28mself\u001b[39m,\n\u001b[1;32m    859\u001b[0m     privkey: KeypairEnum,\n\u001b[0;32m   (...)\u001b[0m\n\u001b[1;32m    863\u001b[0m     pubkey: \u001b[38;5;28mbytes\u001b[39m,\n\u001b[1;32m    864\u001b[0m ) \u001b[38;5;241m-\u001b[39m\u001b[38;5;241m>\u001b[39m ECDHResponse:\n\u001b[1;32m    865\u001b[0m \u001b[38;5;250m    \u001b[39m\u001b[38;5;124;03m\"\"\"\u001b[39;00m\n\u001b[1;32m    866\u001b[0m \u001b[38;5;124;03m    Send the ECDH direct command.\u001b[39;00m\n\u001b[1;32m    867\u001b[0m \n\u001b[0;32m   (...)\u001b[0m\n\u001b[1;32m    873\u001b[0m \u001b[38;5;124;03m    :return: The response.\u001b[39;00m\n\u001b[1;32m    874\u001b[0m \u001b[38;5;124;03m    \"\"\"\u001b[39;00m\n\u001b[0;32m--> 875\u001b[0m     resp \u001b[38;5;241m=\u001b[39m \u001b[38;5;28;43mself\u001b[39;49m\u001b[38;5;241;43m.\u001b[39;49m\u001b[43msend\u001b[49m\u001b[43m(\u001b[49m\n\u001b[1;32m    876\u001b[0m \u001b[43m        \u001b[49m\u001b[43mCommandAPDU\u001b[49m\u001b[43m(\u001b[49m\n\u001b[1;32m    877\u001b[0m \u001b[43m            \u001b[49m\u001b[38;5;28;43mself\u001b[39;49m\u001b[38;5;241;43m.\u001b[39;49m\u001b[43mCLA_ECTESTER\u001b[49m\u001b[43m,\u001b[49m\n\u001b[1;32m    878\u001b[0m \u001b[43m            \u001b[49m\u001b[43mInstructionEnum\u001b[49m\u001b[38;5;241;43m.\u001b[39;49m\u001b[43mINS_ECDH_DIRECT\u001b[49m\u001b[43m,\u001b[49m\n\u001b[1;32m    879\u001b[0m \u001b[43m            \u001b[49m\u001b[43mprivkey\u001b[49m\u001b[43m,\u001b[49m\n\u001b[1;32m    880\u001b[0m \u001b[43m            \u001b[49m\u001b[43mExportEnum\u001b[49m\u001b[38;5;241;43m.\u001b[39;49m\u001b[43mfrom_bool\u001b[49m\u001b[43m(\u001b[49m\u001b[43mexport\u001b[49m\u001b[43m)\u001b[49m\u001b[43m,\u001b[49m\n\u001b[1;32m    881\u001b[0m \u001b[43m            \u001b[49m\u001b[43mtransformation\u001b[49m\u001b[38;5;241;43m.\u001b[39;49m\u001b[43mto_bytes\u001b[49m\u001b[43m(\u001b[49m\u001b[38;5;241;43m2\u001b[39;49m\u001b[43m,\u001b[49m\u001b[43m \u001b[49m\u001b[38;5;124;43m\"\u001b[39;49m\u001b[38;5;124;43mbig\u001b[39;49m\u001b[38;5;124;43m\"\u001b[39;49m\u001b[43m)\u001b[49m\n\u001b[1;32m    882\u001b[0m \u001b[43m            \u001b[49m\u001b[38;5;241;43m+\u001b[39;49m\u001b[43m \u001b[49m\u001b[38;5;28;43mbytes\u001b[39;49m\u001b[43m(\u001b[49m\u001b[43m[\u001b[49m\u001b[43mka_type\u001b[49m\u001b[43m]\u001b[49m\u001b[43m)\u001b[49m\n\u001b[1;32m    883\u001b[0m \u001b[43m            \u001b[49m\u001b[38;5;241;43m+\u001b[39;49m\u001b[43m \u001b[49m\u001b[38;5;28;43mlen\u001b[39;49m\u001b[43m(\u001b[49m\u001b[43mpubkey\u001b[49m\u001b[43m)\u001b[49m\u001b[38;5;241;43m.\u001b[39;49m\u001b[43mto_bytes\u001b[49m\u001b[43m(\u001b[49m\u001b[38;5;241;43m2\u001b[39;49m\u001b[43m,\u001b[49m\u001b[43m \u001b[49m\u001b[38;5;124;43m\"\u001b[39;49m\u001b[38;5;124;43mbig\u001b[39;49m\u001b[38;5;124;43m\"\u001b[39;49m\u001b[43m)\u001b[49m\n\u001b[1;32m    884\u001b[0m \u001b[43m            \u001b[49m\u001b[38;5;241;43m+\u001b[39;49m\u001b[43m \u001b[49m\u001b[43mpubkey\u001b[49m\u001b[43m,\u001b[49m\n\u001b[1;32m    885\u001b[0m \u001b[43m        \u001b[49m\u001b[43m)\u001b[49m\n\u001b[1;32m    886\u001b[0m \u001b[43m    \u001b[49m\u001b[43m)\u001b[49m\n\u001b[1;32m    887\u001b[0m     \u001b[38;5;28;01mreturn\u001b[39;00m ECDHResponse(resp, export)\n",
      "File \u001b[0;32m~/ECTester/ectester/libs_analysis/env/lib/python3.10/site-packages/pyecsca/sca/target/ectester.py:557\u001b[0m, in \u001b[0;36mECTesterTarget.send\u001b[0;34m(self, apdu)\u001b[0m\n\u001b[1;32m    555\u001b[0m             \u001b[38;5;28;01mraise\u001b[39;00m ChunkingException()\n\u001b[1;32m    556\u001b[0m     apdu \u001b[38;5;241m=\u001b[39m CommandAPDU(\u001b[38;5;28mself\u001b[39m\u001b[38;5;241m.\u001b[39mCLA_ECTESTER, InstructionEnum\u001b[38;5;241m.\u001b[39mINS_PERFORM, \u001b[38;5;241m0\u001b[39m, \u001b[38;5;241m0\u001b[39m)\n\u001b[0;32m--> 557\u001b[0m resp \u001b[38;5;241m=\u001b[39m \u001b[38;5;28;43mself\u001b[39;49m\u001b[38;5;241;43m.\u001b[39;49m\u001b[43msend_apdu\u001b[49m\u001b[43m(\u001b[49m\u001b[43mapdu\u001b[49m\u001b[43m)\u001b[49m\n\u001b[1;32m    558\u001b[0m \u001b[38;5;28;01mif\u001b[39;00m resp\u001b[38;5;241m.\u001b[39msw \u001b[38;5;241m&\u001b[39m \u001b[38;5;241m0xFF00\u001b[39m \u001b[38;5;241m==\u001b[39m ISO7816\u001b[38;5;241m.\u001b[39mSW_BYTES_REMAINING_00:\n\u001b[1;32m    559\u001b[0m     resp \u001b[38;5;241m=\u001b[39m \u001b[38;5;28mself\u001b[39m\u001b[38;5;241m.\u001b[39msend_apdu(\n\u001b[1;32m    560\u001b[0m         CommandAPDU(\u001b[38;5;241m0x00\u001b[39m, \u001b[38;5;241m0xC0\u001b[39m, \u001b[38;5;241m0x00\u001b[39m, \u001b[38;5;241m0x00\u001b[39m, \u001b[38;5;28;01mNone\u001b[39;00m, resp\u001b[38;5;241m.\u001b[39msw \u001b[38;5;241m&\u001b[39m \u001b[38;5;241m0xFF\u001b[39m)\n\u001b[1;32m    561\u001b[0m     )\n",
      "File \u001b[0;32m~/ECTester/ectester/libs_analysis/env/lib/python3.10/site-packages/pyecsca/sca/target/PCSC.py:59\u001b[0m, in \u001b[0;36mPCSCTarget.send_apdu\u001b[0;34m(self, apdu)\u001b[0m\n\u001b[1;32m     58\u001b[0m \u001b[38;5;28;01mdef\u001b[39;00m \u001b[38;5;21msend_apdu\u001b[39m(\u001b[38;5;28mself\u001b[39m, apdu: CommandAPDU) \u001b[38;5;241m-\u001b[39m\u001b[38;5;241m>\u001b[39m ResponseAPDU:\n\u001b[0;32m---> 59\u001b[0m     resp, sw1, sw2 \u001b[38;5;241m=\u001b[39m \u001b[38;5;28;43mself\u001b[39;49m\u001b[38;5;241;43m.\u001b[39;49m\u001b[43mconnection\u001b[49m\u001b[38;5;241;43m.\u001b[39;49m\u001b[43mtransmit\u001b[49m\u001b[43m(\u001b[49m\u001b[38;5;28;43mlist\u001b[39;49m\u001b[43m(\u001b[49m\u001b[38;5;28;43mbytes\u001b[39;49m\u001b[43m(\u001b[49m\u001b[43mapdu\u001b[49m\u001b[43m)\u001b[49m\u001b[43m)\u001b[49m\u001b[43m)\u001b[49m\n\u001b[1;32m     60\u001b[0m     \u001b[38;5;28;01mreturn\u001b[39;00m ResponseAPDU(\u001b[38;5;28mbytes\u001b[39m(resp), sw1 \u001b[38;5;241m<<\u001b[39m \u001b[38;5;241m8\u001b[39m \u001b[38;5;241m|\u001b[39m sw2)\n",
      "File \u001b[0;32m~/ECTester/ectester/libs_analysis/env/lib/python3.10/site-packages/smartcard/CardConnectionDecorator.py:86\u001b[0m, in \u001b[0;36mCardConnectionDecorator.transmit\u001b[0;34m(self, command, protocol)\u001b[0m\n\u001b[1;32m     84\u001b[0m \u001b[38;5;28;01mdef\u001b[39;00m \u001b[38;5;21mtransmit\u001b[39m(\u001b[38;5;28mself\u001b[39m, command, protocol\u001b[38;5;241m=\u001b[39m\u001b[38;5;28;01mNone\u001b[39;00m):\n\u001b[1;32m     85\u001b[0m \u001b[38;5;250m    \u001b[39m\u001b[38;5;124;03m\"\"\"call inner component transmit\"\"\"\u001b[39;00m\n\u001b[0;32m---> 86\u001b[0m     \u001b[38;5;28;01mreturn\u001b[39;00m \u001b[38;5;28;43mself\u001b[39;49m\u001b[38;5;241;43m.\u001b[39;49m\u001b[43mcomponent\u001b[49m\u001b[38;5;241;43m.\u001b[39;49m\u001b[43mtransmit\u001b[49m\u001b[43m(\u001b[49m\u001b[43mcommand\u001b[49m\u001b[43m,\u001b[49m\u001b[43m \u001b[49m\u001b[43mprotocol\u001b[49m\u001b[43m)\u001b[49m\n",
      "File \u001b[0;32m~/ECTester/ectester/libs_analysis/env/lib/python3.10/site-packages/smartcard/CardConnection.py:174\u001b[0m, in \u001b[0;36mCardConnection.transmit\u001b[0;34m(self, command, protocol)\u001b[0m\n\u001b[1;32m    170\u001b[0m Observable\u001b[38;5;241m.\u001b[39msetChanged(\u001b[38;5;28mself\u001b[39m)\n\u001b[1;32m    171\u001b[0m Observable\u001b[38;5;241m.\u001b[39mnotifyObservers(\n\u001b[1;32m    172\u001b[0m     \u001b[38;5;28mself\u001b[39m, CardConnectionEvent(\u001b[38;5;124m\"\u001b[39m\u001b[38;5;124mcommand\u001b[39m\u001b[38;5;124m\"\u001b[39m, [command, protocol])\n\u001b[1;32m    173\u001b[0m )\n\u001b[0;32m--> 174\u001b[0m data, sw1, sw2 \u001b[38;5;241m=\u001b[39m \u001b[38;5;28;43mself\u001b[39;49m\u001b[38;5;241;43m.\u001b[39;49m\u001b[43mdoTransmit\u001b[49m\u001b[43m(\u001b[49m\u001b[43mcommand\u001b[49m\u001b[43m,\u001b[49m\u001b[43m \u001b[49m\u001b[43mprotocol\u001b[49m\u001b[43m)\u001b[49m\n\u001b[1;32m    175\u001b[0m Observable\u001b[38;5;241m.\u001b[39msetChanged(\u001b[38;5;28mself\u001b[39m)\n\u001b[1;32m    176\u001b[0m Observable\u001b[38;5;241m.\u001b[39mnotifyObservers(\n\u001b[1;32m    177\u001b[0m     \u001b[38;5;28mself\u001b[39m, CardConnectionEvent(\u001b[38;5;124m\"\u001b[39m\u001b[38;5;124mresponse\u001b[39m\u001b[38;5;124m\"\u001b[39m, [data, sw1, sw2])\n\u001b[1;32m    178\u001b[0m )\n",
      "File \u001b[0;32m~/ECTester/ectester/libs_analysis/env/lib/python3.10/site-packages/smartcard/pcsc/PCSCCardConnection.py:269\u001b[0m, in \u001b[0;36mPCSCCardConnection.doTransmit\u001b[0;34m(self, command, protocol)\u001b[0m\n\u001b[1;32m    267\u001b[0m hresult, response \u001b[38;5;241m=\u001b[39m SCardTransmit(\u001b[38;5;28mself\u001b[39m\u001b[38;5;241m.\u001b[39mhcard, pcscprotocolheader, command)\n\u001b[1;32m    268\u001b[0m \u001b[38;5;28;01mif\u001b[39;00m hresult \u001b[38;5;241m!=\u001b[39m SCARD_S_SUCCESS:\n\u001b[0;32m--> 269\u001b[0m     \u001b[38;5;28;01mraise\u001b[39;00m CardConnectionException(\n\u001b[1;32m    270\u001b[0m         \u001b[38;5;124m\"\u001b[39m\u001b[38;5;124mFailed to transmit with protocol \u001b[39m\u001b[38;5;124m\"\u001b[39m\n\u001b[1;32m    271\u001b[0m         \u001b[38;5;241m+\u001b[39m dictProtocolHeader[pcscprotocolheader]\n\u001b[1;32m    272\u001b[0m         \u001b[38;5;241m+\u001b[39m \u001b[38;5;124m\"\u001b[39m\u001b[38;5;124m. \u001b[39m\u001b[38;5;124m\"\u001b[39m\n\u001b[1;32m    273\u001b[0m         \u001b[38;5;241m+\u001b[39m SCardGetErrorMessage(hresult),\n\u001b[1;32m    274\u001b[0m         hresult\u001b[38;5;241m=\u001b[39mhresult,\n\u001b[1;32m    275\u001b[0m     )\n\u001b[1;32m    277\u001b[0m \u001b[38;5;28;01mif\u001b[39;00m \u001b[38;5;28mlen\u001b[39m(response) \u001b[38;5;241m<\u001b[39m \u001b[38;5;241m2\u001b[39m:\n\u001b[1;32m    278\u001b[0m     \u001b[38;5;28;01mraise\u001b[39;00m CardConnectionException(\n\u001b[1;32m    279\u001b[0m         \u001b[38;5;124m\"\u001b[39m\u001b[38;5;124mCard returned no valid response\u001b[39m\u001b[38;5;124m\"\u001b[39m, hresult\u001b[38;5;241m=\u001b[39mhresult\n\u001b[1;32m    280\u001b[0m     )\n",
      "\u001b[0;31mCardConnectionException\u001b[0m: Failed to transmit with protocol T1. Transaction failed.: Transaction failed. (0x80100016)"
     ]
    }
   ],
   "source": [
    "result_lines = []\n",
    "\n",
    "for _ in range(samples):\n",
    "    result = target.ecdh_direct(KeypairEnum.KEYPAIR_LOCAL,\n",
    "                         True,\n",
    "                         TransformationEnum.NONE,\n",
    "                         KeyAgreementEnum.ALG_EC_SVDP_DH,\n",
    "                         point_bytes) # pubkey as bytes\n",
    "    if not result.success:\n",
    "        print(result)\n",
    "    result_lines.append(serialize_ecdh_response(result,params_csv,point_bytes,key))"
   ]
  },
  {
   "cell_type": "code",
   "execution_count": 36,
   "id": "d88d32e1-c158-4eb9-855f-a18411d186b0",
   "metadata": {},
   "outputs": [],
   "source": [
    "filename = f\"results/{CARD}/testk10/ecdh.csv\"\n",
    "if os.path.isfile(filename):\n",
    "    print(\"Measurement already exists\")\n",
    "with open(filename,\"w\") as f:\n",
    "    for line in result_lines:\n",
    "        f.write(f\"{line}\\n\")"
   ]
  },
  {
   "cell_type": "code",
   "execution_count": 38,
   "id": "01a546eb-936b-433f-a87e-749c6db8e76b",
   "metadata": {},
   "outputs": [
    {
     "data": {
      "text/plain": [
       "[b\"\\xf7\\xd1\\xee\\x97Nz*?'v\\x98\\x96\\x14A\\x1e\\xc8GD\\xe3$\"]"
      ]
     },
     "execution_count": 38,
     "metadata": {},
     "output_type": "execute_result"
    }
   ],
   "source": [
    "result.params"
   ]
  },
  {
   "cell_type": "code",
   "execution_count": null,
   "id": "ed81d29d-7e6c-40de-b2bd-25df588314bb",
   "metadata": {},
   "outputs": [],
   "source": [
    "target.cleanup()\n"
   ]
  },
  {
   "cell_type": "code",
   "execution_count": 46,
   "id": "9afadc85-672d-44bf-beaf-af68f588d831",
   "metadata": {},
   "outputs": [],
   "source": [
    "target.disconnect()"
   ]
  },
  {
   "cell_type": "markdown",
   "id": "f26e2d2b-b6b6-4ae1-9474-46bd3c73b1b4",
   "metadata": {},
   "source": [
    "### Test n+epsilon"
   ]
  },
  {
   "cell_type": "code",
   "execution_count": 38,
   "id": "ad0f0e52-9a64-41fe-8464-edbace9e3bb0",
   "metadata": {},
   "outputs": [],
   "source": [
    "params = load_params_ectester(\"tests/testdn/weakcurve_32_n_x.csv\", \"affine\")\n",
    "params_csv = read_curve_params(\"tests/testdn/weakcurve_32_n_x.csv\")\n",
    "point_bytes = get_point_bytes(\"tests/testdn/key_point.csv\")\n",
    "point = params.curve.decode_point(point_bytes)\n",
    "\n",
    "with open(\"tests/testdn/key.csv\") as f:\n",
    "    key = int(f.read(),16)"
   ]
  },
  {
   "cell_type": "code",
   "execution_count": 39,
   "id": "a27c974e-5adb-482f-b3f3-c4a1bd2a00e4",
   "metadata": {},
   "outputs": [],
   "source": [
    "samples = 100\n",
    "data = bytes.fromhex(\"e8c86c9596e46403c211206617b8bcdd160a673b0b1304869f5559e3afe99d79\")"
   ]
  },
  {
   "cell_type": "code",
   "execution_count": 40,
   "id": "3a29e9df-87b7-4e4d-a8d0-796a0b09e678",
   "metadata": {},
   "outputs": [
    {
     "data": {
      "text/plain": [
       "AllocateResponse(sws=[0x9000], sw=0x9000, success=True, error=False)"
      ]
     },
     "execution_count": 40,
     "metadata": {},
     "output_type": "execute_result"
    }
   ],
   "source": [
    "target.allocate(KeypairEnum.KEYPAIR_LOCAL,\n",
    "                  KeyBuildEnum.BUILD_KEYBUILDER | KeyBuildEnum.BUILD_KEYPAIR,\n",
    "                  256,\n",
    "                  KeyClassEnum.ALG_EC_FP)"
   ]
  },
  {
   "cell_type": "code",
   "execution_count": 41,
   "id": "351c3451-f327-4ea6-9a1f-1057af63cb37",
   "metadata": {},
   "outputs": [
    {
     "data": {
      "text/plain": [
       "AllocateSigResponse(sws=[0x9000], sw=0x9000, success=True, error=False)"
      ]
     },
     "execution_count": 41,
     "metadata": {},
     "output_type": "execute_result"
    }
   ],
   "source": [
    "target.allocate_sig(SignatureEnum.ALG_ECDSA_SHA)"
   ]
  },
  {
   "cell_type": "code",
   "execution_count": 42,
   "id": "5699c6f6-dd87-46d7-a2b8-cdd4a4c67624",
   "metadata": {},
   "outputs": [
    {
     "data": {
      "text/plain": [
       "SetResponse(sws=[0x9000], sw=0x9000, success=True, error=False)"
      ]
     },
     "execution_count": 42,
     "metadata": {},
     "output_type": "execute_result"
    }
   ],
   "source": [
    "target.set(KeypairEnum.KEYPAIR_LOCAL,\n",
    "             CurveEnum.external,\n",
    "             ParameterEnum.DOMAIN_FP,\n",
    "             ECTesterTargetPCSC.encode_parameters(ParameterEnum.DOMAIN_FP, params))"
   ]
  },
  {
   "cell_type": "code",
   "execution_count": 43,
   "id": "d2e691a6-1ad1-4df8-bf77-6ad9852d3c78",
   "metadata": {},
   "outputs": [
    {
     "name": "stdout",
     "output_type": "stream",
     "text": [
      "SetResponse(sws=[0x9000], sw=0x9000, success=True, error=False)\n"
     ]
    }
   ],
   "source": [
    "keypair_dict = ECTesterTargetPCSC.encode_parameters(ParameterEnum.S, key)\n",
    "keypair_dict.update(ECTesterTargetPCSC.encode_parameters(ParameterEnum.W, point))\n",
    "print(target.set(KeypairEnum.KEYPAIR_LOCAL,\n",
    "             CurveEnum.external,\n",
    "             ParameterEnum.KEYPAIR,\n",
    "             keypair_dict))"
   ]
  },
  {
   "cell_type": "code",
   "execution_count": 44,
   "id": "e4b3b492-4aa4-4a62-bcde-8c49e5fdc0da",
   "metadata": {},
   "outputs": [],
   "source": [
    "result_lines = []\n",
    "error = False\n",
    "for _ in range(samples):\n",
    "    sign_response = target.ecdsa_sign(KeypairEnum.KEYPAIR_LOCAL,True,SignatureEnum.ALG_ECDSA_SHA,data)\n",
    "    if error or not sign_response.success:\n",
    "        print(f\"sign: {sign_response.sws}\",end=\", \")\n",
    "        error = True\n",
    "    signature = sign_response.signature\n",
    "    try:\n",
    "        result_lines.append(serialize_ecdsa_response(sign_response,data,params,key,params_csv,point_bytes, None))\n",
    "    except:\n",
    "        continue"
   ]
  },
  {
   "cell_type": "code",
   "execution_count": null,
   "id": "49076b1e-7627-4d1b-9861-1620fa2ff6b1",
   "metadata": {},
   "outputs": [],
   "source": [
    "result_lines"
   ]
  },
  {
   "cell_type": "code",
   "execution_count": 45,
   "id": "bd03c4b5-99ac-43ab-ac20-12f7639a5632",
   "metadata": {},
   "outputs": [],
   "source": [
    "filename = f\"results/{CARD}/testdn/ecdsa_xfixed.csv\"\n",
    "if os.path.isfile(filename):\n",
    "    print(\"Measurement already exists\")\n",
    "header = \"success;error;signature;valid;data;nonce;priv;pub;curve;params;apdu;sws\"\n",
    "with open(filename,\"w\") as f:\n",
    "    f.write(f\"{header}\\n\")\n",
    "    for line in result_lines:\n",
    "        f.write(f\"{line}\\n\")"
   ]
  },
  {
   "cell_type": "markdown",
   "id": "e5dc1b1b-2015-4e7d-844d-a72be5a8f97d",
   "metadata": {},
   "source": [
    "### Test small subgroup attack on verify"
   ]
  },
  {
   "cell_type": "code",
   "execution_count": 137,
   "id": "84a55a95-0df4-4036-a9bb-64c36364beaa",
   "metadata": {},
   "outputs": [],
   "source": [
    "from pyecsca.ec.mod import Mod, RawMod"
   ]
  },
  {
   "cell_type": "code",
   "execution_count": 138,
   "id": "cae5894c-6b10-4311-be58-796a7f5b8496",
   "metadata": {},
   "outputs": [],
   "source": [
    "from pyasn1.codec.der.decoder import decode\n",
    "from pyasn1.type.univ import Sequence\n",
    "\n",
    "def parse_ecdsa_signature(signature_der):\n",
    "    decoded_signature, _ = decode(signature_der, asn1Spec=Sequence())\n",
    "    r = int(decoded_signature[0])\n",
    "    s = int(decoded_signature[1])\n",
    "    return r, s\n",
    "\n",
    "def is_r_even(signature_der, n):\n",
    "    r,s = parse_ecdsa_signature(signature_der)\n",
    "    scalar = int(r*RawMod(s,n).inverse())\n",
    "    return scalar%2==0 and r%2==0"
   ]
  },
  {
   "cell_type": "code",
   "execution_count": 139,
   "id": "b89f9209-e956-4bf6-9647-eec318aa4505",
   "metadata": {},
   "outputs": [],
   "source": [
    "params = load_params_ectester(\"tests/verify2/cofactor256p2_h.csv\", \"affine\")\n",
    "params_csv = read_curve_params(\"tests/verify2/cofactor256p2_h.csv\")\n",
    "point_bytes = get_point_bytes(\"tests/verify2/key_point.csv\")\n",
    "point = params.curve.decode_point(point_bytes)\n",
    "point_wrong_bytes = get_point_bytes(\"tests/verify2/key_point_wrong.csv\")\n",
    "point_wrong = params.curve.decode_point(point_wrong_bytes)\n",
    "point_realwrong_bytes = get_point_bytes(\"tests/verify2/key_point_realwrong.csv\")\n",
    "point_realwrong = params.curve.decode_point(point_realwrong_bytes)\n",
    "with open(\"tests/testdn/key.csv\") as f:\n",
    "    key = int(f.read(),16)"
   ]
  },
  {
   "cell_type": "code",
   "execution_count": 140,
   "id": "2ba741cf-3dd8-4ce9-a097-887862ee6afd",
   "metadata": {},
   "outputs": [],
   "source": [
    "data = bytes.fromhex(\"e8c86c9596e46403c211206617b8bcdd160a673b0b1304869f5559e3afe99d79\")"
   ]
  },
  {
   "cell_type": "code",
   "execution_count": 141,
   "id": "9a723e27-e174-4ade-a104-571185170b8c",
   "metadata": {},
   "outputs": [
    {
     "data": {
      "text/plain": [
       "AllocateResponse(sws=[0x9000], sw=0x9000, success=True, error=False)"
      ]
     },
     "execution_count": 141,
     "metadata": {},
     "output_type": "execute_result"
    }
   ],
   "source": [
    "target.allocate(KeypairEnum.KEYPAIR_LOCAL,\n",
    "                  KeyBuildEnum.BUILD_KEYBUILDER | KeyBuildEnum.BUILD_KEYPAIR,\n",
    "                  256,\n",
    "                  KeyClassEnum.ALG_EC_FP)"
   ]
  },
  {
   "cell_type": "code",
   "execution_count": 142,
   "id": "e6f06396-5fab-43c6-9c27-14d210479546",
   "metadata": {},
   "outputs": [
    {
     "data": {
      "text/plain": [
       "AllocateSigResponse(sws=[0x9000], sw=0x9000, success=True, error=False)"
      ]
     },
     "execution_count": 142,
     "metadata": {},
     "output_type": "execute_result"
    }
   ],
   "source": [
    "target.allocate_sig(SignatureEnum.ALG_ECDSA_SHA)"
   ]
  },
  {
   "cell_type": "code",
   "execution_count": 143,
   "id": "6998533e-794b-44fb-b186-f30abb517d60",
   "metadata": {},
   "outputs": [
    {
     "data": {
      "text/plain": [
       "SetResponse(sws=[0x9000], sw=0x9000, success=True, error=False)"
      ]
     },
     "execution_count": 143,
     "metadata": {},
     "output_type": "execute_result"
    }
   ],
   "source": [
    "target.set(KeypairEnum.KEYPAIR_LOCAL,\n",
    "             CurveEnum.external,\n",
    "             ParameterEnum.DOMAIN_FP,\n",
    "             ECTesterTargetPCSC.encode_parameters(ParameterEnum.DOMAIN_FP, params))"
   ]
  },
  {
   "cell_type": "code",
   "execution_count": 144,
   "id": "6c947e4c-44c1-462f-9702-1d3f1253ea8b",
   "metadata": {},
   "outputs": [
    {
     "name": "stdout",
     "output_type": "stream",
     "text": [
      "SetResponse(sws=[0x9000], sw=0x9000, success=True, error=False)\n"
     ]
    }
   ],
   "source": [
    "keypair_dict = ECTesterTargetPCSC.encode_parameters(ParameterEnum.S, key)\n",
    "keypair_dict.update(ECTesterTargetPCSC.encode_parameters(ParameterEnum.W, point))\n",
    "print(target.set(KeypairEnum.KEYPAIR_LOCAL,\n",
    "             CurveEnum.external,\n",
    "             ParameterEnum.KEYPAIR,\n",
    "             keypair_dict))"
   ]
  },
  {
   "cell_type": "code",
   "execution_count": 146,
   "id": "e93c5153-4630-45c5-8b2c-10ce4b7b6bda",
   "metadata": {},
   "outputs": [
    {
     "name": "stdout",
     "output_type": "stream",
     "text": [
      "True\n"
     ]
    },
    {
     "data": {
      "text/plain": [
       "ECDSAResponse(sws=[0x9000], sw=0x9000, success=True, error=False, sig=304402203f74cc77f114f8e8b8909e8fb42d5037907058460c0d4f442a904e918b490f380220097b869aa3a4925a60e51f7cf223ced8337b7ef7974d797dd94f41d4874192dd)"
      ]
     },
     "execution_count": 146,
     "metadata": {},
     "output_type": "execute_result"
    }
   ],
   "source": [
    "sign_response = target.ecdsa_sign(KeypairEnum.KEYPAIR_LOCAL,True,SignatureEnum.ALG_ECDSA_SHA,data)\n",
    "print(is_r_even(sign_response.signature,params.full_order//2))\n",
    "sign_response"
   ]
  },
  {
   "cell_type": "code",
   "execution_count": 147,
   "id": "09c1c1a4-d96d-41f4-a58a-f7551bd671e1",
   "metadata": {},
   "outputs": [
    {
     "data": {
      "text/plain": [
       "ECDSAResponse(sws=[0x9000], sw=0x9000, success=True, error=False, sig=)"
      ]
     },
     "execution_count": 147,
     "metadata": {},
     "output_type": "execute_result"
    }
   ],
   "source": [
    "target.ecdsa_verify(KeypairEnum.KEYPAIR_LOCAL,SignatureEnum.ALG_ECDSA_SHA,sign_response.signature,data)"
   ]
  },
  {
   "cell_type": "code",
   "execution_count": 148,
   "id": "ea58b47f-1bd7-4717-852e-526ff33090ea",
   "metadata": {},
   "outputs": [
    {
     "name": "stdout",
     "output_type": "stream",
     "text": [
      "SetResponse(sws=[0x9000], sw=0x9000, success=True, error=False)\n"
     ]
    }
   ],
   "source": [
    "keypair_dict = ECTesterTargetPCSC.encode_parameters(ParameterEnum.S, key)\n",
    "keypair_dict.update(ECTesterTargetPCSC.encode_parameters(ParameterEnum.W, point_wrong))\n",
    "print(target.set(KeypairEnum.KEYPAIR_LOCAL,\n",
    "             CurveEnum.external,\n",
    "             ParameterEnum.KEYPAIR,\n",
    "             keypair_dict))"
   ]
  },
  {
   "cell_type": "code",
   "execution_count": 149,
   "id": "6ebd8564-02dc-4cba-9d16-953ca7f858cf",
   "metadata": {},
   "outputs": [
    {
     "data": {
      "text/plain": [
       "ECDSAResponse(sws=[0xee1], sw=0x9000, success=False, error=False, sig=)"
      ]
     },
     "execution_count": 149,
     "metadata": {},
     "output_type": "execute_result"
    }
   ],
   "source": [
    "target.ecdsa_verify(KeypairEnum.KEYPAIR_LOCAL,SignatureEnum.ALG_ECDSA_SHA,sign_response.signature,data)"
   ]
  },
  {
   "cell_type": "code",
   "execution_count": null,
   "id": "afaab408-1800-4188-a290-07f12b84fe04",
   "metadata": {},
   "outputs": [],
   "source": []
  }
 ],
 "metadata": {
  "kernelspec": {
   "display_name": "Python 3 (ipykernel)",
   "language": "python",
   "name": "python3"
  },
  "language_info": {
   "codemirror_mode": {
    "name": "ipython",
    "version": 3
   },
   "file_extension": ".py",
   "mimetype": "text/x-python",
   "name": "python",
   "nbconvert_exporter": "python",
   "pygments_lexer": "ipython3",
   "version": "3.10.12"
  }
 },
 "nbformat": 4,
 "nbformat_minor": 5
}
