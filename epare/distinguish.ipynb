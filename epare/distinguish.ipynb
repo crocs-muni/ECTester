{
 "cells": [
  {
   "cell_type": "markdown",
   "id": "e76983df-053b-450b-976c-295826248978",
   "metadata": {},
   "source": [
    "# Unraveling scalar mults and countermeasures"
   ]
  },
  {
   "cell_type": "code",
   "execution_count": null,
   "id": "bc1528b8-61cd-4219-993f-e3f1ac79e801",
   "metadata": {},
   "outputs": [],
   "source": [
    "import pickle\n",
    "import itertools\n",
    "import glob\n",
    "import random\n",
    "import math\n",
    "\n",
    "from collections import Counter\n",
    "\n",
    "import numpy as np\n",
    "import pandas as pd\n",
    "from scipy.stats import binom\n",
    "from scipy.spatial import distance\n",
    "from tqdm.auto import tqdm, trange\n",
    "from statsmodels.stats.proportion import proportion_confint\n",
    "from anytree import PreOrderIter, Walker\n",
    "\n",
    "from pyecsca.ec.mult import *\n",
    "from pyecsca.misc.utils import TaskExecutor, silent\n",
    "from pyecsca.sca.re.tree import Map, Tree\n",
    "\n",
    "from common import *"
   ]
  },
  {
   "cell_type": "code",
   "execution_count": null,
   "id": "b3814d6d-af42-4b9a-bbf2-6dbbdddd92d4",
   "metadata": {},
   "outputs": [],
   "source": [
    "def conf_interval(p: float, samples: int, alpha: float = 0.05) -> tuple[float, float]:\n",
    "    return proportion_confint(round(p*samples), samples, alpha, method=\"wilson\")"
   ]
  },
  {
   "cell_type": "code",
   "execution_count": null,
   "id": "f0eac736-be48-4925-accf-1ca8ff6aa065",
   "metadata": {},
   "outputs": [],
   "source": [
    "def powers_of(k, max_power=20):\n",
    "    return [k**i for i in range(1, max_power)]\n",
    "\n",
    "def prod_combine(one, other):\n",
    "    return [a * b for a, b in itertools.product(one, other)]\n",
    "\n",
    "small_primes = [3, 5, 7, 11, 13, 17, 19, 23, 29, 31, 37, 41, 43, 47, 53, 59, 61, 67, 71, 73, 79, 83, 89, 97, 101, 103, 107, 109, 113, 127, 131, 137, 139, 149, 151, 157, 163, 167, 173, 179, 181, 191, 193, 197, 199]\n",
    "medium_primes = [211, 223, 227, 229, 233, 239, 241, 251, 257, 263, 269, 271, 277, 281, 283, 293, 307, 311, 313, 317, 331, 337, 347, 349, 353, 359, 367, 373, 379, 383, 389, 397]\n",
    "large_primes = [401, 409, 419, 421, 431, 433, 439, 443, 449, 457, 461, 463, 467, 479, 487, 491, 499, 503, 509, 521, 523, 541, 547, 557, 563, 569, 571, 577, 587, 593, 599, 601, 607, 613, 617, 619, 631, 641, 643, 647, 653, 659, 661, 673, 677, 683, 691, 701, 709, 719, 727, 733, 739, 743, 751, 757, 761, 769, 773, 787, 797, 809, 811, 821, 823, 827, 829, 839, 853, 857, 859, 863, 877, 881, 883, 887, 907, 911, 919, 929, 937, 941, 947, 953, 967, 971, 977, 983, 991, 997]\n",
    "all_integers = list(range(1, 400))\n",
    "all_even = list(range(2, 400, 2))\n",
    "all_odd = list(range(1, 400, 2))\n",
    "all_primes = small_primes + medium_primes + large_primes\n",
    "\n",
    "divisor_map = {\n",
    "    \"small_primes\": small_primes,\n",
    "    \"medium_primes\": medium_primes,\n",
    "    \"large_primes\": large_primes,\n",
    "    \"all_primes\": all_primes,\n",
    "    \"all_integers\": all_integers,\n",
    "    \"all_even\": all_even,\n",
    "    \"all_odd\": all_odd,\n",
    "    \"powers_of_2\": powers_of(2),\n",
    "    \"powers_of_2_large\": powers_of(2, 256),\n",
    "    \"powers_of_2_large_3\": [i * 3 for i in powers_of(2, 256)],\n",
    "    \"powers_of_2_large_p1\": [i + 1 for i in powers_of(2, 256)],\n",
    "    \"powers_of_2_large_m1\": [i - 1 for i in powers_of(2, 256)],\n",
    "    \"powers_of_2_large_pmautobus\": sorted(set([i + j for i in powers_of(2, 256) for j in range(-5,5) if i+j > 0])),\n",
    "    \"powers_of_3\": powers_of(3),\n",
    "}\n",
    "divisor_map[\"all\"] = list(sorted(set().union(*[v for v in divisor_map.values()])))"
   ]
  },
  {
   "cell_type": "markdown",
   "id": "4868c083-8073-453d-b508-704fcb6d6f2a",
   "metadata": {},
   "source": [
    "## Prepare"
   ]
  },
  {
   "cell_type": "code",
   "execution_count": null,
   "id": "ccb00342-3c48-49c9-bedf-2341e5eae3a2",
   "metadata": {},
   "outputs": [],
   "source": [
    "selected_mults = all_mults\n",
    "divisor_name = \"all\"\n",
    "kind = \"precomp+necessary\"\n",
    "selected_divisors = divisor_map[divisor_name]"
   ]
  },
  {
   "cell_type": "code",
   "execution_count": null,
   "id": "3dbac9be-d098-479a-8ca2-f531f6668f7c",
   "metadata": {},
   "outputs": [],
   "source": [
    "# Load\n",
    "try:\n",
    "    with open(f\"{divisor_name}_{kind}_distrs.pickle\", \"rb\") as f:\n",
    "        distributions_mults = pickle.load(f)\n",
    "except FileNotFoundError:\n",
    "    with open(f\"all_{kind}_distrs.pickle\", \"rb\") as f:\n",
    "        distributions_mults = pickle.load(f)\n",
    "    for probmap in distributions_mults.values():\n",
    "        probmap.narrow(selected_divisors)"
   ]
  },
  {
   "cell_type": "markdown",
   "id": "1f783baf-bc81-40c1-9282-e2dfdacfd17c",
   "metadata": {},
   "source": [
    "## Build dmap and tree"
   ]
  },
  {
   "cell_type": "markdown",
   "id": "d161f3e8-6e39-47c1-a26f-23f910f3fe26",
   "metadata": {},
   "source": [
    "Select the n for building the tree."
   ]
  },
  {
   "cell_type": "code",
   "execution_count": null,
   "id": "2307bf7c-4fac-489d-8527-7ddbf536a148",
   "metadata": {},
   "outputs": [],
   "source": [
    "nbuild = 10000\n",
    "alpha = 0.05"
   ]
  },
  {
   "cell_type": "code",
   "execution_count": null,
   "id": "0b85fad7-392f-4701-9329-d75d39736bbb",
   "metadata": {},
   "outputs": [],
   "source": [
    "# Now go over all divisors, cluster based on overlapping CI for given n?\n",
    "io_map = {mult:{} for mult in distributions_mults.keys()}\n",
    "for divisor in selected_divisors:\n",
    "    prev_ci_low = None\n",
    "    prev_ci_high = None\n",
    "    groups = {}\n",
    "    pvals = {}\n",
    "    group = 0\n",
    "    for mult, probmap in sorted(distributions_mults.items(), key=lambda item: -item[1][divisor]):\n",
    "        # We are going from high to low p.\n",
    "        pval = probmap[divisor]\n",
    "        pvals[mult] = pval\n",
    "        ci_low, ci_high = conf_interval(pval, nbuild, alpha)\n",
    "        ci_low = max(ci_low, 0.0)\n",
    "        ci_high = min(ci_high, 1.0)\n",
    "        if (prev_ci_low is None and prev_ci_high is None) or prev_ci_low >= ci_high:\n",
    "            g = groups.setdefault(f\"arbitrary{group}\", set())\n",
    "            g.add(mult)\n",
    "            group += 1\n",
    "        else:\n",
    "            g = groups.setdefault(f\"arbitrary{group}\", set())\n",
    "            g.add(mult)\n",
    "        prev_ci_low = ci_low\n",
    "        prev_ci_high = ci_high\n",
    "    \n",
    "    #print(f\"Divisor: {divisor}, num groups: {group}\", end=\"\\n\\t\")\n",
    "    #for g in groups.values():\n",
    "    #    print(len(g), end=\", \")\n",
    "    #print()\n",
    "    for group, mults in groups.items():\n",
    "        mult_pvals = [pvals[mult] for mult in mults]\n",
    "        group_pval_avg = np.mean(mult_pvals)\n",
    "        group_pval_var = np.var(mult_pvals)\n",
    "        group_pval_min = np.min(mult_pvals)\n",
    "        group_pval_max = np.max(mult_pvals)\n",
    "        for mult in mults:\n",
    "            io_map[mult][divisor] = (group,  group_pval_avg, group_pval_var, group_pval_min, group_pval_max)\n",
    "\n",
    "# then build dmap\n",
    "dmap = Map.from_io_maps(set(distributions_mults.keys()), io_map)"
   ]
  },
  {
   "cell_type": "code",
   "execution_count": null,
   "id": "06104104-b612-40e9-bc1d-646356a13381",
   "metadata": {},
   "outputs": [],
   "source": [
    "print(dmap.describe())"
   ]
  },
  {
   "cell_type": "code",
   "execution_count": null,
   "id": "eb8672ca-b76b-411d-b514-2387b555f184",
   "metadata": {},
   "outputs": [],
   "source": [
    "# deduplicate dmap\n",
    "dmap.deduplicate()"
   ]
  },
  {
   "cell_type": "code",
   "execution_count": null,
   "id": "ccba09b0-31c3-450b-af30-efaa64329743",
   "metadata": {},
   "outputs": [],
   "source": [
    "print(dmap.describe())"
   ]
  },
  {
   "cell_type": "code",
   "execution_count": null,
   "id": "5735e7d4-149c-4184-96f7-dcfd6017fbad",
   "metadata": {},
   "outputs": [],
   "source": [
    "# build a tree\n",
    "with silent():\n",
    "    tree = Tree.build(set(distributions_mults.keys()), dmap)"
   ]
  },
  {
   "cell_type": "code",
   "execution_count": null,
   "id": "d41093df-32c4-450d-922d-5ad042539397",
   "metadata": {},
   "outputs": [],
   "source": [
    "print(tree.describe())"
   ]
  },
  {
   "cell_type": "code",
   "execution_count": null,
   "id": "de577429-d87c-4967-be17-75cbb378860c",
   "metadata": {},
   "outputs": [],
   "source": [
    "print(tree.render_basic())"
   ]
  },
  {
   "cell_type": "markdown",
   "id": "437bcd9c-1da5-428a-a979-0835326777f3",
   "metadata": {},
   "source": [
    "## Simulate distinguishing using a tree"
   ]
  },
  {
   "cell_type": "code",
   "execution_count": null,
   "id": "109ed95f-0949-4251-874f-9b87cfe97a00",
   "metadata": {},
   "outputs": [],
   "source": [
    "simulations = 1000\n",
    "\n",
    "for nattack in trange(100, 10000, 100):\n",
    "    successes = 0\n",
    "    pathiness = 0\n",
    "    for i in range(simulations):\n",
    "        true_mult = random.choice(list(distributions_mults.keys()))\n",
    "        probmap = distributions_mults[true_mult]\n",
    "        node = tree.root\n",
    "        while True:\n",
    "            if node.is_leaf:\n",
    "                break\n",
    "            divisor = node.dmap_input\n",
    "            prob = probmap[divisor]\n",
    "            sampled_prob = binom(nattack, prob).rvs() / nattack\n",
    "            best_child = None\n",
    "            true_child = None\n",
    "            best_group_distance = None\n",
    "            #print(f\"Divisor: {divisor}, prob: {prob}, sampled: {sampled_prob}\")\n",
    "            for child in node.children:\n",
    "                if true_mult in child.cfgs:\n",
    "                    true_child = child\n",
    "                group, group_pval_avg, group_pval_var, group_pval_min, group_pval_max = child.response\n",
    "                group_distance = min(abs(sampled_prob - group_pval_min), abs(sampled_prob - group_pval_max))\n",
    "                #print(f\"Child {group}, {group_pval_avg}\")\n",
    "                if best_child is None or \\\n",
    "                    (group_distance < best_group_distance):\n",
    "                    best_child = child\n",
    "                    best_group_distance = group_distance\n",
    "                if sampled_prob > group_pval_min and sampled_prob < group_pval_max:\n",
    "                    best_child = child\n",
    "                    break\n",
    "            #print(f\"Best {best_child.response}\")\n",
    "            if true_child is not None and true_child != best_child:\n",
    "                pass\n",
    "                #print(f\"Mistake! {prob}, {sampled_prob} true:{true_child.response}, chosen:{best_child.response}\")\n",
    "            node = best_child\n",
    "            if true_mult in node.cfgs:\n",
    "                pathiness += 1\n",
    "        #print(f\"Arrived: {true_mult in node.cfgs}\")\n",
    "        if true_mult in node.cfgs:\n",
    "            successes += 1\n",
    "    print(f\"{nattack}: success rate {successes/simulations}, pathiness {pathiness/simulations}\")"
   ]
  },
  {
   "cell_type": "markdown",
   "id": "308df683-952e-430a-b2bd-f19bcfb98b8e",
   "metadata": {},
   "source": [
    "## Simulate distinguishing using a distance metric\n",
    "\n",
    "We need to first select some features (divisors) from the set of all divisors that we will query\n",
    "the target with. This set should be the smallest (to not do a lot of queries) yet allow us to distinguish as\n",
    "much as possible."
   ]
  },
  {
   "cell_type": "markdown",
   "id": "62d2f2a2-495e-459d-b0e2-89c9a5973b1e",
   "metadata": {},
   "source": [
    "### Feature selection using trees\n",
    "\n",
    "We can reuse the clustering + tree building approach above and just take the inputs that the greedy tree building choses as the features. However, we can also use more conventional feature selection approaches."
   ]
  },
  {
   "cell_type": "code",
   "execution_count": null,
   "id": "beb5720a-f793-4ad9-ad27-1bd943bb325b",
   "metadata": {
    "scrolled": true
   },
   "outputs": [],
   "source": [
    "good_inputs = Counter()\n",
    "for node in PreOrderIter(tree.root):\n",
    "    if node.is_leaf:\n",
    "        continue\n",
    "    good_inputs[node.dmap_input] += 1\n",
    "for good in sorted(good_inputs):\n",
    "    print(good)\n",
    "    print(bin(good))\n",
    "    print(f\"used {good_inputs[good]} times\")\n",
    "    print(f\"nbits {good.bit_length()}\")\n",
    "    for div_name, div_group in divisor_map.items():\n",
    "        if good in div_group and div_name != \"all\":\n",
    "            print(div_name, end=\", \")\n",
    "    print(\"\\n\")"
   ]
  },
  {
   "cell_type": "code",
   "execution_count": null,
   "id": "8af8c2ad-45e1-42ec-a757-5d5966c2f4b7",
   "metadata": {},
   "outputs": [],
   "source": [
    "simulations = 400\n",
    "retries = 1000\n",
    "\n",
    "for nfeats in (6,): #trange(1, 7)\n",
    "    for nattack in range(100, 200, 100):\n",
    "        best_feats = None\n",
    "        best_feats_mean_pos = None\n",
    "        best_successes = None\n",
    "        for _ in trange(retries):\n",
    "            feats = random.sample(sorted(good_inputs), nfeats)\n",
    "            successes = {k:0 for k in range(1, 11)}\n",
    "            mean_pos = 0\n",
    "            for _ in range(simulations):\n",
    "                true_mult = random.choice(list(distributions_mults.keys()))\n",
    "                probmap = distributions_mults[true_mult]\n",
    "                feat_vector = np.zeros(nfeats)\n",
    "                for i, divisor in enumerate(feats):\n",
    "                    prob = probmap[divisor]\n",
    "                    sampled_prob = binom(nattack, prob).rvs() / nattack\n",
    "                    feat_vector[i] = sampled_prob\n",
    "                scoring = []\n",
    "                for other_mult, other_probmap in distributions_mults.items():\n",
    "                    other_vector = np.zeros(nfeats)\n",
    "                    for i, divisor in enumerate(feats):\n",
    "                        other_vector[i] = other_probmap[divisor]\n",
    "                    similarity = distance.euclidean(feat_vector, other_vector)\n",
    "                    scoring.append((similarity, other_mult))\n",
    "                scoring.sort(key=lambda item: item[0])\n",
    "                for i, (sim, other) in enumerate(scoring):\n",
    "                    if other == true_mult:\n",
    "                        mean_pos += i\n",
    "                        for k in range(10):\n",
    "                            if i <= k:\n",
    "                                successes[k+1] +=1\n",
    "            for i in successes.keys():\n",
    "                successes[i] /= simulations\n",
    "            #print(f\"{nattack:<10}: mean position {mean_pos/simulations}\")\n",
    "            #print(f\"          top1: {successes[1]}, top5: {successes[5]}, top10: {successes[10]}\")\n",
    "            if best_feats is None or best_feats_mean_pos > mean_pos/simulations:\n",
    "                best_feats = feats\n",
    "                best_feats_mean_pos = mean_pos/simulations\n",
    "                best_successes = successes\n",
    "        print(flush=True)\n",
    "        print(nattack)\n",
    "        print(f\"Features: ({nfeats}) {best_feats}\")\n",
    "        print(f\"mean_pos: {best_feats_mean_pos}\")\n",
    "        print(f\"top1: {best_successes[1]}, top2: {best_successes[2]}, top5: {best_successes[5]}, top10: {best_successes[10]}\")"
   ]
  },
  {
   "cell_type": "markdown",
   "id": "9b94be24-d0ee-4597-ad99-4c55558a38c9",
   "metadata": {},
   "source": [
    "### Feature selection using variance"
   ]
  },
  {
   "cell_type": "markdown",
   "id": "11ee99e6-a90e-4304-bd7d-6491ce936b57",
   "metadata": {},
   "source": [
    "### Feature selection using synthetic data\n",
    "The below contains some experiments that mostly do not work. Ignore."
   ]
  },
  {
   "cell_type": "code",
   "execution_count": null,
   "id": "1e8440f3-f856-41e0-8d37-56b750e1309d",
   "metadata": {},
   "outputs": [],
   "source": [
    "# Lets pick n as if we were doing the reversing\n",
    "n = 100\n",
    "# Lets pick m as the number of repeats\n",
    "m = 100\n",
    "# then for each mult and each divisor (thus each point) do binom(n, p) m times, save this synthetic data\n",
    "nmults = len(distributions_mults)\n",
    "ndivs = len(selected_divisors)\n",
    "base_X = np.zeros((nmults, ndivs))\n",
    "base_y = np.zeros(nmults)\n",
    "synthetic_X = np.zeros((nmults * m, ndivs))\n",
    "synthetic_y = np.zeros(nmults * m)\n",
    "for i, (mult, probmap) in enumerate(distributions_mults.items()):\n",
    "    for j, divisor in enumerate(selected_divisors):\n",
    "        p = probmap[divisor]\n",
    "        r = binom.rvs(n, p, size=m) / n\n",
    "        synthetic_X[i*m:(i+1)*m, j] = r\n",
    "        base_X[i, j] = p\n",
    "    synthetic_y[i*m:(i+1)*m] = i\n",
    "    base_y[i] = i\n",
    "print(synthetic_X)\n",
    "# so we have !mults! classes and !mults! * m samples\n",
    "# on this synthetic data we can run whatever"
   ]
  },
  {
   "cell_type": "code",
   "execution_count": null,
   "id": "6396296e-9352-4599-8ee9-45f9b4f4ce70",
   "metadata": {},
   "outputs": [],
   "source": [
    "from sklearn.feature_selection import SelectKBest, SelectFdr, SelectFpr, SelectFwe, SequentialFeatureSelector\n",
    "from sklearn.feature_selection import f_classif, mutual_info_classif, chi2\n",
    "from sklearn.neighbors import KNeighborsClassifier\n",
    "\n",
    "from sklearn.datasets import load_iris"
   ]
  },
  {
   "cell_type": "code",
   "execution_count": null,
   "id": "6d7050a1-b1ef-4eed-a885-cc11d8703b24",
   "metadata": {},
   "outputs": [],
   "source": [
    "selection = SelectKBest(f_classif, k=10).fit(synthetic_X, synthetic_y)"
   ]
  },
  {
   "cell_type": "code",
   "execution_count": null,
   "id": "393d9d99-67e1-4d0a-b4ad-a0adcd6491d8",
   "metadata": {},
   "outputs": [],
   "source": [
    "len(selection.get_feature_names_out())"
   ]
  },
  {
   "cell_type": "code",
   "execution_count": null,
   "id": "0f324988-04bd-4c87-9af0-45abe1ebb6e9",
   "metadata": {},
   "outputs": [],
   "source": [
    "for divisor, present in zip(selected_divisors, selection.get_support()):\n",
    "    if present:\n",
    "        print(divisor)\n",
    "        print(bin(divisor))"
   ]
  },
  {
   "cell_type": "code",
   "execution_count": null,
   "id": "f0a40bd9-753e-4bc4-9bc7-f0eb2f96ce7b",
   "metadata": {},
   "outputs": [],
   "source": [
    "X_new = selection.transform(synthetic_X)"
   ]
  },
  {
   "cell_type": "code",
   "execution_count": null,
   "id": "88809007-7b21-4985-83f9-f4cd9247fccf",
   "metadata": {},
   "outputs": [],
   "source": [
    "X_new.shape"
   ]
  },
  {
   "cell_type": "code",
   "execution_count": null,
   "id": "cddc8885-37ad-4225-b83f-4798018f80f3",
   "metadata": {},
   "outputs": [],
   "source": [
    "from sklearn import tree"
   ]
  },
  {
   "cell_type": "code",
   "execution_count": null,
   "id": "e11a8fc4-0df9-4cdc-a6d3-2d6297b8e085",
   "metadata": {},
   "outputs": [],
   "source": [
    "clf = tree.DecisionTreeClassifier()\n",
    "clf = clf.fit(synthetic_X, synthetic_y)"
   ]
  },
  {
   "cell_type": "code",
   "execution_count": null,
   "id": "8e9a91df-845c-4eaa-944e-62d07d7cb1c6",
   "metadata": {},
   "outputs": [],
   "source": [
    "clf"
   ]
  },
  {
   "cell_type": "code",
   "execution_count": null,
   "id": "21516983-06be-4ad9-91f4-7454eacbf121",
   "metadata": {},
   "outputs": [],
   "source": [
    "from mrmr import mrmr_classif"
   ]
  },
  {
   "cell_type": "code",
   "execution_count": null,
   "id": "7c2215a5-c073-4118-a21e-e78afb724eda",
   "metadata": {},
   "outputs": [],
   "source": [
    "selected_features = mrmr_classif(X=pd.DataFrame(synthetic_X), y=pd.Series(synthetic_y), K=35)"
   ]
  },
  {
   "cell_type": "code",
   "execution_count": null,
   "id": "c05c7b33-6a75-4477-97a0-6b70808d0e1e",
   "metadata": {},
   "outputs": [],
   "source": [
    "for selected in selected_features:\n",
    "    divisor = selected_divisors[selected]\n",
    "    print(divisor, bin(divisor))"
   ]
  },
  {
   "cell_type": "code",
   "execution_count": null,
   "id": "f2787faf-a487-4f28-aa3c-8fdd9562550d",
   "metadata": {},
   "outputs": [],
   "source": []
  }
 ],
 "metadata": {
  "kernelspec": {
   "display_name": "Python 3 (ipykernel)",
   "language": "python",
   "name": "python3"
  },
  "language_info": {
   "codemirror_mode": {
    "name": "ipython",
    "version": 3
   },
   "file_extension": ".py",
   "mimetype": "text/x-python",
   "name": "python",
   "nbconvert_exporter": "python",
   "pygments_lexer": "ipython3",
   "version": "3.12.3"
  }
 },
 "nbformat": 4,
 "nbformat_minor": 5
}
