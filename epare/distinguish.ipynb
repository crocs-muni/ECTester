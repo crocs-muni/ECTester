{
 "cells": [
  {
   "cell_type": "markdown",
   "id": "e76983df-053b-450b-976c-295826248978",
   "metadata": {},
   "source": [
    "# Unraveling scalar mults and countermeasures"
   ]
  },
  {
   "cell_type": "code",
   "execution_count": 1,
   "id": "bc1528b8-61cd-4219-993f-e3f1ac79e801",
   "metadata": {},
   "outputs": [],
   "source": [
    "import pickle\n",
    "import itertools\n",
    "import glob\n",
    "import random\n",
    "import math\n",
    "\n",
    "from collections import Counter\n",
    "\n",
    "import numpy as np\n",
    "import pandas as pd\n",
    "from scipy.stats import binom, entropy\n",
    "from scipy.spatial import distance\n",
    "from tqdm.auto import tqdm, trange\n",
    "from anytree import PreOrderIter, Walker\n",
    "from matplotlib import pyplot as plt\n",
    "\n",
    "from pyecsca.ec.mult import *\n",
    "from pyecsca.misc.utils import TaskExecutor, silent\n",
    "from pyecsca.sca.re.tree import Map, Tree\n",
    "\n",
    "from common import *"
   ]
  },
  {
   "cell_type": "markdown",
   "id": "4868c083-8073-453d-b508-704fcb6d6f2a",
   "metadata": {},
   "source": [
    "## Prepare\n",
    "Select *divisor name* to restrict the features. Select *kind* to pick the probmap source."
   ]
  },
  {
   "cell_type": "code",
   "execution_count": 2,
   "id": "ccb00342-3c48-49c9-bedf-2341e5eae3a2",
   "metadata": {},
   "outputs": [],
   "source": [
    "divisor_name = \"all\"\n",
    "kind = \"all\"\n",
    "allfeats = list(filter(lambda feat: feat not in (1,2,3,4,5), divisor_map[divisor_name]))"
   ]
  },
  {
   "cell_type": "code",
   "execution_count": 3,
   "id": "3dbac9be-d098-479a-8ca2-f531f6668f7c",
   "metadata": {},
   "outputs": [],
   "source": [
    "# Load\n",
    "try:\n",
    "    with open(f\"{divisor_name}_{kind}_distrs.pickle\", \"rb\") as f:\n",
    "        distributions_mults = pickle.load(f)\n",
    "except FileNotFoundError:\n",
    "    with open(f\"all_{kind}_distrs.pickle\", \"rb\") as f:\n",
    "        distributions_mults = pickle.load(f)\n",
    "    for probmap in distributions_mults.values():\n",
    "        probmap.narrow(allfeats)"
   ]
  },
  {
   "cell_type": "code",
   "execution_count": 4,
   "id": "38c81e38-a37c-4e58-ac9e-927d14dad458",
   "metadata": {},
   "outputs": [],
   "source": [
    "allmults = list(distributions_mults.keys())\n",
    "nmults = len(allmults)\n",
    "nallfeats = len(allfeats)"
   ]
  },
  {
   "cell_type": "markdown",
   "id": "1f783baf-bc81-40c1-9282-e2dfdacfd17c",
   "metadata": {},
   "source": [
    "## Build dmap and tree"
   ]
  },
  {
   "cell_type": "markdown",
   "id": "d161f3e8-6e39-47c1-a26f-23f910f3fe26",
   "metadata": {},
   "source": [
    "Select the n for building the tree."
   ]
  },
  {
   "cell_type": "code",
   "execution_count": 5,
   "id": "2307bf7c-4fac-489d-8527-7ddbf536a148",
   "metadata": {},
   "outputs": [],
   "source": [
    "nbuild = 10000\n",
    "alpha = 0.05"
   ]
  },
  {
   "cell_type": "code",
   "execution_count": 6,
   "id": "0b85fad7-392f-4701-9329-d75d39736bbb",
   "metadata": {},
   "outputs": [],
   "source": [
    "# Now go over all divisors, cluster based on overlapping CI for given n?\n",
    "io_map = {mult:{} for mult in allmults}\n",
    "for divisor in allfeats:\n",
    "    prev_ci_low = None\n",
    "    prev_ci_high = None\n",
    "    groups = {}\n",
    "    pvals = {}\n",
    "    group = 0\n",
    "    for mult, probmap in sorted(distributions_mults.items(), key=lambda item: -item[1][divisor]):\n",
    "        # We are going from high to low p.\n",
    "        pval = probmap[divisor]\n",
    "        pvals[mult] = pval\n",
    "        ci_low, ci_high = conf_interval(pval, nbuild, alpha)\n",
    "        ci_low = max(ci_low, 0.0)\n",
    "        ci_high = min(ci_high, 1.0)\n",
    "        if (prev_ci_low is None and prev_ci_high is None) or prev_ci_low >= ci_high:\n",
    "            g = groups.setdefault(f\"arbitrary{group}\", set())\n",
    "            g.add(mult)\n",
    "            group += 1\n",
    "        else:\n",
    "            g = groups.setdefault(f\"arbitrary{group}\", set())\n",
    "            g.add(mult)\n",
    "        prev_ci_low = ci_low\n",
    "        prev_ci_high = ci_high\n",
    "    \n",
    "    #print(f\"Divisor: {divisor}, num groups: {group}\", end=\"\\n\\t\")\n",
    "    #for g in groups.values():\n",
    "    #    print(len(g), end=\", \")\n",
    "    #print()\n",
    "    for group, mults in groups.items():\n",
    "        mult_pvals = [pvals[mult] for mult in mults]\n",
    "        group_pval_avg = np.mean(mult_pvals)\n",
    "        group_pval_var = np.var(mult_pvals)\n",
    "        group_pval_min = np.min(mult_pvals)\n",
    "        group_pval_max = np.max(mult_pvals)\n",
    "        for mult in mults:\n",
    "            io_map[mult][divisor] = (group,  group_pval_avg, group_pval_var, group_pval_min, group_pval_max)\n",
    "\n",
    "# then build dmap\n",
    "dmap = Map.from_io_maps(set(distributions_mults.keys()), io_map)"
   ]
  },
  {
   "cell_type": "code",
   "execution_count": 7,
   "id": "06104104-b612-40e9-bc1d-646356a13381",
   "metadata": {},
   "outputs": [
    {
     "name": "stdout",
     "output_type": "stream",
     "text": [
      "Total configs: 378, (6_048 bytes)\n",
      "Rows: 378, (9_722_292 bytes)\n",
      "Inputs: 3215\n",
      "Codomain: 11998\n",
      "None in codomain: False\n"
     ]
    }
   ],
   "source": [
    "print(dmap.describe())"
   ]
  },
  {
   "cell_type": "code",
   "execution_count": 8,
   "id": "eb8672ca-b76b-411d-b514-2387b555f184",
   "metadata": {},
   "outputs": [],
   "source": [
    "# deduplicate dmap\n",
    "dmap.deduplicate()"
   ]
  },
  {
   "cell_type": "code",
   "execution_count": 9,
   "id": "ccba09b0-31c3-450b-af30-efaa64329743",
   "metadata": {},
   "outputs": [
    {
     "name": "stdout",
     "output_type": "stream",
     "text": [
      "Total configs: 378, (14_344 bytes)\n",
      "Rows: 347, (8_924_972 bytes)\n",
      "Inputs: 3215\n",
      "Codomain: 11998\n",
      "None in codomain: False\n"
     ]
    }
   ],
   "source": [
    "print(dmap.describe())"
   ]
  },
  {
   "cell_type": "code",
   "execution_count": 10,
   "id": "5735e7d4-149c-4184-96f7-dcfd6017fbad",
   "metadata": {},
   "outputs": [],
   "source": [
    "# build a tree\n",
    "with silent():\n",
    "    tree = Tree.build(set(allmults), dmap)"
   ]
  },
  {
   "cell_type": "code",
   "execution_count": 11,
   "id": "d41093df-32c4-450d-922d-5ad042539397",
   "metadata": {},
   "outputs": [
    {
     "name": "stdout",
     "output_type": "stream",
     "text": [
      "Dmaps: 1\n",
      "Total cfgs: 378\n",
      "Height: 7\n",
      "Size: 533\n",
      "Leaves: 347\n",
      "Precise: False\n",
      "Leaf sizes: [1, 1, 1, 1, 1, 1, 1, 1, 1, 1, 1, 1, 1, 1, 1, 1, 1, 1, 1, 1, 1, 1, 1, 1, 1, 1, 1, 1, 1, 1, 1, 1, 1, 1, 1, 1, 1, 1, 1, 1, 1, 1, 1, 1, 1, 1, 1, 1, 1, 1, 1, 1, 1, 1, 1, 1, 1, 1, 1, 1, 1, 1, 1, 1, 1, 1, 1, 1, 1, 1, 1, 1, 1, 1, 1, 1, 1, 1, 1, 1, 1, 1, 1, 1, 1, 1, 1, 1, 1, 1, 1, 1, 1, 1, 1, 1, 1, 1, 1, 1, 1, 1, 1, 1, 1, 1, 1, 1, 1, 1, 1, 1, 1, 1, 1, 1, 1, 1, 1, 1, 1, 1, 1, 1, 1, 1, 1, 1, 1, 1, 1, 1, 1, 1, 1, 1, 1, 1, 1, 1, 1, 1, 1, 1, 1, 1, 1, 1, 1, 1, 1, 1, 1, 1, 1, 1, 1, 1, 1, 1, 1, 1, 1, 1, 1, 1, 1, 1, 1, 1, 1, 1, 1, 1, 1, 1, 1, 1, 1, 1, 1, 1, 1, 1, 1, 1, 1, 1, 1, 1, 1, 1, 1, 1, 1, 1, 1, 1, 1, 1, 1, 1, 1, 1, 1, 1, 1, 1, 1, 1, 1, 1, 1, 1, 1, 1, 1, 1, 1, 1, 1, 1, 1, 1, 1, 1, 1, 1, 1, 1, 1, 1, 1, 1, 1, 1, 1, 1, 1, 1, 1, 1, 1, 1, 1, 1, 1, 1, 1, 1, 1, 1, 1, 1, 1, 1, 1, 1, 1, 1, 1, 1, 1, 1, 1, 1, 1, 1, 1, 1, 1, 1, 1, 1, 1, 1, 1, 1, 1, 1, 1, 1, 1, 1, 1, 1, 1, 1, 1, 1, 1, 1, 1, 1, 1, 1, 1, 1, 1, 1, 1, 1, 1, 1, 1, 1, 1, 1, 1, 1, 1, 1, 1, 1, 1, 1, 1, 1, 1, 1, 1, 1, 1, 1, 1, 1, 1, 1, 1, 2, 2, 2, 2, 2, 2, 2, 2, 2, 2, 2, 3, 3, 4, 4, 4, 4, 5]\n",
      "Leaf depths: [1, 2, 2, 2, 2, 2, 2, 2, 2, 2, 2, 2, 2, 2, 2, 2, 2, 2, 2, 2, 2, 2, 2, 2, 2, 2, 2, 2, 2, 2, 3, 3, 3, 3, 3, 3, 3, 3, 3, 3, 3, 3, 3, 3, 3, 3, 3, 3, 3, 3, 3, 3, 3, 3, 3, 3, 3, 3, 3, 3, 3, 3, 3, 3, 3, 3, 3, 3, 3, 3, 3, 3, 3, 3, 3, 3, 3, 3, 3, 3, 3, 3, 3, 3, 3, 3, 3, 3, 3, 3, 3, 3, 3, 4, 4, 4, 4, 4, 4, 4, 4, 4, 4, 4, 4, 4, 4, 4, 4, 4, 4, 4, 4, 4, 4, 4, 4, 4, 4, 4, 4, 4, 4, 4, 4, 4, 4, 4, 4, 4, 4, 4, 4, 4, 4, 4, 4, 4, 4, 4, 4, 4, 4, 4, 4, 4, 4, 4, 4, 4, 4, 4, 4, 4, 4, 4, 4, 4, 4, 4, 4, 4, 4, 4, 4, 4, 4, 4, 4, 4, 4, 4, 4, 4, 4, 4, 4, 4, 4, 4, 4, 4, 4, 4, 4, 4, 4, 4, 4, 4, 4, 4, 4, 4, 4, 4, 4, 4, 4, 4, 4, 4, 4, 4, 4, 4, 4, 4, 4, 4, 4, 4, 4, 4, 4, 4, 4, 5, 5, 5, 5, 5, 5, 5, 5, 5, 5, 5, 5, 5, 5, 5, 5, 5, 5, 5, 5, 5, 5, 5, 5, 5, 5, 5, 5, 5, 5, 5, 5, 5, 5, 5, 5, 5, 5, 5, 5, 5, 5, 5, 5, 5, 5, 5, 5, 5, 5, 5, 5, 5, 5, 5, 5, 5, 5, 5, 5, 5, 5, 5, 5, 5, 5, 5, 5, 5, 5, 5, 5, 5, 5, 5, 5, 5, 5, 5, 5, 5, 5, 5, 5, 5, 5, 5, 5, 5, 5, 5, 5, 5, 5, 5, 5, 5, 6, 6, 6, 6, 6, 6, 6, 6, 6, 6, 6, 6, 6, 6, 6, 6, 6, 6, 6, 6, 6, 6, 6, 6, 6, 6, 6, 6, 6, 6, 6, 7, 7]\n",
      "Average leaf depth: 4.118\n",
      "Average leaf size: 1.089\n",
      "Random walk leaf depth: 2.642\n",
      "Random walk leaf size: 1.041\n",
      "Mean result depth: 4.153\n",
      "Mean result size: 1.270\n"
     ]
    }
   ],
   "source": [
    "print(tree.describe())"
   ]
  },
  {
   "cell_type": "code",
   "execution_count": 12,
   "id": "de577429-d87c-4967-be17-75cbb378860c",
   "metadata": {
    "scrolled": true
   },
   "outputs": [
    {
     "name": "stdout",
     "output_type": "stream",
     "text": [
      "378\n",
      "├── 1\n",
      "├── 10\n",
      "│   ├── 1\n",
      "│   ├── 1\n",
      "│   ├── 1\n",
      "│   ├── 1\n",
      "│   ├── 4\n",
      "│   │   ├── 1\n",
      "│   │   └── 3\n",
      "│   │       ├── 1\n",
      "│   │       └── 2\n",
      "│   │           ├── 1\n",
      "│   │           └── 1\n",
      "│   ├── 1\n",
      "│   └── 1\n",
      "├── 10\n",
      "│   ├── 1\n",
      "│   ├── 2\n",
      "│   │   ├── 1\n",
      "│   │   └── 1\n",
      "│   ├── 4\n",
      "│   │   ├── 1\n",
      "│   │   └── 3\n",
      "│   │       ├── 1\n",
      "│   │       └── 2\n",
      "│   │           ├── 1\n",
      "│   │           └── 1\n",
      "│   └── 3\n",
      "│       ├── 1\n",
      "│       ├── 1\n",
      "│       └── 1\n",
      "├── 49\n",
      "│   ├── 1\n",
      "│   ├── 13\n",
      "│   │   ├── 1\n",
      "│   │   ├── 2\n",
      "│   │   │   ├── 1\n",
      "│   │   │   └── 1\n",
      "│   │   ├── 2\n",
      "│   │   │   ├── 1\n",
      "│   │   │   └── 1\n",
      "│   │   ├── 1\n",
      "│   │   ├── 3\n",
      "│   │   │   ├── 1\n",
      "│   │   │   ├── 1\n",
      "│   │   │   └── 1\n",
      "│   │   ├── 2\n",
      "│   │   │   ├── 1\n",
      "│   │   │   └── 1\n",
      "│   │   └── 2\n",
      "│   │       ├── 1\n",
      "│   │       └── 1\n",
      "│   ├── 10\n",
      "│   │   ├── 1\n",
      "│   │   ├── 4\n",
      "│   │   │   ├── 1\n",
      "│   │   │   ├── 2\n",
      "│   │   │   │   ├── 1\n",
      "│   │   │   │   └── 1\n",
      "│   │   │   └── 1\n",
      "│   │   ├── 1\n",
      "│   │   └── 4\n",
      "│   │       ├── 1\n",
      "│   │       ├── 2\n",
      "│   │       │   ├── 1\n",
      "│   │       │   └── 1\n",
      "│   │       └── 1\n",
      "│   ├── 11\n",
      "│   │   ├── 5\n",
      "│   │   │   ├── 2\n",
      "│   │   │   │   ├── 1\n",
      "│   │   │   │   └── 1\n",
      "│   │   │   └── 3\n",
      "│   │   │       ├── 1\n",
      "│   │   │       └── 2\n",
      "│   │   │           ├── 1\n",
      "│   │   │           └── 1\n",
      "│   │   ├── 5\n",
      "│   │   │   ├── 1\n",
      "│   │   │   └── 4\n",
      "│   │   └── 1\n",
      "│   ├── 4\n",
      "│   │   ├── 1\n",
      "│   │   └── 3\n",
      "│   ├── 8\n",
      "│   │   ├── 1\n",
      "│   │   ├── 1\n",
      "│   │   ├── 3\n",
      "│   │   │   ├── 1\n",
      "│   │   │   ├── 1\n",
      "│   │   │   └── 1\n",
      "│   │   └── 3\n",
      "│   │       ├── 1\n",
      "│   │       ├── 1\n",
      "│   │       └── 1\n",
      "│   ├── 1\n",
      "│   └── 1\n",
      "├── 20\n",
      "│   ├── 4\n",
      "│   │   ├── 1\n",
      "│   │   ├── 1\n",
      "│   │   ├── 1\n",
      "│   │   └── 1\n",
      "│   ├── 1\n",
      "│   ├── 1\n",
      "│   ├── 1\n",
      "│   ├── 3\n",
      "│   │   ├── 1\n",
      "│   │   ├── 1\n",
      "│   │   └── 1\n",
      "│   ├── 1\n",
      "│   ├── 1\n",
      "│   ├── 5\n",
      "│   │   ├── 1\n",
      "│   │   ├── 2\n",
      "│   │   │   ├── 1\n",
      "│   │   │   └── 1\n",
      "│   │   └── 2\n",
      "│   │       ├── 1\n",
      "│   │       └── 1\n",
      "│   ├── 1\n",
      "│   ├── 1\n",
      "│   └── 1\n",
      "├── 53\n",
      "│   ├── 20\n",
      "│   │   ├── 2\n",
      "│   │   │   ├── 1\n",
      "│   │   │   └── 1\n",
      "│   │   ├── 4\n",
      "│   │   │   ├── 1\n",
      "│   │   │   ├── 1\n",
      "│   │   │   ├── 1\n",
      "│   │   │   └── 1\n",
      "│   │   ├── 1\n",
      "│   │   ├── 2\n",
      "│   │   │   ├── 1\n",
      "│   │   │   └── 1\n",
      "│   │   ├── 1\n",
      "│   │   ├── 5\n",
      "│   │   │   ├── 1\n",
      "│   │   │   ├── 1\n",
      "│   │   │   ├── 1\n",
      "│   │   │   └── 2\n",
      "│   │   │       ├── 1\n",
      "│   │   │       └── 1\n",
      "│   │   ├── 2\n",
      "│   │   │   ├── 1\n",
      "│   │   │   └── 1\n",
      "│   │   └── 3\n",
      "│   │       ├── 1\n",
      "│   │       ├── 1\n",
      "│   │       └── 1\n",
      "│   ├── 19\n",
      "│   │   ├── 6\n",
      "│   │   │   ├── 2\n",
      "│   │   │   │   ├── 1\n",
      "│   │   │   │   └── 1\n",
      "│   │   │   ├── 2\n",
      "│   │   │   │   ├── 1\n",
      "│   │   │   │   └── 1\n",
      "│   │   │   └── 2\n",
      "│   │   │       ├── 1\n",
      "│   │   │       └── 1\n",
      "│   │   ├── 7\n",
      "│   │   │   ├── 1\n",
      "│   │   │   ├── 3\n",
      "│   │   │   │   ├── 1\n",
      "│   │   │   │   ├── 1\n",
      "│   │   │   │   └── 1\n",
      "│   │   │   └── 3\n",
      "│   │   │       ├── 2\n",
      "│   │   │       │   ├── 1\n",
      "│   │   │       │   └── 1\n",
      "│   │   │       └── 1\n",
      "│   │   ├── 3\n",
      "│   │   │   ├── 1\n",
      "│   │   │   └── 2\n",
      "│   │   │       ├── 1\n",
      "│   │   │       └── 1\n",
      "│   │   └── 3\n",
      "│   │       ├── 1\n",
      "│   │       └── 2\n",
      "│   ├── 5\n",
      "│   │   ├── 2\n",
      "│   │   │   ├── 1\n",
      "│   │   │   └── 1\n",
      "│   │   ├── 1\n",
      "│   │   └── 2\n",
      "│   │       ├── 1\n",
      "│   │       └── 1\n",
      "│   ├── 7\n",
      "│   │   ├── 2\n",
      "│   │   │   ├── 1\n",
      "│   │   │   └── 1\n",
      "│   │   ├── 2\n",
      "│   │   │   ├── 1\n",
      "│   │   │   └── 1\n",
      "│   │   ├── 1\n",
      "│   │   └── 2\n",
      "│   └── 2\n",
      "│       ├── 1\n",
      "│       └── 1\n",
      "├── 134\n",
      "│   ├── 23\n",
      "│   │   ├── 5\n",
      "│   │   │   ├── 1\n",
      "│   │   │   ├── 1\n",
      "│   │   │   ├── 1\n",
      "│   │   │   ├── 1\n",
      "│   │   │   └── 1\n",
      "│   │   ├── 6\n",
      "│   │   │   ├── 2\n",
      "│   │   │   │   ├── 1\n",
      "│   │   │   │   └── 1\n",
      "│   │   │   ├── 2\n",
      "│   │   │   │   ├── 1\n",
      "│   │   │   │   └── 1\n",
      "│   │   │   └── 2\n",
      "│   │   │       ├── 1\n",
      "│   │   │       └── 1\n",
      "│   │   ├── 1\n",
      "│   │   ├── 1\n",
      "│   │   ├── 1\n",
      "│   │   ├── 1\n",
      "│   │   ├── 1\n",
      "│   │   ├── 1\n",
      "│   │   └── 6\n",
      "│   │       ├── 2\n",
      "│   │       │   ├── 1\n",
      "│   │       │   └── 1\n",
      "│   │       ├── 2\n",
      "│   │       │   ├── 1\n",
      "│   │       │   └── 1\n",
      "│   │       └── 2\n",
      "│   │           ├── 1\n",
      "│   │           └── 1\n",
      "│   ├── 6\n",
      "│   │   ├── 1\n",
      "│   │   ├── 2\n",
      "│   │   │   ├── 1\n",
      "│   │   │   └── 1\n",
      "│   │   ├── 1\n",
      "│   │   └── 2\n",
      "│   │       ├── 1\n",
      "│   │       └── 1\n",
      "│   ├── 7\n",
      "│   │   ├── 1\n",
      "│   │   ├── 2\n",
      "│   │   │   ├── 1\n",
      "│   │   │   └── 1\n",
      "│   │   ├── 1\n",
      "│   │   ├── 2\n",
      "│   │   │   ├── 1\n",
      "│   │   │   └── 1\n",
      "│   │   └── 1\n",
      "│   ├── 24\n",
      "│   │   ├── 3\n",
      "│   │   │   ├── 1\n",
      "│   │   │   ├── 1\n",
      "│   │   │   └── 1\n",
      "│   │   ├── 7\n",
      "│   │   │   ├── 2\n",
      "│   │   │   └── 5\n",
      "│   │   │       ├── 1\n",
      "│   │   │       └── 4\n",
      "│   │   ├── 2\n",
      "│   │   ├── 7\n",
      "│   │   │   ├── 4\n",
      "│   │   │   │   ├── 1\n",
      "│   │   │   │   ├── 1\n",
      "│   │   │   │   └── 2\n",
      "│   │   │   │       ├── 1\n",
      "│   │   │   │       └── 1\n",
      "│   │   │   └── 3\n",
      "│   │   │       ├── 1\n",
      "│   │   │       └── 2\n",
      "│   │   │           ├── 1\n",
      "│   │   │           └── 1\n",
      "│   │   └── 5\n",
      "│   │       ├── 3\n",
      "│   │       │   ├── 1\n",
      "│   │       │   └── 2\n",
      "│   │       └── 2\n",
      "│   │           ├── 1\n",
      "│   │           └── 1\n",
      "│   ├── 46\n",
      "│   │   ├── 11\n",
      "│   │   │   ├── 3\n",
      "│   │   │   │   ├── 1\n",
      "│   │   │   │   └── 2\n",
      "│   │   │   │       ├── 1\n",
      "│   │   │   │       └── 1\n",
      "│   │   │   ├── 3\n",
      "│   │   │   │   ├── 1\n",
      "│   │   │   │   ├── 1\n",
      "│   │   │   │   └── 1\n",
      "│   │   │   ├── 4\n",
      "│   │   │   │   ├── 2\n",
      "│   │   │   │   │   ├── 1\n",
      "│   │   │   │   │   └── 1\n",
      "│   │   │   │   └── 2\n",
      "│   │   │   └── 1\n",
      "│   │   ├── 8\n",
      "│   │   │   ├── 5\n",
      "│   │   │   │   ├── 1\n",
      "│   │   │   │   └── 4\n",
      "│   │   │   └── 3\n",
      "│   │   │       ├── 1\n",
      "│   │   │       └── 2\n",
      "│   │   ├── 1\n",
      "│   │   ├── 10\n",
      "│   │   │   ├── 3\n",
      "│   │   │   │   ├── 1\n",
      "│   │   │   │   └── 2\n",
      "│   │   │   └── 7\n",
      "│   │   │       ├── 5\n",
      "│   │   │       ├── 1\n",
      "│   │   │       └── 1\n",
      "│   │   ├── 9\n",
      "│   │   │   ├── 1\n",
      "│   │   │   ├── 4\n",
      "│   │   │   │   ├── 2\n",
      "│   │   │   │   │   ├── 1\n",
      "│   │   │   │   │   └── 1\n",
      "│   │   │   │   └── 2\n",
      "│   │   │   │       ├── 1\n",
      "│   │   │   │       └── 1\n",
      "│   │   │   ├── 1\n",
      "│   │   │   └── 3\n",
      "│   │   │       ├── 1\n",
      "│   │   │       └── 2\n",
      "│   │   └── 7\n",
      "│   │       ├── 1\n",
      "│   │       ├── 2\n",
      "│   │       │   ├── 1\n",
      "│   │       │   └── 1\n",
      "│   │       ├── 1\n",
      "│   │       ├── 2\n",
      "│   │       │   ├── 1\n",
      "│   │       │   └── 1\n",
      "│   │       └── 1\n",
      "│   ├── 2\n",
      "│   │   ├── 1\n",
      "│   │   └── 1\n",
      "│   ├── 6\n",
      "│   │   ├── 2\n",
      "│   │   │   ├── 1\n",
      "│   │   │   └── 1\n",
      "│   │   ├── 2\n",
      "│   │   │   ├── 1\n",
      "│   │   │   └── 1\n",
      "│   │   └── 2\n",
      "│   │       ├── 1\n",
      "│   │       └── 1\n",
      "│   ├── 1\n",
      "│   ├── 12\n",
      "│   │   ├── 2\n",
      "│   │   │   ├── 1\n",
      "│   │   │   └── 1\n",
      "│   │   ├── 1\n",
      "│   │   ├── 2\n",
      "│   │   │   ├── 1\n",
      "│   │   │   └── 1\n",
      "│   │   ├── 2\n",
      "│   │   │   ├── 1\n",
      "│   │   │   └── 1\n",
      "│   │   ├── 1\n",
      "│   │   ├── 2\n",
      "│   │   │   ├── 1\n",
      "│   │   │   └── 1\n",
      "│   │   ├── 1\n",
      "│   │   └── 1\n",
      "│   ├── 1\n",
      "│   ├── 1\n",
      "│   ├── 2\n",
      "│   │   ├── 1\n",
      "│   │   └── 1\n",
      "│   ├── 1\n",
      "│   └── 2\n",
      "│       ├── 1\n",
      "│       └── 1\n",
      "├── 97\n",
      "│   ├── 27\n",
      "│   │   ├── 7\n",
      "│   │   │   ├── 2\n",
      "│   │   │   │   ├── 1\n",
      "│   │   │   │   └── 1\n",
      "│   │   │   ├── 2\n",
      "│   │   │   │   ├── 1\n",
      "│   │   │   │   └── 1\n",
      "│   │   │   ├── 2\n",
      "│   │   │   │   ├── 1\n",
      "│   │   │   │   └── 1\n",
      "│   │   │   └── 1\n",
      "│   │   ├── 2\n",
      "│   │   │   ├── 1\n",
      "│   │   │   └── 1\n",
      "│   │   ├── 3\n",
      "│   │   │   ├── 1\n",
      "│   │   │   ├── 1\n",
      "│   │   │   └── 1\n",
      "│   │   ├── 1\n",
      "│   │   ├── 7\n",
      "│   │   │   ├── 2\n",
      "│   │   │   │   ├── 1\n",
      "│   │   │   │   └── 1\n",
      "│   │   │   ├── 1\n",
      "│   │   │   ├── 1\n",
      "│   │   │   ├── 1\n",
      "│   │   │   ├── 1\n",
      "│   │   │   └── 1\n",
      "│   │   ├── 4\n",
      "│   │   │   ├── 1\n",
      "│   │   │   ├── 1\n",
      "│   │   │   ├── 1\n",
      "│   │   │   └── 1\n",
      "│   │   ├── 2\n",
      "│   │   │   ├── 1\n",
      "│   │   │   └── 1\n",
      "│   │   └── 1\n",
      "│   ├── 2\n",
      "│   │   ├── 1\n",
      "│   │   └── 1\n",
      "│   ├── 11\n",
      "│   │   ├── 3\n",
      "│   │   │   ├── 1\n",
      "│   │   │   └── 2\n",
      "│   │   │       ├── 1\n",
      "│   │   │       └── 1\n",
      "│   │   ├── 4\n",
      "│   │   │   ├── 2\n",
      "│   │   │   │   ├── 1\n",
      "│   │   │   │   └── 1\n",
      "│   │   │   └── 2\n",
      "│   │   │       ├── 1\n",
      "│   │   │       └── 1\n",
      "│   │   └── 4\n",
      "│   │       ├── 2\n",
      "│   │       │   ├── 1\n",
      "│   │       │   └── 1\n",
      "│   │       ├── 1\n",
      "│   │       └── 1\n",
      "│   ├── 6\n",
      "│   │   ├── 2\n",
      "│   │   │   ├── 1\n",
      "│   │   │   └── 1\n",
      "│   │   ├── 3\n",
      "│   │   │   ├── 2\n",
      "│   │   │   │   ├── 1\n",
      "│   │   │   │   └── 1\n",
      "│   │   │   └── 1\n",
      "│   │   └── 1\n",
      "│   ├── 13\n",
      "│   │   ├── 8\n",
      "│   │   │   ├── 4\n",
      "│   │   │   │   ├── 2\n",
      "│   │   │   │   └── 2\n",
      "│   │   │   │       ├── 1\n",
      "│   │   │   │       └── 1\n",
      "│   │   │   └── 4\n",
      "│   │   │       ├── 3\n",
      "│   │   │       │   ├── 2\n",
      "│   │   │       │   └── 1\n",
      "│   │   │       └── 1\n",
      "│   │   ├── 4\n",
      "│   │   │   ├── 2\n",
      "│   │   │   │   ├── 1\n",
      "│   │   │   │   └── 1\n",
      "│   │   │   └── 2\n",
      "│   │   │       ├── 1\n",
      "│   │   │       └── 1\n",
      "│   │   └── 1\n",
      "│   ├── 27\n",
      "│   │   ├── 11\n",
      "│   │   │   ├── 4\n",
      "│   │   │   │   ├── 2\n",
      "│   │   │   │   │   ├── 1\n",
      "│   │   │   │   │   └── 1\n",
      "│   │   │   │   └── 2\n",
      "│   │   │   │       ├── 1\n",
      "│   │   │   │       └── 1\n",
      "│   │   │   ├── 5\n",
      "│   │   │   │   ├── 1\n",
      "│   │   │   │   └── 4\n",
      "│   │   │   └── 2\n",
      "│   │   │       ├── 1\n",
      "│   │   │       └── 1\n",
      "│   │   ├── 9\n",
      "│   │   │   ├── 4\n",
      "│   │   │   │   ├── 1\n",
      "│   │   │   │   └── 3\n",
      "│   │   │   │       ├── 1\n",
      "│   │   │   │       └── 2\n",
      "│   │   │   │           ├── 1\n",
      "│   │   │   │           └── 1\n",
      "│   │   │   └── 5\n",
      "│   │   │       ├── 2\n",
      "│   │   │       │   ├── 1\n",
      "│   │   │       │   └── 1\n",
      "│   │   │       ├── 2\n",
      "│   │   │       │   ├── 1\n",
      "│   │   │       │   └── 1\n",
      "│   │   │       └── 1\n",
      "│   │   ├── 6\n",
      "│   │   │   ├── 3\n",
      "│   │   │   └── 3\n",
      "│   │   │       ├── 1\n",
      "│   │   │       └── 2\n",
      "│   │   │           ├── 1\n",
      "│   │   │           └── 1\n",
      "│   │   └── 1\n",
      "│   ├── 1\n",
      "│   ├── 1\n",
      "│   ├── 1\n",
      "│   ├── 3\n",
      "│   │   ├── 1\n",
      "│   │   └── 2\n",
      "│   │       ├── 1\n",
      "│   │       └── 1\n",
      "│   └── 5\n",
      "│       ├── 2\n",
      "│       │   ├── 1\n",
      "│       │   └── 1\n",
      "│       ├── 2\n",
      "│       │   ├── 1\n",
      "│       │   └── 1\n",
      "│       └── 1\n",
      "└── 4\n",
      "    ├── 1\n",
      "    ├── 1\n",
      "    ├── 1\n",
      "    └── 1\n"
     ]
    }
   ],
   "source": [
    "print(tree.render_basic())"
   ]
  },
  {
   "cell_type": "markdown",
   "id": "437bcd9c-1da5-428a-a979-0835326777f3",
   "metadata": {},
   "source": [
    "## Simulate distinguishing using a tree\n",
    "We can now simulate distinguishing using the tree and how it behaves with increasing the number of samples per divisor collected."
   ]
  },
  {
   "cell_type": "code",
   "execution_count": null,
   "id": "109ed95f-0949-4251-874f-9b87cfe97a00",
   "metadata": {},
   "outputs": [],
   "source": [
    "simulations = 1000\n",
    "\n",
    "for nattack in trange(100, 10000, 100):\n",
    "    successes = 0\n",
    "    pathiness = 0\n",
    "    for i in range(simulations):\n",
    "        true_mult = random.choice(allmults)\n",
    "        probmap = distributions_mults[true_mult]\n",
    "        node = tree.root\n",
    "        while True:\n",
    "            if node.is_leaf:\n",
    "                break\n",
    "            divisor = node.dmap_input\n",
    "            prob = probmap[divisor]\n",
    "            sampled_prob = binom(nattack, prob).rvs() / nattack\n",
    "            best_child = None\n",
    "            true_child = None\n",
    "            best_group_distance = None\n",
    "            #print(f\"Divisor: {divisor}, prob: {prob}, sampled: {sampled_prob}\")\n",
    "            for child in node.children:\n",
    "                if true_mult in child.cfgs:\n",
    "                    true_child = child\n",
    "                group, group_pval_avg, group_pval_var, group_pval_min, group_pval_max = child.response\n",
    "                group_distance = min(abs(sampled_prob - group_pval_min), abs(sampled_prob - group_pval_max))\n",
    "                #print(f\"Child {group}, {group_pval_avg}\")\n",
    "                if best_child is None or \\\n",
    "                    (group_distance < best_group_distance):\n",
    "                    best_child = child\n",
    "                    best_group_distance = group_distance\n",
    "                if sampled_prob > group_pval_min and sampled_prob < group_pval_max:\n",
    "                    best_child = child\n",
    "                    break\n",
    "            #print(f\"Best {best_child.response}\")\n",
    "            if true_child is not None and true_child != best_child:\n",
    "                pass\n",
    "                #print(f\"Mistake! {prob}, {sampled_prob} true:{true_child.response}, chosen:{best_child.response}\")\n",
    "            node = best_child\n",
    "            if true_mult in node.cfgs:\n",
    "                pathiness += 1\n",
    "        #print(f\"Arrived: {true_mult in node.cfgs}\")\n",
    "        if true_mult in node.cfgs:\n",
    "            successes += 1\n",
    "    print(f\"{nattack}: success rate {successes/simulations}, pathiness {pathiness/simulations}\")"
   ]
  },
  {
   "cell_type": "markdown",
   "id": "308df683-952e-430a-b2bd-f19bcfb98b8e",
   "metadata": {},
   "source": [
    "## Simulate distinguishing using a distance metric\n",
    "\n",
    "We need to first select some features (divisors) from the set of all divisors that we will query\n",
    "the target with. This set should be the smallest (to not do a lot of queries) yet allow us to distinguish as\n",
    "much as possible."
   ]
  },
  {
   "cell_type": "markdown",
   "id": "62d2f2a2-495e-459d-b0e2-89c9a5973b1e",
   "metadata": {},
   "source": [
    "### Feature selection using trees + classification error\n",
    "\n",
    "We can reuse the clustering + tree building approach above and just take the inputs that the greedy tree building choses as the features. However, we can also use more conventional feature selection approaches."
   ]
  },
  {
   "cell_type": "code",
   "execution_count": 86,
   "id": "cc1a9956-bc8c-47cf-b6ec-093c6cf85c7d",
   "metadata": {
    "editable": true,
    "slideshow": {
     "slide_type": ""
    },
    "tags": []
   },
   "outputs": [
    {
     "name": "stdout",
     "output_type": "stream",
     "text": [
      "[3]\n",
      "[[-0.53851648 -0.2236068  -0.         -0.50990195]\n",
      " [-0.14142136 -0.42426407 -0.51961524 -0.80622577]]\n",
      "[3]\n",
      "[[1.04188836e-27 1.24861430e-05 9.99987514e-01 1.14579810e-34]]\n",
      "1.0\n",
      "1.0\n",
      "1.0\n",
      "1.0\n"
     ]
    }
   ],
   "source": [
    "from sklearn.base import BaseEstimator, ClassifierMixin\n",
    "from sklearn.utils.validation import validate_data, check_is_fitted\n",
    "from sklearn.utils.multiclass import unique_labels\n",
    "from scipy.special import logsumexp\n",
    "from sklearn.metrics import euclidean_distances, top_k_accuracy_score, make_scorer, accuracy_score\n",
    "\n",
    "\n",
    "class EuclidClassifier(ClassifierMixin, BaseEstimator):\n",
    "    def __init__(self, *, nattack=100):\n",
    "        self.nattack = nattack\n",
    "\n",
    "    def fit(self, X, y):\n",
    "        X, y = validate_data(self, X, y)\n",
    "        if not np.logical_and(X >= 0, X <= 1).all():\n",
    "            raise TypeError(\"Expects valid probabilities in X.\")\n",
    "        self.classes_ = unique_labels(y)\n",
    "        if len(self.classes_) != len(y):\n",
    "            raise ValueError(\"Expects only one sample per class containing the binomial probabilities.\")\n",
    "        self.X_ = X\n",
    "        self.y_ = y\n",
    "        return self\n",
    "\n",
    "    def decision_function(self, X):\n",
    "        check_is_fitted(self)\n",
    "        X = validate_data(self, X, reset=False)\n",
    "        distances = euclidean_distances(X / self.nattack, self.X_)\n",
    "        return -distances\n",
    "\n",
    "    def predict(self, X):\n",
    "        check_is_fitted(self)\n",
    "        X = validate_data(self, X, reset=False)\n",
    "        distances = euclidean_distances(X / self.nattack, self.X_)\n",
    "        closest = np.argmin(distances, axis=1)\n",
    "        return self.classes_[closest]\n",
    "\n",
    "\n",
    "class BayesClassifier(ClassifierMixin, BaseEstimator):\n",
    "    def __init__(self, *, nattack=100):\n",
    "        self.nattack = nattack\n",
    "\n",
    "    def fit(self, X, y):\n",
    "        # X has (nmults = nsamples, nfeats)\n",
    "        X, y = validate_data(self, X, y)\n",
    "        if not np.logical_and(X >= 0, X <= 1).all():\n",
    "            raise TypeError(\"Expects valid probabilities in X.\")\n",
    "        self.classes_ = unique_labels(y)\n",
    "        if len(self.classes_) != len(y):\n",
    "            raise ValueError(\"Expects only one sample per class containing the binomial probabilities.\")\n",
    "        self.X_ = X\n",
    "        self.y_ = y\n",
    "        return self\n",
    "\n",
    "    def decision_function(self, X):\n",
    "        check_is_fitted(self)\n",
    "        X = validate_data(self, X, reset=False)\n",
    "        # We have a uniform prior, so we can ignore it.\n",
    "        probas = np.zeros((len(X), len(self.classes_)))\n",
    "        for i, row in enumerate(X):\n",
    "            p = binom(self.nattack, self.X_).logpmf(row)\n",
    "            s = np.sum(p, axis=1)\n",
    "            log_prob_x = logsumexp(s)\n",
    "            res = np.exp(s - log_prob_x)\n",
    "            probas[i, ] = res\n",
    "        return probas\n",
    "\n",
    "    def predict_proba(self, X):\n",
    "        return self.decision_function(X)\n",
    "\n",
    "    def predict(self, X):\n",
    "        check_is_fitted(self)\n",
    "        X = validate_data(self, X, reset=False)\n",
    "        # We have a uniform prior, so we can ignore it.\n",
    "        results = np.empty(len(X), dtype=self.classes_.dtype)\n",
    "        for i, row in enumerate(X):\n",
    "            p = binom(self.nattack, self.X_).logpmf(row)\n",
    "            s = np.sum(p, axis=1)\n",
    "            most_likely = np.argmax(s)\n",
    "            results[i] = self.classes_[most_likely]\n",
    "        return results\n",
    "\n",
    "\n",
    "def to_sklearn(mults_map: dict[MultIdent, ProbMap], feats: list[int]):\n",
    "    nfeats = len(feats)\n",
    "    nmults = len(mults_map)\n",
    "    classes = np.arange(nmults, dtype=np.uint32)\n",
    "    probs = np.zeros((nmults, nfeats), dtype=np.float64)\n",
    "    for i, divisor in enumerate(feats):\n",
    "        for j, probmap in enumerate(mults_map.values()):\n",
    "            probs[j, i] = probmap[divisor]\n",
    "    return probs, classes\n",
    "\n",
    "\n",
    "def evaluate_classifier(nattack: int,\n",
    "                        simulations: int,\n",
    "                        X,\n",
    "                        y,\n",
    "                        classifier,\n",
    "                        scorer):\n",
    "    #X, y = to_sklearn(mults, feats)\n",
    "    nmults, nfeats = X.shape\n",
    "    classifier.set_params(nattack=nattack)\n",
    "    classifier.fit(X, y)\n",
    "\n",
    "    X_samp = np.zeros((simulations, nfeats), dtype=np.uint32)\n",
    "    y_samp = np.zeros(simulations, dtype=np.uint32)\n",
    "\n",
    "    for i in range(simulations):\n",
    "        if i < nmults and simulations >= nmults:\n",
    "            j = i\n",
    "        else:\n",
    "            j = random.randrange(nmults)\n",
    "        X_samp[i] = binom(nattack, X[j]).rvs()\n",
    "        y_samp[i] = j\n",
    "\n",
    "    return scorer(classifier, X_samp, y_samp)\n",
    "\n",
    "\n",
    "def average_rank_score(y_true, y_pred, labels=None):\n",
    "    y_true = np.asarray(y_true)\n",
    "    y_pred = np.asarray(y_pred)\n",
    "    \n",
    "    n_samples, n_classes = y_pred.shape\n",
    "    if labels is not None:\n",
    "        labels = np.asarray(labels)\n",
    "        if len(labels) != n_classes:\n",
    "            raise ValueError()\n",
    "        label_indexes = np.searchsorted(labels, y_true)\n",
    "        indexes = np.where(labels[label_indexes] == y_true, label_indexes, -1)\n",
    "    else:\n",
    "        indexes = y_true\n",
    "    true_scores = y_pred[np.arange(n_samples), indexes]\n",
    "    \n",
    "    counts_higher = np.sum(y_pred > true_scores[:, None], axis=1)\n",
    "    \n",
    "    ranks = counts_higher + 1\n",
    "    \n",
    "    return ranks.mean()\n",
    "\n",
    "X = np.array([[0.7, 0.7, 0.1], [0.3, 0.7, 0.1], [0.2, 0.5, 0.1], [0.1, 0.1, 0.4]])\n",
    "y = np.array([1, 2, 3, 4])\n",
    "\n",
    "euc = EuclidClassifier(nattack=100).fit(X, y)\n",
    "label = euc.predict(np.array([20, 50, 10]).reshape(1, -1))\n",
    "dec = euc.decision_function(np.array([[20, 50, 10], [70, 60, 20]]))\n",
    "print(label)\n",
    "print(dec)\n",
    "\n",
    "clf = BayesClassifier(nattack=100).fit(X, y)\n",
    "label = clf.predict(np.array([20, 50, 10]).reshape(1, -1))\n",
    "ps = clf.predict_proba(np.array([20, 50, 10]).reshape(1, -1))\n",
    "print(label)\n",
    "print(ps)\n",
    "\n",
    "\n",
    "acc = top_k_accuracy_score(np.array([3, 1]),\n",
    "                     euc.decision_function(np.array([[20, 50, 10], [70, 60, 20]])),\n",
    "                     labels = [1, 2, 3, 4],\n",
    "                     k=1)\n",
    "print(acc)\n",
    "acc = top_k_accuracy_score(np.array([3, 1]),\n",
    "                     clf.predict_proba(np.array([[20, 50, 10], [70, 60, 20]])),\n",
    "                     labels = [1, 2, 3, 4],\n",
    "                     k=1)\n",
    "print(acc)\n",
    "\n",
    "avg = average_rank_score(np.array([2, 0]),\n",
    "                     euc.decision_function(np.array([[20, 50, 10], [70, 60, 20]])))\n",
    "print(avg)\n",
    "avg = average_rank_score(np.array([3, 1]),\n",
    "                         euc.decision_function(np.array([[20, 50, 10], [70, 60, 20]])),\n",
    "                         labels = [1, 2, 3, 4])\n",
    "print(avg)\n",
    "\n",
    "accuracy_scorer = make_scorer(\n",
    "    top_k_accuracy_score,\n",
    "    greater_is_better=True,\n",
    "    response_method=(\"decision_function\", \"predict_proba\"),\n",
    ")\n",
    "\n",
    "#accuracy_scorer.__str__ = lambda self: \"Accuracy\"\n",
    "\n",
    "top_5_scorer = make_scorer(\n",
    "    top_k_accuracy_score,\n",
    "    greater_is_better=True,\n",
    "    response_method=(\"decision_function\", \"predict_proba\"),\n",
    "    k=5\n",
    ")\n",
    "\n",
    "#top_5_scorer.__str__ = lambda self: \"Top-5 accuracy\"\n",
    "\n",
    "top_10_scorer = make_scorer(\n",
    "    top_k_accuracy_score,\n",
    "    greater_is_better=True,\n",
    "    response_method=(\"decision_function\", \"predict_proba\"),\n",
    "    k=10\n",
    ")\n",
    "\n",
    "#top_10_scorer.__str__ = lambda self: \"Top-10 accuracy\"\n",
    "\n",
    "avg_rank_scorer = make_scorer(\n",
    "    average_rank_score,\n",
    "    greater_is_better=False,\n",
    "    response_method=(\"decision_function\", \"predict_proba\"),\n",
    ")\n",
    "\n",
    "#avg_rank_scorer.__str__ = lambda self: \"Average rank\""
   ]
  },
  {
   "cell_type": "code",
   "execution_count": 82,
   "id": "a9fae775-797f-4efe-ac28-d83a8c905372",
   "metadata": {},
   "outputs": [],
   "source": [
    "class FeatureSelector:\n",
    "    def __init__(self,\n",
    "                 allfeats: list[int],\n",
    "                 mults: dict[MultIdent, ProbMap],\n",
    "                 num_workers: int):\n",
    "        self.allfeats = allfeats\n",
    "        self.mults = mults\n",
    "        self.num_workers = num_workers\n",
    "\n",
    "    def prepare(self, nattack: int):\n",
    "        self.nattack = nattack\n",
    "\n",
    "    def select(self, nfeats: int, startwith: list[int] = None) -> list[int]:\n",
    "        pass\n",
    "\n",
    "class FeaturesByClassification(FeatureSelector):\n",
    "    def __init__(self,\n",
    "             allfeats: list[int],\n",
    "             mults: dict[MultIdent, ProbMap],\n",
    "             num_workers: int,\n",
    "             simulations: int,\n",
    "             classifier,\n",
    "             scorer):\n",
    "        super().__init__(allfeats, mults, num_workers)\n",
    "        self.simulations = simulations\n",
    "        self.classifier = classifier\n",
    "        self.scorer = scorer\n",
    "\n",
    "class RandomFeatures(FeaturesByClassification):\n",
    "\n",
    "    def __init__(self,\n",
    "             allfeats: list[int],\n",
    "             mults: dict[MultIdent, ProbMap],\n",
    "             num_workers: int,\n",
    "             simulations: int,\n",
    "             classifier,\n",
    "             scorer,\n",
    "             retries: int):\n",
    "        super().__init__(allfeats, mults, num_workers, simulations, classifier, scorer)\n",
    "        self.retries = retries\n",
    "    \n",
    "    def _select_random(self, nfeats: int, startwith: list[int] = None) -> list[int]:\n",
    "        if startwith is None:\n",
    "            startwith = []\n",
    "        toselect = nfeats - len(startwith)\n",
    "        if toselect > 0:\n",
    "            available_feats = list(filter(lambda feat: feat not in startwith, self.allfeats))\n",
    "            selected = random.sample(available_feats, toselect)\n",
    "            return startwith + selected\n",
    "        elif toselect < 0:\n",
    "            return random.sample(startwith, nfeats)\n",
    "        else:\n",
    "            return startwith\n",
    "\n",
    "    def select(self, nfeats: int, startwith: list[int] = None) -> tuple[list[int], float]:\n",
    "        with TaskExecutor(max_workers=self.num_workers) as pool:\n",
    "            feat_map = []\n",
    "            for i in range(self.retries):\n",
    "                feats = self._select_random(nfeats, startwith)\n",
    "                X, y = to_sklearn(self.mults, feats)\n",
    "                feat_map.append(feats)\n",
    "                pool.submit_task(i,\n",
    "                                 evaluate_classifier,\n",
    "                                 self.nattack, self.simulations,\n",
    "                                 X, y, self.classifier, self.scorer)\n",
    "            best_score = None\n",
    "            best_feats = None\n",
    "            for i, future in tqdm(pool.as_completed(), total=len(pool.tasks), desc=\"retries\", leave=False):\n",
    "                score = future.result()\n",
    "                #print(i, feat_map[i], score)\n",
    "                if best_score is None or score > best_score:\n",
    "                    best_score = score\n",
    "                    best_feats = feat_map[i]\n",
    "            return best_feats, best_score\n",
    "\n",
    "\n",
    "class GreedyFeatures(FeaturesByClassification):\n",
    "\n",
    "    def select(self, nfeats: int, startwith: list[int] = None) -> tuple[list[int], float]:\n",
    "        if startwith is None:\n",
    "            startwith = []\n",
    "        toselect = nfeats - len(startwith)\n",
    "        if toselect < 0:\n",
    "            raise ValueError(\"No features to select.\")\n",
    "        available_feats = list(filter(lambda feat: feat not in startwith, self.allfeats))\n",
    "        current = list(startwith)\n",
    "        with TaskExecutor(max_workers=self.num_workers) as pool:\n",
    "            while toselect > 0:\n",
    "                for feat in available_feats:\n",
    "                    feats = current + [feat]\n",
    "                    X, y = to_sklearn(self.mults, feats)\n",
    "                    pool.submit_task(feat,\n",
    "                                     evaluate_classifier,\n",
    "                                     self.nattack, self.simulations,\n",
    "                                     X, y, self.classifier, self.scorer)\n",
    "                best_score = None\n",
    "                best_feat = None\n",
    "                for feat, future in tqdm(pool.as_completed(), total=len(pool.tasks), leave=False):\n",
    "                    score = future.result()\n",
    "                    if best_score is None or score > best_score:\n",
    "                        best_score = score\n",
    "                        best_feat = feat\n",
    "                current.append(best_feat)\n",
    "                toselect -= 1\n",
    "            return current, best_score\n",
    "\n",
    "\n",
    "def feature_search(feat_range, nattack_range, selector, restarts=False):\n",
    "    if isinstance(feat_range, int):\n",
    "        feat_range = [feat_range]\n",
    "    if isinstance(nattack_range, int):\n",
    "        nattack_range = [nattack_range]\n",
    "    results = {}\n",
    "    for nattack in tqdm(nattack_range, desc=\"nattack\", smoothing=0):\n",
    "        selector.prepare(nattack)\n",
    "        feats = []\n",
    "        for nfeats in tqdm(feat_range, desc=\"nfeats\", leave=False):\n",
    "            feats, score = selector.select(nfeats, [] if restarts else feats)\n",
    "            results[(nattack, nfeats)] = feats\n",
    "            print(f\"{nattack},{nfeats}: {feats}, {score}\")\n",
    "    return results"
   ]
  },
  {
   "cell_type": "code",
   "execution_count": 76,
   "id": "f1c0bebe-c519-4241-a163-63613b929db2",
   "metadata": {},
   "outputs": [],
   "source": [
    "def plot_performance(classifier, scorer, simulations, feature_map, mults):\n",
    "    scores = {}\n",
    "    for (nattack, nfeats), feats in tqdm(feature_map.items(), desc=\"Evaluating\", leave=False):\n",
    "        X, y = to_sklearn(mults, feats)\n",
    "        score = evaluate_classifier(nattack, simulations, X, y, classifier, scorer)\n",
    "        scores[(nattack, nfeats)] = score\n",
    "\n",
    "    x_coords = [k[0] for k in scores.keys()]\n",
    "    y_coords = [k[1] for k in scores.keys()]\n",
    "    \n",
    "    x_unique = sorted(set(x_coords))\n",
    "    y_unique = sorted(set(y_coords))\n",
    "\n",
    "    heatmap_data = np.zeros((len(y_unique), len(x_unique)))\n",
    "    \n",
    "    for (x, y), score in scores.items():\n",
    "        x_index = x_unique.index(x)\n",
    "        y_index = y_unique.index(y)\n",
    "        heatmap_data[y_index, x_index] = score\n",
    "\n",
    "    x_mesh, y_mesh = np.meshgrid(x_unique, y_unique)\n",
    "    \n",
    "    plt.pcolormesh(x_mesh, y_mesh, heatmap_data, cmap='viridis', shading='auto')\n",
    "    plt.colorbar(label='Score')\n",
    "\n",
    "    for i in range(len(y_unique)):\n",
    "        for j in range(len(x_unique)):\n",
    "            plt.text(x_unique[j], y_unique[i], f'{heatmap_data[i, j]:.2f}', ha='center', va='center', color='white' if heatmap_data[i, j] < 0.4 else \"black\")\n",
    "    \n",
    "    x_contour, y_contour = np.meshgrid(np.linspace(min(x_unique), max(x_unique), 100), \n",
    "                                   np.linspace(min(y_unique), max(y_unique), 100))\n",
    "    z_contour = x_contour * y_contour\n",
    "    \n",
    "    contour = plt.contour(x_contour, y_contour, z_contour, levels=[100, 200, 300, 400, 500], colors='white', zorder=4)\n",
    "    plt.clabel(contour, inline=True, fontsize=8)\n",
    "    \n",
    "    plt.xticks(ticks=x_unique, labels=x_unique)\n",
    "    plt.yticks(ticks=y_unique, labels=y_unique)\n",
    "    plt.xlabel('nattack')\n",
    "    plt.ylabel('nfeats')\n",
    "    plt.title(f'{scorer._score_func.__name__}{scorer._kwargs} ({classifier.__class__.__name__})')\n",
    "    plt.show()"
   ]
  },
  {
   "cell_type": "code",
   "execution_count": null,
   "id": "beb5720a-f793-4ad9-ad27-1bd943bb325b",
   "metadata": {
    "scrolled": true
   },
   "outputs": [],
   "source": [
    "feats_in_tree = Counter()\n",
    "for node in PreOrderIter(tree.root):\n",
    "    if node.is_leaf:\n",
    "        continue\n",
    "    feats_in_tree[node.dmap_input] += 1\n",
    "feats_in_tree = set(feats_in_tree.keys())"
   ]
  },
  {
   "cell_type": "code",
   "execution_count": 72,
   "id": "6e3260c9-c0fa-4828-a749-4d34499abacf",
   "metadata": {},
   "outputs": [
    {
     "data": {
      "application/vnd.jupyter.widget-view+json": {
       "model_id": "2726629e5a434a43a05103635da433eb",
       "version_major": 2,
       "version_minor": 0
      },
      "text/plain": [
       "nattack:   0%|          | 0/6 [00:00<?, ?it/s]"
      ]
     },
     "metadata": {},
     "output_type": "display_data"
    },
    {
     "data": {
      "application/vnd.jupyter.widget-view+json": {
       "model_id": "a1e37aa3924448c49242009769c5a035",
       "version_major": 2,
       "version_minor": 0
      },
      "text/plain": [
       "nfeats:   0%|          | 0/10 [00:00<?, ?it/s]"
      ]
     },
     "metadata": {},
     "output_type": "display_data"
    },
    {
     "data": {
      "application/vnd.jupyter.widget-view+json": {
       "model_id": "fb92eb9f9dd04431ac18a67a4c4ae8b1",
       "version_major": 2,
       "version_minor": 0
      },
      "text/plain": [
       "retries:   0%|          | 0/500 [00:00<?, ?it/s]"
      ]
     },
     "metadata": {},
     "output_type": "display_data"
    },
    {
     "name": "stdout",
     "output_type": "stream",
     "text": [
      "50,1: [3072], 0.142\n"
     ]
    },
    {
     "data": {
      "application/vnd.jupyter.widget-view+json": {
       "model_id": "468c2325ab454a008e071363b3e55cf2",
       "version_major": 2,
       "version_minor": 0
      },
      "text/plain": [
       "retries:   0%|          | 0/500 [00:00<?, ?it/s]"
      ]
     },
     "metadata": {},
     "output_type": "display_data"
    },
    {
     "name": "stdout",
     "output_type": "stream",
     "text": [
      "50,2: [1536, 165], 0.414\n"
     ]
    },
    {
     "data": {
      "application/vnd.jupyter.widget-view+json": {
       "model_id": "798be7eddf8b4de8a1ca978bfaebe65b",
       "version_major": 2,
       "version_minor": 0
      },
      "text/plain": [
       "retries:   0%|          | 0/500 [00:00<?, ?it/s]"
      ]
     },
     "metadata": {},
     "output_type": "display_data"
    },
    {
     "name": "stdout",
     "output_type": "stream",
     "text": [
      "50,3: [3072, 157, 248], 0.604\n"
     ]
    },
    {
     "data": {
      "application/vnd.jupyter.widget-view+json": {
       "model_id": "86db938edf9544b3a232513aba64cd86",
       "version_major": 2,
       "version_minor": 0
      },
      "text/plain": [
       "retries:   0%|          | 0/500 [00:00<?, ?it/s]"
      ]
     },
     "metadata": {},
     "output_type": "display_data"
    },
    {
     "name": "stdout",
     "output_type": "stream",
     "text": [
      "50,4: [1024, 165, 248, 221360928884514619392], 0.708\n"
     ]
    },
    {
     "data": {
      "application/vnd.jupyter.widget-view+json": {
       "model_id": "ee20d5be4fb54d67b8805dfac59afbf6",
       "version_major": 2,
       "version_minor": 0
      },
      "text/plain": [
       "retries:   0%|          | 0/500 [00:00<?, ?it/s]"
      ]
     },
     "metadata": {},
     "output_type": "display_data"
    },
    {
     "name": "stdout",
     "output_type": "stream",
     "text": [
      "50,5: [178, 3072, 248, 196, 173], 0.772\n"
     ]
    },
    {
     "data": {
      "application/vnd.jupyter.widget-view+json": {
       "model_id": "41eac078e13d4d8ba498f3994dbe8ef8",
       "version_major": 2,
       "version_minor": 0
      },
      "text/plain": [
       "retries:   0%|          | 0/500 [00:00<?, ?it/s]"
      ]
     },
     "metadata": {},
     "output_type": "display_data"
    },
    {
     "name": "stdout",
     "output_type": "stream",
     "text": [
      "50,6: [59, 276, 99, 12288, 296, 21711016731996786641919559689128982722488122124807605757398297001483711807488], 0.802\n"
     ]
    },
    {
     "data": {
      "application/vnd.jupyter.widget-view+json": {
       "model_id": "47191dcb74e744c28e8eb82e89ae66c1",
       "version_major": 2,
       "version_minor": 0
      },
      "text/plain": [
       "retries:   0%|          | 0/500 [00:00<?, ?it/s]"
      ]
     },
     "metadata": {},
     "output_type": "display_data"
    },
    {
     "name": "stdout",
     "output_type": "stream",
     "text": [
      "50,7: [85, 1536, 79, 109, 165, 588478287692501321609605258425718726509595822918503235584, 296], 0.878\n"
     ]
    },
    {
     "data": {
      "application/vnd.jupyter.widget-view+json": {
       "model_id": "543a910524a54abca5535f36c324b7c4",
       "version_major": 2,
       "version_minor": 0
      },
      "text/plain": [
       "retries:   0%|          | 0/500 [00:00<?, ?it/s]"
      ]
     },
     "metadata": {},
     "output_type": "display_data"
    },
    {
     "name": "stdout",
     "output_type": "stream",
     "text": [
      "50,8: [109, 1536, 103, 296, 224, 325, 276, 65], 0.858\n"
     ]
    },
    {
     "data": {
      "application/vnd.jupyter.widget-view+json": {
       "model_id": "9831f21b34654f1fbf7761d435aa341c",
       "version_major": 2,
       "version_minor": 0
      },
      "text/plain": [
       "retries:   0%|          | 0/500 [00:00<?, ?it/s]"
      ]
     },
     "metadata": {},
     "output_type": "display_data"
    },
    {
     "name": "stdout",
     "output_type": "stream",
     "text": [
      "50,9: [162, 77, 128, 325, 216, 59, 101, 1536, 85], 0.884\n"
     ]
    },
    {
     "data": {
      "application/vnd.jupyter.widget-view+json": {
       "model_id": "a601832ab1a44f0caaec6cdb5265bf7f",
       "version_major": 2,
       "version_minor": 0
      },
      "text/plain": [
       "retries:   0%|          | 0/500 [00:00<?, ?it/s]"
      ]
     },
     "metadata": {},
     "output_type": "display_data"
    },
    {
     "name": "stdout",
     "output_type": "stream",
     "text": [
      "50,10: [85, 55, 173, 196, 77, 315, 33, 1536, 20, 512], 0.902\n"
     ]
    },
    {
     "data": {
      "application/vnd.jupyter.widget-view+json": {
       "model_id": "29285c9ccaf54342b49422bcd4ba1925",
       "version_major": 2,
       "version_minor": 0
      },
      "text/plain": [
       "nfeats:   0%|          | 0/10 [00:00<?, ?it/s]"
      ]
     },
     "metadata": {},
     "output_type": "display_data"
    },
    {
     "data": {
      "application/vnd.jupyter.widget-view+json": {
       "model_id": "73043ff30aaa4945ba2016e7615a6c20",
       "version_major": 2,
       "version_minor": 0
      },
      "text/plain": [
       "retries:   0%|          | 0/500 [00:00<?, ?it/s]"
      ]
     },
     "metadata": {},
     "output_type": "display_data"
    },
    {
     "name": "stdout",
     "output_type": "stream",
     "text": [
      "100,1: [12288], 0.172\n"
     ]
    },
    {
     "data": {
      "application/vnd.jupyter.widget-view+json": {
       "model_id": "dae98681aa07485caa0da421933d0614",
       "version_major": 2,
       "version_minor": 0
      },
      "text/plain": [
       "retries:   0%|          | 0/500 [00:00<?, ?it/s]"
      ]
     },
     "metadata": {},
     "output_type": "display_data"
    },
    {
     "name": "stdout",
     "output_type": "stream",
     "text": [
      "100,2: [173, 3072], 0.534\n"
     ]
    },
    {
     "data": {
      "application/vnd.jupyter.widget-view+json": {
       "model_id": "b17e1bcdde2b485da0bf300744cfba4f",
       "version_major": 2,
       "version_minor": 0
      },
      "text/plain": [
       "retries:   0%|          | 0/500 [00:00<?, ?it/s]"
      ]
     },
     "metadata": {},
     "output_type": "display_data"
    },
    {
     "name": "stdout",
     "output_type": "stream",
     "text": [
      "100,3: [248, 65, 1536], 0.764\n"
     ]
    },
    {
     "data": {
      "application/vnd.jupyter.widget-view+json": {
       "model_id": "ebc0c64eb6a34e5d8246c9442d3f0824",
       "version_major": 2,
       "version_minor": 0
      },
      "text/plain": [
       "retries:   0%|          | 0/500 [00:00<?, ?it/s]"
      ]
     },
     "metadata": {},
     "output_type": "display_data"
    },
    {
     "name": "stdout",
     "output_type": "stream",
     "text": [
      "100,4: [173, 1536, 2048, 165], 0.844\n"
     ]
    },
    {
     "data": {
      "application/vnd.jupyter.widget-view+json": {
       "model_id": "537db09cee3949739dc8257756a2111e",
       "version_major": 2,
       "version_minor": 0
      },
      "text/plain": [
       "retries:   0%|          | 0/500 [00:00<?, ?it/s]"
      ]
     },
     "metadata": {},
     "output_type": "display_data"
    },
    {
     "name": "stdout",
     "output_type": "stream",
     "text": [
      "100,5: [1536, 1176956575385002643219210516851437453019191645837006471168, 325, 142, 53], 0.88\n"
     ]
    },
    {
     "data": {
      "application/vnd.jupyter.widget-view+json": {
       "model_id": "fb34706c3e84425f94a05a3ca94d8151",
       "version_major": 2,
       "version_minor": 0
      },
      "text/plain": [
       "retries:   0%|          | 0/500 [00:00<?, ?it/s]"
      ]
     },
     "metadata": {},
     "output_type": "display_data"
    },
    {
     "name": "stdout",
     "output_type": "stream",
     "text": [
      "100,6: [346, 325, 12288, 196, 79, 1536], 0.912\n"
     ]
    },
    {
     "data": {
      "application/vnd.jupyter.widget-view+json": {
       "model_id": "e3f0ebc74de64fae8b9147f406f15044",
       "version_major": 2,
       "version_minor": 0
      },
      "text/plain": [
       "retries:   0%|          | 0/500 [00:00<?, ?it/s]"
      ]
     },
     "metadata": {},
     "output_type": "display_data"
    },
    {
     "name": "stdout",
     "output_type": "stream",
     "text": [
      "100,7: [111, 131, 109, 102, 216, 196, 1024], 0.94\n"
     ]
    },
    {
     "data": {
      "application/vnd.jupyter.widget-view+json": {
       "model_id": "b5400cf9f0a74c47aeef16b99e87ad9d",
       "version_major": 2,
       "version_minor": 0
      },
      "text/plain": [
       "retries:   0%|          | 0/500 [00:00<?, ?it/s]"
      ]
     },
     "metadata": {},
     "output_type": "display_data"
    },
    {
     "name": "stdout",
     "output_type": "stream",
     "text": [
      "100,8: [131, 81, 2048, 72, 103, 165, 142, 3072], 0.96\n"
     ]
    },
    {
     "data": {
      "application/vnd.jupyter.widget-view+json": {
       "model_id": "2536ac3fcfa748dead02c464e0ebe2cc",
       "version_major": 2,
       "version_minor": 0
      },
      "text/plain": [
       "retries:   0%|          | 0/500 [00:00<?, ?it/s]"
      ]
     },
     "metadata": {},
     "output_type": "display_data"
    },
    {
     "name": "stdout",
     "output_type": "stream",
     "text": [
      "100,9: [346, 12288, 41, 165, 336, 588478287692501321609605258425718726509595822918503235584, 196, 173, 768], 0.962\n"
     ]
    },
    {
     "data": {
      "application/vnd.jupyter.widget-view+json": {
       "model_id": "566883fa53ee4cec9625634b95935bae",
       "version_major": 2,
       "version_minor": 0
      },
      "text/plain": [
       "retries:   0%|          | 0/500 [00:00<?, ?it/s]"
      ]
     },
     "metadata": {},
     "output_type": "display_data"
    },
    {
     "name": "stdout",
     "output_type": "stream",
     "text": [
      "100,10: [221360928884514619392, 57, 173, 138, 105, 12288, 165, 2048, 125, 79], 0.978\n"
     ]
    },
    {
     "data": {
      "application/vnd.jupyter.widget-view+json": {
       "model_id": "0b8e240467044b5fbe314fa9437d48f8",
       "version_major": 2,
       "version_minor": 0
      },
      "text/plain": [
       "nfeats:   0%|          | 0/10 [00:00<?, ?it/s]"
      ]
     },
     "metadata": {},
     "output_type": "display_data"
    },
    {
     "data": {
      "application/vnd.jupyter.widget-view+json": {
       "model_id": "79717bc0f4b54bcaa24619013cd9ef5d",
       "version_major": 2,
       "version_minor": 0
      },
      "text/plain": [
       "retries:   0%|          | 0/500 [00:00<?, ?it/s]"
      ]
     },
     "metadata": {},
     "output_type": "display_data"
    },
    {
     "name": "stdout",
     "output_type": "stream",
     "text": [
      "150,1: [1536], 0.214\n"
     ]
    },
    {
     "data": {
      "application/vnd.jupyter.widget-view+json": {
       "model_id": "390bea0cf3114e39b005b8764b57fbeb",
       "version_major": 2,
       "version_minor": 0
      },
      "text/plain": [
       "retries:   0%|          | 0/500 [00:00<?, ?it/s]"
      ]
     },
     "metadata": {},
     "output_type": "display_data"
    },
    {
     "name": "stdout",
     "output_type": "stream",
     "text": [
      "150,2: [65, 3072], 0.62\n"
     ]
    },
    {
     "data": {
      "application/vnd.jupyter.widget-view+json": {
       "model_id": "94e6a7053c6446239d11503f6c2a1c59",
       "version_major": 2,
       "version_minor": 0
      },
      "text/plain": [
       "retries:   0%|          | 0/500 [00:00<?, ?it/s]"
      ]
     },
     "metadata": {},
     "output_type": "display_data"
    },
    {
     "name": "stdout",
     "output_type": "stream",
     "text": [
      "150,3: [768, 248, 101], 0.85\n"
     ]
    },
    {
     "data": {
      "application/vnd.jupyter.widget-view+json": {
       "model_id": "6eeb8d1296354a799457088cfc7982ec",
       "version_major": 2,
       "version_minor": 0
      },
      "text/plain": [
       "retries:   0%|          | 0/500 [00:00<?, ?it/s]"
      ]
     },
     "metadata": {},
     "output_type": "display_data"
    },
    {
     "name": "stdout",
     "output_type": "stream",
     "text": [
      "150,4: [1536, 155, 248, 109], 0.932\n"
     ]
    },
    {
     "data": {
      "application/vnd.jupyter.widget-view+json": {
       "model_id": "7c05a2a9e5ee4c3fa71c6023cff02e33",
       "version_major": 2,
       "version_minor": 0
      },
      "text/plain": [
       "retries:   0%|          | 0/500 [00:00<?, ?it/s]"
      ]
     },
     "metadata": {},
     "output_type": "display_data"
    },
    {
     "name": "stdout",
     "output_type": "stream",
     "text": [
      "150,5: [111, 173, 101, 248, 1536], 0.948\n"
     ]
    },
    {
     "data": {
      "application/vnd.jupyter.widget-view+json": {
       "model_id": "676622776c804da4bc04fb9e2dca930b",
       "version_major": 2,
       "version_minor": 0
      },
      "text/plain": [
       "retries:   0%|          | 0/500 [00:00<?, ?it/s]"
      ]
     },
     "metadata": {},
     "output_type": "display_data"
    },
    {
     "name": "stdout",
     "output_type": "stream",
     "text": [
      "150,6: [134, 75, 157, 221360928884514619392, 196, 2048], 0.958\n"
     ]
    },
    {
     "data": {
      "application/vnd.jupyter.widget-view+json": {
       "model_id": "0ca671a509074fbeb3c2753f13badcf1",
       "version_major": 2,
       "version_minor": 0
      },
      "text/plain": [
       "retries:   0%|          | 0/500 [00:00<?, ?it/s]"
      ]
     },
     "metadata": {},
     "output_type": "display_data"
    },
    {
     "name": "stdout",
     "output_type": "stream",
     "text": [
      "150,7: [1536, 228, 1176956575385002643219210516851437453019191645837006471168, 329, 43, 512, 144], 0.966\n"
     ]
    },
    {
     "data": {
      "application/vnd.jupyter.widget-view+json": {
       "model_id": "bf6716bb9d3842ef840d918a7267fddc",
       "version_major": 2,
       "version_minor": 0
      },
      "text/plain": [
       "retries:   0%|          | 0/500 [00:00<?, ?it/s]"
      ]
     },
     "metadata": {},
     "output_type": "display_data"
    },
    {
     "name": "stdout",
     "output_type": "stream",
     "text": [
      "150,8: [178, 75, 512, 165, 72, 138, 1536, 56668397794435742564352], 0.978\n"
     ]
    },
    {
     "data": {
      "application/vnd.jupyter.widget-view+json": {
       "model_id": "81889370928848109f505e1c5e70214d",
       "version_major": 2,
       "version_minor": 0
      },
      "text/plain": [
       "retries:   0%|          | 0/500 [00:00<?, ?it/s]"
      ]
     },
     "metadata": {},
     "output_type": "display_data"
    },
    {
     "name": "stdout",
     "output_type": "stream",
     "text": [
      "150,9: [134, 3072, 21711016731996786641919559689128982722488122124807605757398297001483711807488, 105, 85, 224, 55, 329, 111], 0.988\n"
     ]
    },
    {
     "data": {
      "application/vnd.jupyter.widget-view+json": {
       "model_id": "084eece555354002bad498c578ece254",
       "version_major": 2,
       "version_minor": 0
      },
      "text/plain": [
       "retries:   0%|          | 0/500 [00:00<?, ?it/s]"
      ]
     },
     "metadata": {},
     "output_type": "display_data"
    },
    {
     "name": "stdout",
     "output_type": "stream",
     "text": [
      "150,10: [101, 123, 162, 343, 276, 1536, 56668397794435742564352, 35, 240, 315], 0.986\n"
     ]
    },
    {
     "data": {
      "application/vnd.jupyter.widget-view+json": {
       "model_id": "86264fc285d44b2a9008010170ccdb9e",
       "version_major": 2,
       "version_minor": 0
      },
      "text/plain": [
       "nfeats:   0%|          | 0/10 [00:00<?, ?it/s]"
      ]
     },
     "metadata": {},
     "output_type": "display_data"
    },
    {
     "data": {
      "application/vnd.jupyter.widget-view+json": {
       "model_id": "7a4ffbee851d4c45a199004a513c072e",
       "version_major": 2,
       "version_minor": 0
      },
      "text/plain": [
       "retries:   0%|          | 0/500 [00:00<?, ?it/s]"
      ]
     },
     "metadata": {},
     "output_type": "display_data"
    },
    {
     "name": "stdout",
     "output_type": "stream",
     "text": [
      "200,1: [1536], 0.236\n"
     ]
    },
    {
     "data": {
      "application/vnd.jupyter.widget-view+json": {
       "model_id": "b3fd0b7473c2497aa1fb18a438c7dbf6",
       "version_major": 2,
       "version_minor": 0
      },
      "text/plain": [
       "retries:   0%|          | 0/500 [00:00<?, ?it/s]"
      ]
     },
     "metadata": {},
     "output_type": "display_data"
    },
    {
     "name": "stdout",
     "output_type": "stream",
     "text": [
      "200,2: [3072, 123], 0.744\n"
     ]
    },
    {
     "data": {
      "application/vnd.jupyter.widget-view+json": {
       "model_id": "ac983a73aea947ed9f62d255aaa7d591",
       "version_major": 2,
       "version_minor": 0
      },
      "text/plain": [
       "retries:   0%|          | 0/500 [00:00<?, ?it/s]"
      ]
     },
     "metadata": {},
     "output_type": "display_data"
    },
    {
     "name": "stdout",
     "output_type": "stream",
     "text": [
      "200,3: [768, 109, 212], 0.868\n"
     ]
    },
    {
     "data": {
      "application/vnd.jupyter.widget-view+json": {
       "model_id": "d7d89279f6714e5c920fa4d3279f37f7",
       "version_major": 2,
       "version_minor": 0
      },
      "text/plain": [
       "retries:   0%|          | 0/500 [00:00<?, ?it/s]"
      ]
     },
     "metadata": {},
     "output_type": "display_data"
    },
    {
     "name": "stdout",
     "output_type": "stream",
     "text": [
      "200,4: [20, 248, 3072, 125], 0.912\n"
     ]
    },
    {
     "data": {
      "application/vnd.jupyter.widget-view+json": {
       "model_id": "a869bdeb10324f33b21a51f7dc0b231f",
       "version_major": 2,
       "version_minor": 0
      },
      "text/plain": [
       "retries:   0%|          | 0/500 [00:00<?, ?it/s]"
      ]
     },
     "metadata": {},
     "output_type": "display_data"
    },
    {
     "name": "stdout",
     "output_type": "stream",
     "text": [
      "200,5: [53, 101, 228, 3072, 165], 0.968\n"
     ]
    },
    {
     "data": {
      "application/vnd.jupyter.widget-view+json": {
       "model_id": "1353e3e19d0d42028d7bca1b8370f94a",
       "version_major": 2,
       "version_minor": 0
      },
      "text/plain": [
       "retries:   0%|          | 0/500 [00:00<?, ?it/s]"
      ]
     },
     "metadata": {},
     "output_type": "display_data"
    },
    {
     "name": "stdout",
     "output_type": "stream",
     "text": [
      "200,6: [768, 173688133855974293135356477513031861779904976998460846059186376011869694459904, 329, 59, 296, 384], 0.98\n"
     ]
    },
    {
     "data": {
      "application/vnd.jupyter.widget-view+json": {
       "model_id": "ec09210404eb43d28f44a06a242e756d",
       "version_major": 2,
       "version_minor": 0
      },
      "text/plain": [
       "retries:   0%|          | 0/500 [00:00<?, ?it/s]"
      ]
     },
     "metadata": {},
     "output_type": "display_data"
    },
    {
     "name": "stdout",
     "output_type": "stream",
     "text": [
      "200,7: [173, 228, 57, 134, 109, 221360928884514619392, 1024], 0.984\n"
     ]
    },
    {
     "data": {
      "application/vnd.jupyter.widget-view+json": {
       "model_id": "4ced197ddd114f809db705a88beecf2e",
       "version_major": 2,
       "version_minor": 0
      },
      "text/plain": [
       "retries:   0%|          | 0/500 [00:00<?, ?it/s]"
      ]
     },
     "metadata": {},
     "output_type": "display_data"
    },
    {
     "name": "stdout",
     "output_type": "stream",
     "text": [
      "200,8: [1024, 101, 165, 3072, 178, 157, 79, 53], 0.994\n"
     ]
    },
    {
     "data": {
      "application/vnd.jupyter.widget-view+json": {
       "model_id": "6acb1788370a4f7e9f66936401bf85d8",
       "version_major": 2,
       "version_minor": 0
      },
      "text/plain": [
       "retries:   0%|          | 0/500 [00:00<?, ?it/s]"
      ]
     },
     "metadata": {},
     "output_type": "display_data"
    },
    {
     "name": "stdout",
     "output_type": "stream",
     "text": [
      "200,9: [81, 768, 173688133855974293135356477513031861779904976998460846059186376011869694459904, 103, 196, 343, 248, 160, 72], 0.99\n"
     ]
    },
    {
     "data": {
      "application/vnd.jupyter.widget-view+json": {
       "model_id": "c9558a4cbd864c04bbfac0783f20e453",
       "version_major": 2,
       "version_minor": 0
      },
      "text/plain": [
       "retries:   0%|          | 0/500 [00:00<?, ?it/s]"
      ]
     },
     "metadata": {},
     "output_type": "display_data"
    },
    {
     "name": "stdout",
     "output_type": "stream",
     "text": [
      "200,10: [315, 75, 320, 27, 125, 178, 39, 3072, 342, 84], 0.998\n"
     ]
    },
    {
     "data": {
      "application/vnd.jupyter.widget-view+json": {
       "model_id": "81754206460f46759d1c1c7eb8e5bd1c",
       "version_major": 2,
       "version_minor": 0
      },
      "text/plain": [
       "nfeats:   0%|          | 0/10 [00:00<?, ?it/s]"
      ]
     },
     "metadata": {},
     "output_type": "display_data"
    },
    {
     "data": {
      "application/vnd.jupyter.widget-view+json": {
       "model_id": "e6eef992961f41188d3a7b5e511a7adc",
       "version_major": 2,
       "version_minor": 0
      },
      "text/plain": [
       "retries:   0%|          | 0/500 [00:00<?, ?it/s]"
      ]
     },
     "metadata": {},
     "output_type": "display_data"
    },
    {
     "name": "stdout",
     "output_type": "stream",
     "text": [
      "250,1: [12288], 0.25\n"
     ]
    },
    {
     "data": {
      "application/vnd.jupyter.widget-view+json": {
       "model_id": "b4f8608e66014064879c0914a756b8ff",
       "version_major": 2,
       "version_minor": 0
      },
      "text/plain": [
       "retries:   0%|          | 0/500 [00:00<?, ?it/s]"
      ]
     },
     "metadata": {},
     "output_type": "display_data"
    },
    {
     "name": "stdout",
     "output_type": "stream",
     "text": [
      "250,2: [81, 3072], 0.744\n"
     ]
    },
    {
     "data": {
      "application/vnd.jupyter.widget-view+json": {
       "model_id": "4db6837e71fa439285da10b48ef846e5",
       "version_major": 2,
       "version_minor": 0
      },
      "text/plain": [
       "retries:   0%|          | 0/500 [00:00<?, ?it/s]"
      ]
     },
     "metadata": {},
     "output_type": "display_data"
    },
    {
     "name": "stdout",
     "output_type": "stream",
     "text": [
      "250,3: [1536, 105, 196], 0.892\n"
     ]
    },
    {
     "data": {
      "application/vnd.jupyter.widget-view+json": {
       "model_id": "6240d446ad484b678f0931f89743ea4b",
       "version_major": 2,
       "version_minor": 0
      },
      "text/plain": [
       "retries:   0%|          | 0/500 [00:00<?, ?it/s]"
      ]
     },
     "metadata": {},
     "output_type": "display_data"
    },
    {
     "name": "stdout",
     "output_type": "stream",
     "text": [
      "250,4: [248, 162, 75, 3072], 0.954\n"
     ]
    },
    {
     "data": {
      "application/vnd.jupyter.widget-view+json": {
       "model_id": "6c418522baee48b0966e057c0f4b8d2a",
       "version_major": 2,
       "version_minor": 0
      },
      "text/plain": [
       "retries:   0%|          | 0/500 [00:00<?, ?it/s]"
      ]
     },
     "metadata": {},
     "output_type": "display_data"
    },
    {
     "name": "stdout",
     "output_type": "stream",
     "text": [
      "250,5: [157, 1536, 248, 1176956575385002643219210516851437453019191645837006471168, 102], 0.972\n"
     ]
    },
    {
     "data": {
      "application/vnd.jupyter.widget-view+json": {
       "model_id": "f8c92af6f36949efae3b71164ba13156",
       "version_major": 2,
       "version_minor": 0
      },
      "text/plain": [
       "retries:   0%|          | 0/500 [00:00<?, ?it/s]"
      ]
     },
     "metadata": {},
     "output_type": "display_data"
    },
    {
     "name": "stdout",
     "output_type": "stream",
     "text": [
      "250,6: [196608, 102, 2048, 248, 157, 101], 0.988\n"
     ]
    },
    {
     "data": {
      "application/vnd.jupyter.widget-view+json": {
       "model_id": "105d396456dd44808d51c7a51766bf90",
       "version_major": 2,
       "version_minor": 0
      },
      "text/plain": [
       "retries:   0%|          | 0/500 [00:00<?, ?it/s]"
      ]
     },
     "metadata": {},
     "output_type": "display_data"
    },
    {
     "name": "stdout",
     "output_type": "stream",
     "text": [
      "250,7: [80, 172, 33, 105, 325, 1536, 103], 0.994\n"
     ]
    },
    {
     "data": {
      "application/vnd.jupyter.widget-view+json": {
       "model_id": "eb4beb27e02645c58ed350db8efb3f44",
       "version_major": 2,
       "version_minor": 0
      },
      "text/plain": [
       "retries:   0%|          | 0/500 [00:00<?, ?it/s]"
      ]
     },
     "metadata": {},
     "output_type": "display_data"
    },
    {
     "name": "stdout",
     "output_type": "stream",
     "text": [
      "250,8: [228, 342, 512, 142, 3072, 89, 248, 160], 0.998\n"
     ]
    },
    {
     "data": {
      "application/vnd.jupyter.widget-view+json": {
       "model_id": "b7a1c15310bd4fdd9a9096c043e1b49a",
       "version_major": 2,
       "version_minor": 0
      },
      "text/plain": [
       "retries:   0%|          | 0/500 [00:00<?, ?it/s]"
      ]
     },
     "metadata": {},
     "output_type": "display_data"
    },
    {
     "name": "stdout",
     "output_type": "stream",
     "text": [
      "250,9: [320, 10, 111, 2048, 212, 346, 55, 165, 178], 1.0\n"
     ]
    },
    {
     "data": {
      "application/vnd.jupyter.widget-view+json": {
       "model_id": "49663d3b303a49a2bafb13448e5cf34c",
       "version_major": 2,
       "version_minor": 0
      },
      "text/plain": [
       "retries:   0%|          | 0/500 [00:00<?, ?it/s]"
      ]
     },
     "metadata": {},
     "output_type": "display_data"
    },
    {
     "name": "stdout",
     "output_type": "stream",
     "text": [
      "250,10: [155, 57, 142, 256, 157, 1536, 27, 320, 6, 123], 1.0\n"
     ]
    },
    {
     "data": {
      "application/vnd.jupyter.widget-view+json": {
       "model_id": "4b40407fd5d34599a51684620b33cd87",
       "version_major": 2,
       "version_minor": 0
      },
      "text/plain": [
       "nfeats:   0%|          | 0/10 [00:00<?, ?it/s]"
      ]
     },
     "metadata": {},
     "output_type": "display_data"
    },
    {
     "data": {
      "application/vnd.jupyter.widget-view+json": {
       "model_id": "69f387842e6047e9a64194813200c730",
       "version_major": 2,
       "version_minor": 0
      },
      "text/plain": [
       "retries:   0%|          | 0/500 [00:00<?, ?it/s]"
      ]
     },
     "metadata": {},
     "output_type": "display_data"
    },
    {
     "name": "stdout",
     "output_type": "stream",
     "text": [
      "300,1: [3072], 0.3\n"
     ]
    },
    {
     "data": {
      "application/vnd.jupyter.widget-view+json": {
       "model_id": "1c7792defe5844f5b4c78ebf5cf9b80f",
       "version_major": 2,
       "version_minor": 0
      },
      "text/plain": [
       "retries:   0%|          | 0/500 [00:00<?, ?it/s]"
      ]
     },
     "metadata": {},
     "output_type": "display_data"
    },
    {
     "name": "stdout",
     "output_type": "stream",
     "text": [
      "300,2: [1536, 109], 0.808\n"
     ]
    },
    {
     "data": {
      "application/vnd.jupyter.widget-view+json": {
       "model_id": "b26f9ab3bdd14c07a35ff2da3f33043a",
       "version_major": 2,
       "version_minor": 0
      },
      "text/plain": [
       "retries:   0%|          | 0/500 [00:00<?, ?it/s]"
      ]
     },
     "metadata": {},
     "output_type": "display_data"
    },
    {
     "name": "stdout",
     "output_type": "stream",
     "text": [
      "300,3: [178, 315, 3072], 0.908\n"
     ]
    },
    {
     "data": {
      "application/vnd.jupyter.widget-view+json": {
       "model_id": "6c52a0689fb243f7a2891464619eb2ae",
       "version_major": 2,
       "version_minor": 0
      },
      "text/plain": [
       "retries:   0%|          | 0/500 [00:00<?, ?it/s]"
      ]
     },
     "metadata": {},
     "output_type": "display_data"
    },
    {
     "name": "stdout",
     "output_type": "stream",
     "text": [
      "300,4: [43, 155, 296, 1536], 0.97\n"
     ]
    },
    {
     "data": {
      "application/vnd.jupyter.widget-view+json": {
       "model_id": "34efddb2f66941dc9f047d9b7872577f",
       "version_major": 2,
       "version_minor": 0
      },
      "text/plain": [
       "retries:   0%|          | 0/500 [00:00<?, ?it/s]"
      ]
     },
     "metadata": {},
     "output_type": "display_data"
    },
    {
     "name": "stdout",
     "output_type": "stream",
     "text": [
      "300,5: [103, 4194306, 1536, 342, 228], 0.98\n"
     ]
    },
    {
     "data": {
      "application/vnd.jupyter.widget-view+json": {
       "model_id": "f5bd682a97f547ee8fcc5472357747e2",
       "version_major": 2,
       "version_minor": 0
      },
      "text/plain": [
       "retries:   0%|          | 0/500 [00:00<?, ?it/s]"
      ]
     },
     "metadata": {},
     "output_type": "display_data"
    },
    {
     "name": "stdout",
     "output_type": "stream",
     "text": [
      "300,6: [1176956575385002643219210516851437453019191645837006471168, 95, 3072, 75, 59, 248], 0.994\n"
     ]
    },
    {
     "data": {
      "application/vnd.jupyter.widget-view+json": {
       "model_id": "e19f5c1a351848d491436d028abc2bba",
       "version_major": 2,
       "version_minor": 0
      },
      "text/plain": [
       "retries:   0%|          | 0/500 [00:00<?, ?it/s]"
      ]
     },
     "metadata": {},
     "output_type": "display_data"
    },
    {
     "name": "stdout",
     "output_type": "stream",
     "text": [
      "300,7: [20, 212, 157, 99, 1536, 105, 59], 0.996\n"
     ]
    },
    {
     "data": {
      "application/vnd.jupyter.widget-view+json": {
       "model_id": "1a83bd4d91574d1e89f2b3f61bd2e8a0",
       "version_major": 2,
       "version_minor": 0
      },
      "text/plain": [
       "retries:   0%|          | 0/500 [00:00<?, ?it/s]"
      ]
     },
     "metadata": {},
     "output_type": "display_data"
    },
    {
     "name": "stdout",
     "output_type": "stream",
     "text": [
      "300,8: [53, 103, 228, 57, 768, 172, 85, 157], 0.998\n"
     ]
    },
    {
     "data": {
      "application/vnd.jupyter.widget-view+json": {
       "model_id": "11517745e31741d08a8cb6b969a63b61",
       "version_major": 2,
       "version_minor": 0
      },
      "text/plain": [
       "retries:   0%|          | 0/500 [00:00<?, ?it/s]"
      ]
     },
     "metadata": {},
     "output_type": "display_data"
    },
    {
     "name": "stdout",
     "output_type": "stream",
     "text": [
      "300,9: [384, 64, 346, 35, 123, 342, 1536, 11, 109], 0.998\n"
     ]
    },
    {
     "data": {
      "application/vnd.jupyter.widget-view+json": {
       "model_id": "e969f401054045038f6a39559a06364d",
       "version_major": 2,
       "version_minor": 0
      },
      "text/plain": [
       "retries:   0%|          | 0/500 [00:00<?, ?it/s]"
      ]
     },
     "metadata": {},
     "output_type": "display_data"
    },
    {
     "name": "stdout",
     "output_type": "stream",
     "text": [
      "300,10: [103, 12288, 212, 20, 248, 343, 240, 33, 342, 25], 1.0\n"
     ]
    }
   ],
   "source": [
    "simulations = 500\n",
    "retries = 500\n",
    "nattack = range(50, 350, 50)\n",
    "nfeats = range(1, 11)\n",
    "num_workers = 30\n",
    "\n",
    "euclid_classifier = EuclidClassifier()\n",
    "tree_random_subsets = RandomFeatures(sorted(feats_in_tree), distributions_mults, num_workers,\n",
    "                                     simulations, euclid_classifier, top_5_scorer, retries)\n",
    "\n",
    "tre = feature_search(nfeats, nattack, tree_random_subsets, restarts=True)"
   ]
  },
  {
   "cell_type": "code",
   "execution_count": 77,
   "id": "0b6a1a5b-82dd-44d4-82dc-83b16ac5bc82",
   "metadata": {},
   "outputs": [
    {
     "data": {
      "application/vnd.jupyter.widget-view+json": {
       "model_id": "a0ec40907ca6452d8f7419a143d06466",
       "version_major": 2,
       "version_minor": 0
      },
      "text/plain": [
       "Evaluating:   0%|          | 0/60 [00:00<?, ?it/s]"
      ]
     },
     "metadata": {},
     "output_type": "display_data"
    },
    {
     "data": {
      "image/png": "[encoded data removed]",
      "text/plain": [
       "<Figure size 640x480 with 2 Axes>"
      ]
     },
     "metadata": {},
     "output_type": "display_data"
    }
   ],
   "source": [
    "plot_performance(euclid_classifier, top_5_scorer, 500, tre, distributions_mults)"
   ]
  },
  {
   "cell_type": "markdown",
   "id": "f16a5868-e92c-4b84-9f19-664627d9848a",
   "metadata": {},
   "source": [
    "## Simulate distinguishing using a Bayes classifier\n",
    "\n",
    "We need to first select some features (divisors) from the set of all divisors that we will query\n",
    "the target with. This set should be the smallest (to not do a lot of queries) yet allow us to distinguish as\n",
    "much as possible.\n",
    "\n",
    "Then, we can build a true Bayes classifier. Since our features are conditionally independent (when conditioned on the class label) in our case naive Bayes == non-naive Bayes. We examine four feature selection algorithms:\n",
    " - Feature selection by pre-selection using tree-building and final selection by random subsets + classification error.\n",
    " - Feature selection via greedy classification error.\n",
    " - Feature selection via mRMR (maximal relevance, minimal redundancy) using mutual information.\n",
    " - Feature selection via JMI (Joint Mutual Information)."
   ]
  },
  {
   "cell_type": "markdown",
   "id": "ed81e076-9ccb-445d-ada9-384b73efb2c5",
   "metadata": {},
   "source": [
    "### Feature selection using trees + classification error\n",
    "\n",
    "We can reuse the clustering + tree building approach above and just take the inputs that the greedy tree building choses as the features. However, we can also use more conventional feature selection approaches."
   ]
  },
  {
   "cell_type": "code",
   "execution_count": 60,
   "id": "1f24b323-3604-4e34-a880-9dfd611fb245",
   "metadata": {
    "scrolled": true
   },
   "outputs": [],
   "source": [
    "feats_in_tree = Counter()\n",
    "for node in PreOrderIter(tree.root):\n",
    "    if node.is_leaf:\n",
    "        continue\n",
    "    feats_in_tree[node.dmap_input] += 1\n",
    "feats_in_tree = set(feats_in_tree.keys())"
   ]
  },
  {
   "cell_type": "code",
   "execution_count": 61,
   "id": "f1052222-ad32-4e25-97ca-851cc42bf546",
   "metadata": {},
   "outputs": [
    {
     "data": {
      "application/vnd.jupyter.widget-view+json": {
       "model_id": "dd0c41b2ba854130a3e11c46e17ec1b0",
       "version_major": 2,
       "version_minor": 0
      },
      "text/plain": [
       "nattack:   0%|          | 0/6 [00:00<?, ?it/s]"
      ]
     },
     "metadata": {},
     "output_type": "display_data"
    },
    {
     "data": {
      "application/vnd.jupyter.widget-view+json": {
       "model_id": "478784faa4b94d429b98b37a820def57",
       "version_major": 2,
       "version_minor": 0
      },
      "text/plain": [
       "nfeats:   0%|          | 0/10 [00:00<?, ?it/s]"
      ]
     },
     "metadata": {},
     "output_type": "display_data"
    },
    {
     "data": {
      "application/vnd.jupyter.widget-view+json": {
       "model_id": "209d64069ce9435da23f62682b828ad4",
       "version_major": 2,
       "version_minor": 0
      },
      "text/plain": [
       "retries:   0%|          | 0/500 [00:00<?, ?it/s]"
      ]
     },
     "metadata": {},
     "output_type": "display_data"
    },
    {
     "name": "stdout",
     "output_type": "stream",
     "text": [
      "50,1: [3072], 0.148\n"
     ]
    },
    {
     "data": {
      "application/vnd.jupyter.widget-view+json": {
       "model_id": "33d005665a1747dba01fe60e6fb4c630",
       "version_major": 2,
       "version_minor": 0
      },
      "text/plain": [
       "retries:   0%|          | 0/500 [00:00<?, ?it/s]"
      ]
     },
     "metadata": {},
     "output_type": "display_data"
    },
    {
     "name": "stdout",
     "output_type": "stream",
     "text": [
      "50,2: [131, 3072], 0.434\n"
     ]
    },
    {
     "data": {
      "application/vnd.jupyter.widget-view+json": {
       "model_id": "32bdd9803d27464387db9034fb86e92a",
       "version_major": 2,
       "version_minor": 0
      },
      "text/plain": [
       "retries:   0%|          | 0/500 [00:00<?, ?it/s]"
      ]
     },
     "metadata": {},
     "output_type": "display_data"
    },
    {
     "name": "stdout",
     "output_type": "stream",
     "text": [
      "50,3: [296, 12288, 131], 0.646\n"
     ]
    },
    {
     "data": {
      "application/vnd.jupyter.widget-view+json": {
       "model_id": "afcae911b9dc427796bdd50643c3a474",
       "version_major": 2,
       "version_minor": 0
      },
      "text/plain": [
       "retries:   0%|          | 0/500 [00:00<?, ?it/s]"
      ]
     },
     "metadata": {},
     "output_type": "display_data"
    },
    {
     "name": "stdout",
     "output_type": "stream",
     "text": [
      "50,4: [342, 296, 123, 3072], 0.73\n"
     ]
    },
    {
     "data": {
      "application/vnd.jupyter.widget-view+json": {
       "model_id": "9e97347ebaec4d018aaaef666c307399",
       "version_major": 2,
       "version_minor": 0
      },
      "text/plain": [
       "retries:   0%|          | 0/500 [00:00<?, ?it/s]"
      ]
     },
     "metadata": {},
     "output_type": "display_data"
    },
    {
     "name": "stdout",
     "output_type": "stream",
     "text": [
      "50,5: [768, 157, 43, 216, 57], 0.814\n"
     ]
    },
    {
     "data": {
      "application/vnd.jupyter.widget-view+json": {
       "model_id": "eb96b6325a1e42baa63f57baaa4ae652",
       "version_major": 2,
       "version_minor": 0
      },
      "text/plain": [
       "retries:   0%|          | 0/500 [00:00<?, ?it/s]"
      ]
     },
     "metadata": {},
     "output_type": "display_data"
    },
    {
     "name": "stdout",
     "output_type": "stream",
     "text": [
      "50,6: [162, 512, 165, 768, 57, 248], 0.844\n"
     ]
    },
    {
     "data": {
      "application/vnd.jupyter.widget-view+json": {
       "model_id": "d7d6788b2b3f41708c0123ac3c73c901",
       "version_major": 2,
       "version_minor": 0
      },
      "text/plain": [
       "retries:   0%|          | 0/500 [00:00<?, ?it/s]"
      ]
     },
     "metadata": {},
     "output_type": "display_data"
    },
    {
     "name": "stdout",
     "output_type": "stream",
     "text": [
      "50,7: [21711016731996786641919559689128982722488122124807605757398297001483711807488, 173, 102, 3072, 336, 1024, 103], 0.868\n"
     ]
    },
    {
     "data": {
      "application/vnd.jupyter.widget-view+json": {
       "model_id": "f6399966759041a8be233670dc937299",
       "version_major": 2,
       "version_minor": 0
      },
      "text/plain": [
       "retries:   0%|          | 0/500 [00:00<?, ?it/s]"
      ]
     },
     "metadata": {},
     "output_type": "display_data"
    },
    {
     "name": "stdout",
     "output_type": "stream",
     "text": [
      "50,8: [2048, 1176956575385002643219210516851437453019191645837006471168, 85, 33, 12288, 105, 178, 125], 0.892\n"
     ]
    },
    {
     "data": {
      "application/vnd.jupyter.widget-view+json": {
       "model_id": "bb2ef21c12ee48538d30817e6cabdce4",
       "version_major": 2,
       "version_minor": 0
      },
      "text/plain": [
       "retries:   0%|          | 0/500 [00:00<?, ?it/s]"
      ]
     },
     "metadata": {},
     "output_type": "display_data"
    },
    {
     "name": "stdout",
     "output_type": "stream",
     "text": [
      "50,9: [131, 296, 57, 1024, 102, 99, 196, 17, 192], 0.922\n"
     ]
    },
    {
     "data": {
      "application/vnd.jupyter.widget-view+json": {
       "model_id": "6daa95c095c744b6a847abf1cb5c7da6",
       "version_major": 2,
       "version_minor": 0
      },
      "text/plain": [
       "retries:   0%|          | 0/500 [00:00<?, ?it/s]"
      ]
     },
     "metadata": {},
     "output_type": "display_data"
    },
    {
     "name": "stdout",
     "output_type": "stream",
     "text": [
      "50,10: [80, 77, 172, 2048, 336, 29, 53, 588478287692501321609605258425718726509595822918503235584, 346, 178], 0.93\n"
     ]
    },
    {
     "data": {
      "application/vnd.jupyter.widget-view+json": {
       "model_id": "829ed72c6b8f4afdb7d9556b2fe9c1e8",
       "version_major": 2,
       "version_minor": 0
      },
      "text/plain": [
       "nfeats:   0%|          | 0/10 [00:00<?, ?it/s]"
      ]
     },
     "metadata": {},
     "output_type": "display_data"
    },
    {
     "data": {
      "application/vnd.jupyter.widget-view+json": {
       "model_id": "c9eba258522d4fc3bd9b31625f8b052c",
       "version_major": 2,
       "version_minor": 0
      },
      "text/plain": [
       "retries:   0%|          | 0/500 [00:00<?, ?it/s]"
      ]
     },
     "metadata": {},
     "output_type": "display_data"
    },
    {
     "name": "stdout",
     "output_type": "stream",
     "text": [
      "100,1: [1536], 0.178\n"
     ]
    },
    {
     "data": {
      "application/vnd.jupyter.widget-view+json": {
       "model_id": "6ec2c294b02c4a1681d114ce596b460b",
       "version_major": 2,
       "version_minor": 0
      },
      "text/plain": [
       "retries:   0%|          | 0/500 [00:00<?, ?it/s]"
      ]
     },
     "metadata": {},
     "output_type": "display_data"
    },
    {
     "name": "stdout",
     "output_type": "stream",
     "text": [
      "100,2: [83, 1536], 0.584\n"
     ]
    },
    {
     "data": {
      "application/vnd.jupyter.widget-view+json": {
       "model_id": "d8e14a03845e46199afaa46492d491d0",
       "version_major": 2,
       "version_minor": 0
      },
      "text/plain": [
       "retries:   0%|          | 0/500 [00:00<?, ?it/s]"
      ]
     },
     "metadata": {},
     "output_type": "display_data"
    },
    {
     "name": "stdout",
     "output_type": "stream",
     "text": [
      "100,3: [1536, 79, 216], 0.756\n"
     ]
    },
    {
     "data": {
      "application/vnd.jupyter.widget-view+json": {
       "model_id": "37422066fed14839bc172c4c416575d3",
       "version_major": 2,
       "version_minor": 0
      },
      "text/plain": [
       "retries:   0%|          | 0/500 [00:00<?, ?it/s]"
      ]
     },
     "metadata": {},
     "output_type": "display_data"
    },
    {
     "name": "stdout",
     "output_type": "stream",
     "text": [
      "100,4: [342, 248, 57, 3072], 0.862\n"
     ]
    },
    {
     "data": {
      "application/vnd.jupyter.widget-view+json": {
       "model_id": "9e50d69794634e6896caf2a04aa8c1fe",
       "version_major": 2,
       "version_minor": 0
      },
      "text/plain": [
       "retries:   0%|          | 0/500 [00:00<?, ?it/s]"
      ]
     },
     "metadata": {},
     "output_type": "display_data"
    },
    {
     "name": "stdout",
     "output_type": "stream",
     "text": [
      "100,5: [1536, 95, 325, 1024, 296], 0.924\n"
     ]
    },
    {
     "data": {
      "application/vnd.jupyter.widget-view+json": {
       "model_id": "d8d690e8ec0e44fdb3c636ddf141ae68",
       "version_major": 2,
       "version_minor": 0
      },
      "text/plain": [
       "retries:   0%|          | 0/500 [00:00<?, ?it/s]"
      ]
     },
     "metadata": {},
     "output_type": "display_data"
    },
    {
     "name": "stdout",
     "output_type": "stream",
     "text": [
      "100,6: [320, 27, 196, 173, 59, 12288], 0.94\n"
     ]
    },
    {
     "data": {
      "application/vnd.jupyter.widget-view+json": {
       "model_id": "4258d734955749eda31cd89d54b23649",
       "version_major": 2,
       "version_minor": 0
      },
      "text/plain": [
       "retries:   0%|          | 0/500 [00:00<?, ?it/s]"
      ]
     },
     "metadata": {},
     "output_type": "display_data"
    },
    {
     "name": "stdout",
     "output_type": "stream",
     "text": [
      "100,7: [160, 3072, 89, 192, 103, 109, 296], 0.958\n"
     ]
    },
    {
     "data": {
      "application/vnd.jupyter.widget-view+json": {
       "model_id": "03ded72caf5a459facbe3322f37a4b6b",
       "version_major": 2,
       "version_minor": 0
      },
      "text/plain": [
       "retries:   0%|          | 0/500 [00:00<?, ?it/s]"
      ]
     },
     "metadata": {},
     "output_type": "display_data"
    },
    {
     "name": "stdout",
     "output_type": "stream",
     "text": [
      "100,8: [65, 75, 105, 55, 1024, 59, 126, 346], 0.972\n"
     ]
    },
    {
     "data": {
      "application/vnd.jupyter.widget-view+json": {
       "model_id": "2da9b0d659794020b7c94511a963da50",
       "version_major": 2,
       "version_minor": 0
      },
      "text/plain": [
       "retries:   0%|          | 0/500 [00:00<?, ?it/s]"
      ]
     },
     "metadata": {},
     "output_type": "display_data"
    },
    {
     "name": "stdout",
     "output_type": "stream",
     "text": [
      "100,9: [101, 142, 1024, 80, 2048, 178, 325, 192, 336], 0.984\n"
     ]
    },
    {
     "data": {
      "application/vnd.jupyter.widget-view+json": {
       "model_id": "54128919a06d49f9b20ce563d488f90c",
       "version_major": 2,
       "version_minor": 0
      },
      "text/plain": [
       "retries:   0%|          | 0/500 [00:00<?, ?it/s]"
      ]
     },
     "metadata": {},
     "output_type": "display_data"
    },
    {
     "name": "stdout",
     "output_type": "stream",
     "text": [
      "100,10: [2048, 173688133855974293135356477513031861779904976998460846059186376011869694459904, 102, 157, 172, 105, 43, 216, 224, 162], 0.984\n"
     ]
    },
    {
     "data": {
      "application/vnd.jupyter.widget-view+json": {
       "model_id": "e30999c3d8ff4214b77dab199643f38c",
       "version_major": 2,
       "version_minor": 0
      },
      "text/plain": [
       "nfeats:   0%|          | 0/10 [00:00<?, ?it/s]"
      ]
     },
     "metadata": {},
     "output_type": "display_data"
    },
    {
     "data": {
      "application/vnd.jupyter.widget-view+json": {
       "model_id": "4c161e4ab0464e9e92deadf052ff9298",
       "version_major": 2,
       "version_minor": 0
      },
      "text/plain": [
       "retries:   0%|          | 0/500 [00:00<?, ?it/s]"
      ]
     },
     "metadata": {},
     "output_type": "display_data"
    },
    {
     "name": "stdout",
     "output_type": "stream",
     "text": [
      "150,1: [3072], 0.208\n"
     ]
    },
    {
     "data": {
      "application/vnd.jupyter.widget-view+json": {
       "model_id": "4e12ae59d4214c0e98af6a0d381e6310",
       "version_major": 2,
       "version_minor": 0
      },
      "text/plain": [
       "retries:   0%|          | 0/500 [00:00<?, ?it/s]"
      ]
     },
     "metadata": {},
     "output_type": "display_data"
    },
    {
     "name": "stdout",
     "output_type": "stream",
     "text": [
      "150,2: [1536, 99], 0.64\n"
     ]
    },
    {
     "data": {
      "application/vnd.jupyter.widget-view+json": {
       "model_id": "a4ed711f08b243c3968a72c81161dc1f",
       "version_major": 2,
       "version_minor": 0
      },
      "text/plain": [
       "retries:   0%|          | 0/500 [00:00<?, ?it/s]"
      ]
     },
     "metadata": {},
     "output_type": "display_data"
    },
    {
     "name": "stdout",
     "output_type": "stream",
     "text": [
      "150,3: [276, 59, 768], 0.846\n"
     ]
    },
    {
     "data": {
      "application/vnd.jupyter.widget-view+json": {
       "model_id": "d6d6cd767dbe4a7f98cd92d1f4db9e69",
       "version_major": 2,
       "version_minor": 0
      },
      "text/plain": [
       "retries:   0%|          | 0/500 [00:00<?, ?it/s]"
      ]
     },
     "metadata": {},
     "output_type": "display_data"
    },
    {
     "name": "stdout",
     "output_type": "stream",
     "text": [
      "150,4: [384, 55, 165, 3072], 0.91\n"
     ]
    },
    {
     "data": {
      "application/vnd.jupyter.widget-view+json": {
       "model_id": "10f77baf2fb74269ac62f923e8f8cf3a",
       "version_major": 2,
       "version_minor": 0
      },
      "text/plain": [
       "retries:   0%|          | 0/500 [00:00<?, ?it/s]"
      ]
     },
     "metadata": {},
     "output_type": "display_data"
    },
    {
     "name": "stdout",
     "output_type": "stream",
     "text": [
      "150,5: [1024, 59, 296, 131, 196608], 0.946\n"
     ]
    },
    {
     "data": {
      "application/vnd.jupyter.widget-view+json": {
       "model_id": "403e71b8952e49fd98e6a2b61ef66234",
       "version_major": 2,
       "version_minor": 0
      },
      "text/plain": [
       "retries:   0%|          | 0/500 [00:00<?, ?it/s]"
      ]
     },
     "metadata": {},
     "output_type": "display_data"
    },
    {
     "name": "stdout",
     "output_type": "stream",
     "text": [
      "150,6: [165, 256, 105, 131, 3072, 320], 0.97\n"
     ]
    },
    {
     "data": {
      "application/vnd.jupyter.widget-view+json": {
       "model_id": "b3f0a7148b6044be8406bd3283df98a3",
       "version_major": 2,
       "version_minor": 0
      },
      "text/plain": [
       "retries:   0%|          | 0/500 [00:00<?, ?it/s]"
      ]
     },
     "metadata": {},
     "output_type": "display_data"
    },
    {
     "name": "stdout",
     "output_type": "stream",
     "text": [
      "150,7: [123, 172, 111, 512, 142, 105, 43], 0.988\n"
     ]
    },
    {
     "data": {
      "application/vnd.jupyter.widget-view+json": {
       "model_id": "11d3082b162a4d708231b50bb23adad5",
       "version_major": 2,
       "version_minor": 0
      },
      "text/plain": [
       "retries:   0%|          | 0/500 [00:00<?, ?it/s]"
      ]
     },
     "metadata": {},
     "output_type": "display_data"
    },
    {
     "name": "stdout",
     "output_type": "stream",
     "text": [
      "150,8: [2048, 768, 165, 59, 81, 155, 343, 102], 0.99\n"
     ]
    },
    {
     "data": {
      "application/vnd.jupyter.widget-view+json": {
       "model_id": "b93618c4bc86409f8dd0afaf8d0bbd98",
       "version_major": 2,
       "version_minor": 0
      },
      "text/plain": [
       "retries:   0%|          | 0/500 [00:00<?, ?it/s]"
      ]
     },
     "metadata": {},
     "output_type": "display_data"
    },
    {
     "name": "stdout",
     "output_type": "stream",
     "text": [
      "150,9: [276, 216, 1536, 109, 768, 21711016731996786641919559689128982722488122124807605757398297001483711807488, 81, 325, 79], 0.996\n"
     ]
    },
    {
     "data": {
      "application/vnd.jupyter.widget-view+json": {
       "model_id": "12ca99c8f82944719c2d807881bc57d9",
       "version_major": 2,
       "version_minor": 0
      },
      "text/plain": [
       "retries:   0%|          | 0/500 [00:00<?, ?it/s]"
      ]
     },
     "metadata": {},
     "output_type": "display_data"
    },
    {
     "name": "stdout",
     "output_type": "stream",
     "text": [
      "150,10: [296, 224, 25, 8388609, 126, 57, 83, 77, 125, 2048], 0.994\n"
     ]
    },
    {
     "data": {
      "application/vnd.jupyter.widget-view+json": {
       "model_id": "994be9cb1a1f487bb7520d4b3f8fbf68",
       "version_major": 2,
       "version_minor": 0
      },
      "text/plain": [
       "nfeats:   0%|          | 0/10 [00:00<?, ?it/s]"
      ]
     },
     "metadata": {},
     "output_type": "display_data"
    },
    {
     "data": {
      "application/vnd.jupyter.widget-view+json": {
       "model_id": "ed8667691f6147c8856d95930450fef0",
       "version_major": 2,
       "version_minor": 0
      },
      "text/plain": [
       "retries:   0%|          | 0/500 [00:00<?, ?it/s]"
      ]
     },
     "metadata": {},
     "output_type": "display_data"
    },
    {
     "name": "stdout",
     "output_type": "stream",
     "text": [
      "200,1: [3072], 0.242\n"
     ]
    },
    {
     "data": {
      "application/vnd.jupyter.widget-view+json": {
       "model_id": "fc81e268b2174f3793b8180bca33c708",
       "version_major": 2,
       "version_minor": 0
      },
      "text/plain": [
       "retries:   0%|          | 0/500 [00:00<?, ?it/s]"
      ]
     },
     "metadata": {},
     "output_type": "display_data"
    },
    {
     "name": "stdout",
     "output_type": "stream",
     "text": [
      "200,2: [65, 12288], 0.736\n"
     ]
    },
    {
     "data": {
      "application/vnd.jupyter.widget-view+json": {
       "model_id": "3f3f97c4666140f79d25f857cd968a18",
       "version_major": 2,
       "version_minor": 0
      },
      "text/plain": [
       "retries:   0%|          | 0/500 [00:00<?, ?it/s]"
      ]
     },
     "metadata": {},
     "output_type": "display_data"
    },
    {
     "name": "stdout",
     "output_type": "stream",
     "text": [
      "200,3: [315, 3072, 196], 0.902\n"
     ]
    },
    {
     "data": {
      "application/vnd.jupyter.widget-view+json": {
       "model_id": "007745576dd44f7e8f059963a1763c8e",
       "version_major": 2,
       "version_minor": 0
      },
      "text/plain": [
       "retries:   0%|          | 0/500 [00:00<?, ?it/s]"
      ]
     },
     "metadata": {},
     "output_type": "display_data"
    },
    {
     "name": "stdout",
     "output_type": "stream",
     "text": [
      "200,4: [325, 43, 2048, 248], 0.948\n"
     ]
    },
    {
     "data": {
      "application/vnd.jupyter.widget-view+json": {
       "model_id": "02ace6fecc2a4c9db4f69a08e13d25ab",
       "version_major": 2,
       "version_minor": 0
      },
      "text/plain": [
       "retries:   0%|          | 0/500 [00:00<?, ?it/s]"
      ]
     },
     "metadata": {},
     "output_type": "display_data"
    },
    {
     "name": "stdout",
     "output_type": "stream",
     "text": [
      "200,5: [142, 39, 101, 3072, 512], 0.98\n"
     ]
    },
    {
     "data": {
      "application/vnd.jupyter.widget-view+json": {
       "model_id": "51b4b67acd094a4c9e278e2e8e3bad14",
       "version_major": 2,
       "version_minor": 0
      },
      "text/plain": [
       "retries:   0%|          | 0/500 [00:00<?, ?it/s]"
      ]
     },
     "metadata": {},
     "output_type": "display_data"
    },
    {
     "name": "stdout",
     "output_type": "stream",
     "text": [
      "200,6: [196, 126, 155, 1536, 72, 192], 0.99\n"
     ]
    },
    {
     "data": {
      "application/vnd.jupyter.widget-view+json": {
       "model_id": "52c794f0c87a435fb5211c56aebbb4bb",
       "version_major": 2,
       "version_minor": 0
      },
      "text/plain": [
       "retries:   0%|          | 0/500 [00:00<?, ?it/s]"
      ]
     },
     "metadata": {},
     "output_type": "display_data"
    },
    {
     "name": "stdout",
     "output_type": "stream",
     "text": [
      "200,7: [53, 224, 1024, 178, 95, 65, 276], 0.992\n"
     ]
    },
    {
     "data": {
      "application/vnd.jupyter.widget-view+json": {
       "model_id": "d481504c240640efaee50eae297faa53",
       "version_major": 2,
       "version_minor": 0
      },
      "text/plain": [
       "retries:   0%|          | 0/500 [00:00<?, ?it/s]"
      ]
     },
     "metadata": {},
     "output_type": "display_data"
    },
    {
     "name": "stdout",
     "output_type": "stream",
     "text": [
      "200,8: [216, 144, 79, 4194306, 77, 41, 768, 85], 0.998\n"
     ]
    },
    {
     "data": {
      "application/vnd.jupyter.widget-view+json": {
       "model_id": "fa215a0fc703419fa161181efdd711f6",
       "version_major": 2,
       "version_minor": 0
      },
      "text/plain": [
       "retries:   0%|          | 0/500 [00:00<?, ?it/s]"
      ]
     },
     "metadata": {},
     "output_type": "display_data"
    },
    {
     "name": "stdout",
     "output_type": "stream",
     "text": [
      "200,9: [240, 256, 123, 99, 55, 39, 109, 228, 1024], 1.0\n"
     ]
    },
    {
     "data": {
      "application/vnd.jupyter.widget-view+json": {
       "model_id": "4615d9be81bb4a36b230f7d1b1eac4e0",
       "version_major": 2,
       "version_minor": 0
      },
      "text/plain": [
       "retries:   0%|          | 0/500 [00:00<?, ?it/s]"
      ]
     },
     "metadata": {},
     "output_type": "display_data"
    },
    {
     "name": "stdout",
     "output_type": "stream",
     "text": [
      "200,10: [81, 512, 248, 138, 342, 101, 38, 240, 128, 111], 1.0\n"
     ]
    },
    {
     "data": {
      "application/vnd.jupyter.widget-view+json": {
       "model_id": "e5cadf09034242ea85e0834b04be8d26",
       "version_major": 2,
       "version_minor": 0
      },
      "text/plain": [
       "nfeats:   0%|          | 0/10 [00:00<?, ?it/s]"
      ]
     },
     "metadata": {},
     "output_type": "display_data"
    },
    {
     "data": {
      "application/vnd.jupyter.widget-view+json": {
       "model_id": "9553f82f09b544dca78b54ecab8f8d6b",
       "version_major": 2,
       "version_minor": 0
      },
      "text/plain": [
       "retries:   0%|          | 0/500 [00:00<?, ?it/s]"
      ]
     },
     "metadata": {},
     "output_type": "display_data"
    },
    {
     "name": "stdout",
     "output_type": "stream",
     "text": [
      "250,1: [1536], 0.256\n"
     ]
    },
    {
     "data": {
      "application/vnd.jupyter.widget-view+json": {
       "model_id": "3e1bdb581e7a4291bda9e5a5737aa79c",
       "version_major": 2,
       "version_minor": 0
      },
      "text/plain": [
       "retries:   0%|          | 0/500 [00:00<?, ?it/s]"
      ]
     },
     "metadata": {},
     "output_type": "display_data"
    },
    {
     "name": "stdout",
     "output_type": "stream",
     "text": [
      "250,2: [85, 3072], 0.788\n"
     ]
    },
    {
     "data": {
      "application/vnd.jupyter.widget-view+json": {
       "model_id": "1f163f751820437bae84f95f4d3fa491",
       "version_major": 2,
       "version_minor": 0
      },
      "text/plain": [
       "retries:   0%|          | 0/500 [00:00<?, ?it/s]"
      ]
     },
     "metadata": {},
     "output_type": "display_data"
    },
    {
     "name": "stdout",
     "output_type": "stream",
     "text": [
      "250,3: [123, 1536, 276], 0.924\n"
     ]
    },
    {
     "data": {
      "application/vnd.jupyter.widget-view+json": {
       "model_id": "49e5d3d739c34198b4400219ce725caf",
       "version_major": 2,
       "version_minor": 0
      },
      "text/plain": [
       "retries:   0%|          | 0/500 [00:00<?, ?it/s]"
      ]
     },
     "metadata": {},
     "output_type": "display_data"
    },
    {
     "name": "stdout",
     "output_type": "stream",
     "text": [
      "250,4: [3072, 138, 172, 75], 0.966\n"
     ]
    },
    {
     "data": {
      "application/vnd.jupyter.widget-view+json": {
       "model_id": "dc7a27c8b40e43b7a52d8c8c28d157fd",
       "version_major": 2,
       "version_minor": 0
      },
      "text/plain": [
       "retries:   0%|          | 0/500 [00:00<?, ?it/s]"
      ]
     },
     "metadata": {},
     "output_type": "display_data"
    },
    {
     "name": "stdout",
     "output_type": "stream",
     "text": [
      "250,5: [99, 123, 768, 56668397794435742564352, 178], 0.986\n"
     ]
    },
    {
     "data": {
      "application/vnd.jupyter.widget-view+json": {
       "model_id": "8cc69b73e3ca48c9a0aafe894d8a1433",
       "version_major": 2,
       "version_minor": 0
      },
      "text/plain": [
       "retries:   0%|          | 0/500 [00:00<?, ?it/s]"
      ]
     },
     "metadata": {},
     "output_type": "display_data"
    },
    {
     "name": "stdout",
     "output_type": "stream",
     "text": [
      "250,6: [325, 1024, 56, 248, 59, 162], 0.992\n"
     ]
    },
    {
     "data": {
      "application/vnd.jupyter.widget-view+json": {
       "model_id": "fb58d0dadb0f49fb94c7dbeba4c1fae0",
       "version_major": 2,
       "version_minor": 0
      },
      "text/plain": [
       "retries:   0%|          | 0/500 [00:00<?, ?it/s]"
      ]
     },
     "metadata": {},
     "output_type": "display_data"
    },
    {
     "name": "stdout",
     "output_type": "stream",
     "text": [
      "250,7: [85, 131, 1536, 296, 123, 53, 329], 1.0\n"
     ]
    },
    {
     "data": {
      "application/vnd.jupyter.widget-view+json": {
       "model_id": "19b6cdf27dc047eeaacaaa4770b94aaf",
       "version_major": 2,
       "version_minor": 0
      },
      "text/plain": [
       "retries:   0%|          | 0/500 [00:00<?, ?it/s]"
      ]
     },
     "metadata": {},
     "output_type": "display_data"
    },
    {
     "name": "stdout",
     "output_type": "stream",
     "text": [
      "250,8: [329, 192, 89, 128, 1024, 29, 172, 55], 0.998\n"
     ]
    },
    {
     "data": {
      "application/vnd.jupyter.widget-view+json": {
       "model_id": "7c87e7b7d3a14a67975681fdbb97a95d",
       "version_major": 2,
       "version_minor": 0
      },
      "text/plain": [
       "retries:   0%|          | 0/500 [00:00<?, ?it/s]"
      ]
     },
     "metadata": {},
     "output_type": "display_data"
    },
    {
     "name": "stdout",
     "output_type": "stream",
     "text": [
      "250,9: [3072, 1176956575385002643219210516851437453019191645837006471168, 59, 44, 75, 131, 102, 336, 80], 1.0\n"
     ]
    },
    {
     "data": {
      "application/vnd.jupyter.widget-view+json": {
       "model_id": "b94d48c36d3d437db34f90b0bf793436",
       "version_major": 2,
       "version_minor": 0
      },
      "text/plain": [
       "retries:   0%|          | 0/500 [00:00<?, ?it/s]"
      ]
     },
     "metadata": {},
     "output_type": "display_data"
    },
    {
     "name": "stdout",
     "output_type": "stream",
     "text": [
      "250,10: [85, 33, 109, 72, 53, 2048, 192, 101, 21711016731996786641919559689128982722488122124807605757398297001483711807488, 12288], 1.0\n"
     ]
    },
    {
     "data": {
      "application/vnd.jupyter.widget-view+json": {
       "model_id": "f74f5098e2fd4ed6b31ee406deb2ca06",
       "version_major": 2,
       "version_minor": 0
      },
      "text/plain": [
       "nfeats:   0%|          | 0/10 [00:00<?, ?it/s]"
      ]
     },
     "metadata": {},
     "output_type": "display_data"
    },
    {
     "data": {
      "application/vnd.jupyter.widget-view+json": {
       "model_id": "9ecb8265f3c94043a104bae25418f89f",
       "version_major": 2,
       "version_minor": 0
      },
      "text/plain": [
       "retries:   0%|          | 0/500 [00:00<?, ?it/s]"
      ]
     },
     "metadata": {},
     "output_type": "display_data"
    },
    {
     "name": "stdout",
     "output_type": "stream",
     "text": [
      "300,1: [1536], 0.276\n"
     ]
    },
    {
     "data": {
      "application/vnd.jupyter.widget-view+json": {
       "model_id": "60eb13c750fb472fb0f700b4c3d5ae63",
       "version_major": 2,
       "version_minor": 0
      },
      "text/plain": [
       "retries:   0%|          | 0/500 [00:00<?, ?it/s]"
      ]
     },
     "metadata": {},
     "output_type": "display_data"
    },
    {
     "name": "stdout",
     "output_type": "stream",
     "text": [
      "300,2: [109, 768], 0.802\n"
     ]
    },
    {
     "data": {
      "application/vnd.jupyter.widget-view+json": {
       "model_id": "3dc188dccdc242a8abb170d35a535a56",
       "version_major": 2,
       "version_minor": 0
      },
      "text/plain": [
       "retries:   0%|          | 0/500 [00:00<?, ?it/s]"
      ]
     },
     "metadata": {},
     "output_type": "display_data"
    },
    {
     "name": "stdout",
     "output_type": "stream",
     "text": [
      "300,3: [79, 3072, 123], 0.96\n"
     ]
    },
    {
     "data": {
      "application/vnd.jupyter.widget-view+json": {
       "model_id": "a7b7a7553ba745ad8a6b305194c9ad0a",
       "version_major": 2,
       "version_minor": 0
      },
      "text/plain": [
       "retries:   0%|          | 0/500 [00:00<?, ?it/s]"
      ]
     },
     "metadata": {},
     "output_type": "display_data"
    },
    {
     "name": "stdout",
     "output_type": "stream",
     "text": [
      "300,4: [1536, 342, 248, 111], 0.984\n"
     ]
    },
    {
     "data": {
      "application/vnd.jupyter.widget-view+json": {
       "model_id": "07ab85befc804fac997f67d52d5ec706",
       "version_major": 2,
       "version_minor": 0
      },
      "text/plain": [
       "retries:   0%|          | 0/500 [00:00<?, ?it/s]"
      ]
     },
     "metadata": {},
     "output_type": "display_data"
    },
    {
     "name": "stdout",
     "output_type": "stream",
     "text": [
      "300,5: [105, 224, 2048, 157, 65], 0.992\n"
     ]
    },
    {
     "data": {
      "application/vnd.jupyter.widget-view+json": {
       "model_id": "b9fab30ec79b489798c1de65f48cd074",
       "version_major": 2,
       "version_minor": 0
      },
      "text/plain": [
       "retries:   0%|          | 0/500 [00:00<?, ?it/s]"
      ]
     },
     "metadata": {},
     "output_type": "display_data"
    },
    {
     "name": "stdout",
     "output_type": "stream",
     "text": [
      "300,6: [99, 1536, 85, 123, 83, 256], 0.996\n"
     ]
    },
    {
     "data": {
      "application/vnd.jupyter.widget-view+json": {
       "model_id": "d074bd88105845798d7dc834490542dc",
       "version_major": 2,
       "version_minor": 0
      },
      "text/plain": [
       "retries:   0%|          | 0/500 [00:00<?, ?it/s]"
      ]
     },
     "metadata": {},
     "output_type": "display_data"
    },
    {
     "name": "stdout",
     "output_type": "stream",
     "text": [
      "300,7: [144, 216, 125, 65, 25, 1536, 35], 0.998\n"
     ]
    },
    {
     "data": {
      "application/vnd.jupyter.widget-view+json": {
       "model_id": "2ce91fc1a7ee44539344530bdd036991",
       "version_major": 2,
       "version_minor": 0
      },
      "text/plain": [
       "retries:   0%|          | 0/500 [00:00<?, ?it/s]"
      ]
     },
     "metadata": {},
     "output_type": "display_data"
    },
    {
     "name": "stdout",
     "output_type": "stream",
     "text": [
      "300,8: [105, 6, 20, 196, 342, 85, 35, 768], 1.0\n"
     ]
    },
    {
     "data": {
      "application/vnd.jupyter.widget-view+json": {
       "model_id": "7d549274041244ab85aca0d5183b7869",
       "version_major": 2,
       "version_minor": 0
      },
      "text/plain": [
       "retries:   0%|          | 0/500 [00:00<?, ?it/s]"
      ]
     },
     "metadata": {},
     "output_type": "display_data"
    },
    {
     "name": "stdout",
     "output_type": "stream",
     "text": [
      "300,9: [276, 65, 512, 228, 192, 16384, 173, 21, 162], 1.0\n"
     ]
    },
    {
     "data": {
      "application/vnd.jupyter.widget-view+json": {
       "model_id": "357645380ba9440b9fe6f7918e7bb98f",
       "version_major": 2,
       "version_minor": 0
      },
      "text/plain": [
       "retries:   0%|          | 0/500 [00:00<?, ?it/s]"
      ]
     },
     "metadata": {},
     "output_type": "display_data"
    },
    {
     "name": "stdout",
     "output_type": "stream",
     "text": [
      "300,10: [172, 165, 12, 72, 768, 173688133855974293135356477513031861779904976998460846059186376011869694459904, 123, 84, 173, 1024], 1.0\n"
     ]
    }
   ],
   "source": [
    "simulations = 500\n",
    "retries = 500\n",
    "nattack = range(50, 350, 50)\n",
    "nfeats = range(1, 11)\n",
    "num_workers = 30\n",
    "\n",
    "bayes_classifier = BayesClassifier()\n",
    "tree_random_subsets = RandomFeatures(sorted(feats_in_tree), distributions_mults, num_workers,\n",
    "                                     simulations, bayes_classifier, top_5_scorer, retries)\n",
    "\n",
    "bay = feature_search(nfeats, nattack, tree_random_subsets, restarts=True)"
   ]
  },
  {
   "cell_type": "code",
   "execution_count": 78,
   "id": "b7d1f703-5dc6-4c00-b739-11b47205ed75",
   "metadata": {},
   "outputs": [
    {
     "data": {
      "application/vnd.jupyter.widget-view+json": {
       "model_id": "3ed5e39fd1264f2585bd2f51d8c2190e",
       "version_major": 2,
       "version_minor": 0
      },
      "text/plain": [
       "Evaluating:   0%|          | 0/60 [00:00<?, ?it/s]"
      ]
     },
     "metadata": {},
     "output_type": "display_data"
    },
    {
     "data": {
      "image/png": "[encoded data removed]",
      "text/plain": [
       "<Figure size 640x480 with 2 Axes>"
      ]
     },
     "metadata": {},
     "output_type": "display_data"
    }
   ],
   "source": [
    "plot_performance(bayes_classifier, top_5_scorer, 500, bay, distributions_mults)"
   ]
  },
  {
   "cell_type": "markdown",
   "id": "6df03e89-d517-4243-bbfb-a5f52de24bb1",
   "metadata": {},
   "source": [
    "### Feature selection via greedy classification\n",
    "We can also use the classifier itself for feature selection. We iterate over all the divisors to pick the first feature with the best classifier results in simulation. Then we iteratively add features to it."
   ]
  },
  {
   "cell_type": "code",
   "execution_count": null,
   "id": "93c778a4-0855-4248-91a9-750fdd76ffa6",
   "metadata": {
    "jupyter": {
     "source_hidden": true
    }
   },
   "outputs": [],
   "source": [
    "def find_features_greedy(nfeats, nattack, num_workers, simulations, scorer, start_features=None):\n",
    "    available_feats = selected_divisors\n",
    "    feats = []\n",
    "    if start_features is not None:\n",
    "        if nfeats <= len(start_features):\n",
    "            raise ValueError(\"Features already picked.\")\n",
    "        feats.extend(start_features)\n",
    "        for feat in start_features:\n",
    "            available_feats.remove(feat)\n",
    "\n",
    "    with TaskExecutor(max_workers=num_workers) as pool:\n",
    "        while len(feats) < nfeats:\n",
    "            for feat in available_feats:\n",
    "                pool.submit_task(feat,\n",
    "                                 many_simulations,\n",
    "                                 nattack, distributions_mults, feats + [feat], scorer, simulations)\n",
    "            best_feat = None\n",
    "            best_feat_mean_pos = None\n",
    "            best_successes = Noned\n",
    "            for feat, future in tqdm(pool.as_completed(), total=len(available_feats), desc=f\"Picking feature {len(feats)}\", smoothing=0):\n",
    "                mean_pos, successes = future.result()\n",
    "                if best_feat is None or best_feat_mean_pos > mean_pos:\n",
    "                    best_feat = feat\n",
    "                    best_feat_mean_pos = mean_pos\n",
    "                    best_successes = successes\n",
    "            print(f\"Picked {best_feat} with mean pos: {mean_pos:.2f}\")\n",
    "            print(f\"top1: {best_successes[1]:.2f}, top2: {best_successes[2]:.2f}, top5: {best_successes[5]:.2f}, top10: {best_successes[10]:.2f}\")\n",
    "            feats.append(best_feat)\n",
    "            available_feats.remove(best_feat)\n",
    "    return feats"
   ]
  },
  {
   "cell_type": "code",
   "execution_count": 79,
   "id": "6e4c2313-83b0-43f8-80d6-14c39be0d9ec",
   "metadata": {},
   "outputs": [
    {
     "data": {
      "application/vnd.jupyter.widget-view+json": {
       "model_id": "8ca4c6298c494e538470d7cc19357ad5",
       "version_major": 2,
       "version_minor": 0
      },
      "text/plain": [
       "nattack:   0%|          | 0/6 [00:00<?, ?it/s]"
      ]
     },
     "metadata": {},
     "output_type": "display_data"
    },
    {
     "data": {
      "application/vnd.jupyter.widget-view+json": {
       "model_id": "1d9ab75232a54555af59aa1b32185b8b",
       "version_major": 2,
       "version_minor": 0
      },
      "text/plain": [
       "nfeats:   0%|          | 0/10 [00:00<?, ?it/s]"
      ]
     },
     "metadata": {},
     "output_type": "display_data"
    },
    {
     "name": "stdout",
     "output_type": "stream",
     "text": [
      "50,1: [296], 0.134\n",
      "50,2: [296, 85], 0.398\n",
      "50,3: [296, 85, 12288], 0.63\n",
      "50,4: [296, 85, 12288, 59], 0.762\n",
      "50,5: [296, 85, 12288, 59, 512], 0.818\n",
      "50,6: [296, 85, 12288, 59, 512, 248], 0.882\n",
      "50,7: [296, 85, 12288, 59, 512, 248, 315], 0.9\n",
      "50,8: [296, 85, 12288, 59, 512, 248, 315, 109], 0.934\n",
      "50,9: [296, 85, 12288, 59, 512, 248, 315, 109, 33], 0.942\n",
      "50,10: [296, 85, 12288, 59, 512, 248, 315, 109, 33, 1536], 0.956\n"
     ]
    },
    {
     "data": {
      "application/vnd.jupyter.widget-view+json": {
       "model_id": "d7d723bcc581426e85d17f172356397c",
       "version_major": 2,
       "version_minor": 0
      },
      "text/plain": [
       "nfeats:   0%|          | 0/10 [00:00<?, ?it/s]"
      ]
     },
     "metadata": {},
     "output_type": "display_data"
    },
    {
     "name": "stdout",
     "output_type": "stream",
     "text": [
      "100,1: [3072], 0.18\n",
      "100,2: [3072, 65], 0.626\n",
      "100,3: [3072, 65, 196], 0.822\n",
      "100,4: [3072, 65, 196, 240], 0.9\n",
      "100,5: [3072, 65, 196, 240, 346], 0.936\n",
      "100,6: [3072, 65, 196, 240, 346, 157], 0.954\n",
      "100,7: [3072, 65, 196, 240, 346, 157, 336], 0.972\n",
      "100,8: [3072, 65, 196, 240, 346, 157, 336, 343], 0.982\n",
      "100,9: [3072, 65, 196, 240, 346, 157, 336, 343, 126], 0.984\n",
      "100,10: [3072, 65, 196, 240, 346, 157, 336, 343, 126, 172], 0.992\n"
     ]
    },
    {
     "data": {
      "application/vnd.jupyter.widget-view+json": {
       "model_id": "eb8f7c1ebd894da78d9b68e357312d75",
       "version_major": 2,
       "version_minor": 0
      },
      "text/plain": [
       "nfeats:   0%|          | 0/10 [00:00<?, ?it/s]"
      ]
     },
     "metadata": {},
     "output_type": "display_data"
    },
    {
     "name": "stdout",
     "output_type": "stream",
     "text": [
      "150,1: [1536], 0.198\n",
      "150,2: [1536, 65], 0.666\n",
      "150,3: [1536, 65, 296], 0.888\n",
      "150,4: [1536, 65, 296, 123], 0.958\n",
      "150,5: [1536, 65, 296, 123, 178], 0.974\n",
      "150,6: [1536, 65, 296, 123, 178, 315], 0.992\n",
      "150,7: [1536, 65, 296, 123, 178, 315, 336], 0.994\n",
      "150,8: [1536, 65, 296, 123, 178, 315, 336, 1024], 0.996\n",
      "150,9: [1536, 65, 296, 123, 178, 315, 336, 1024, 2048], 0.996\n",
      "150,10: [1536, 65, 296, 123, 178, 315, 336, 1024, 2048, 248], 0.998\n"
     ]
    },
    {
     "data": {
      "application/vnd.jupyter.widget-view+json": {
       "model_id": "68c5f020e2a34272ae99877f2dba0d9c",
       "version_major": 2,
       "version_minor": 0
      },
      "text/plain": [
       "nfeats:   0%|          | 0/10 [00:00<?, ?it/s]"
      ]
     },
     "metadata": {},
     "output_type": "display_data"
    },
    {
     "name": "stdout",
     "output_type": "stream",
     "text": [
      "200,1: [1536], 0.218\n",
      "200,2: [1536, 276], 0.73\n",
      "200,3: [1536, 276, 109], 0.918\n",
      "200,4: [1536, 276, 109, 165], 0.978\n",
      "200,5: [1536, 276, 109, 165, 123], 0.99\n",
      "200,6: [1536, 276, 109, 165, 123, 212], 0.992\n",
      "200,7: [1536, 276, 109, 165, 123, 212, 216], 0.998\n",
      "200,8: [1536, 276, 109, 165, 123, 212, 216, 80], 1.0\n",
      "200,9: [1536, 276, 109, 165, 123, 212, 216, 80, 224], 1.0\n",
      "200,10: [1536, 276, 109, 165, 123, 212, 216, 80, 224, 43], 1.0\n"
     ]
    },
    {
     "data": {
      "application/vnd.jupyter.widget-view+json": {
       "model_id": "3bd2f5eff3314f26a31b1017916bd28c",
       "version_major": 2,
       "version_minor": 0
      },
      "text/plain": [
       "nfeats:   0%|          | 0/10 [00:00<?, ?it/s]"
      ]
     },
     "metadata": {},
     "output_type": "display_data"
    },
    {
     "name": "stdout",
     "output_type": "stream",
     "text": [
      "250,1: [3072], 0.244\n",
      "250,2: [3072, 95], 0.786\n",
      "250,3: [3072, 95, 196], 0.944\n",
      "250,4: [3072, 95, 196, 346], 0.978\n",
      "250,5: [3072, 95, 196, 346, 99], 0.992\n",
      "250,6: [3072, 95, 196, 346, 99, 157], 0.998\n",
      "250,7: [3072, 95, 196, 346, 99, 157, 33], 0.998\n",
      "250,8: [3072, 95, 196, 346, 99, 157, 33, 53], 1.0\n",
      "250,9: [3072, 95, 196, 346, 99, 157, 33, 53, 24], 1.0\n",
      "250,10: [3072, 95, 196, 346, 99, 157, 33, 53, 24, 105], 1.0\n"
     ]
    },
    {
     "data": {
      "application/vnd.jupyter.widget-view+json": {
       "model_id": "c7609564c6ae41189ec3b81437c78ae8",
       "version_major": 2,
       "version_minor": 0
      },
      "text/plain": [
       "nfeats:   0%|          | 0/10 [00:00<?, ?it/s]"
      ]
     },
     "metadata": {},
     "output_type": "display_data"
    },
    {
     "name": "stdout",
     "output_type": "stream",
     "text": [
      "300,1: [1536], 0.256\n",
      "300,2: [1536, 59], 0.822\n",
      "300,3: [1536, 59, 228], 0.966\n",
      "300,4: [1536, 59, 228, 224], 0.99\n",
      "300,5: [1536, 59, 228, 224, 105], 0.996\n",
      "300,6: [1536, 59, 228, 224, 105, 39], 0.998\n",
      "300,7: [1536, 59, 228, 224, 105, 39, 72], 1.0\n",
      "300,8: [1536, 59, 228, 224, 105, 39, 72, 20], 1.0\n",
      "300,9: [1536, 59, 228, 224, 105, 39, 72, 20, 80], 1.0\n",
      "300,10: [1536, 59, 228, 224, 105, 39, 72, 20, 80, 79], 1.0\n"
     ]
    }
   ],
   "source": [
    "simulations = 500\n",
    "nattack = range(50, 350, 50)\n",
    "nfeats = range(1, 11)\n",
    "num_workers = 30\n",
    "\n",
    "bayes_classifier = BayesClassifier()\n",
    "greedy = GreedyFeatures(sorted(feats_in_tree), distributions_mults, num_workers,\n",
    "                        simulations, bayes_classifier, top_5_scorer)\n",
    "\n",
    "gre = feature_search(nfeats, nattack, greedy, restarts=False)"
   ]
  },
  {
   "cell_type": "code",
   "execution_count": 80,
   "id": "86f6a319-a61c-41f2-9a7a-561691884198",
   "metadata": {},
   "outputs": [
    {
     "data": {
      "application/vnd.jupyter.widget-view+json": {
       "model_id": "3c6c94e05d964645b1e4bb82323a1479",
       "version_major": 2,
       "version_minor": 0
      },
      "text/plain": [
       "Evaluating:   0%|          | 0/60 [00:00<?, ?it/s]"
      ]
     },
     "metadata": {},
     "output_type": "display_data"
    },
    {
     "data": {
      "image/png": "[encoded data removed]",
      "text/plain": [
       "<Figure size 640x480 with 2 Axes>"
      ]
     },
     "metadata": {},
     "output_type": "display_data"
    }
   ],
   "source": [
    "plot_performance(bayes_classifier, top_5_scorer, 500, gre, distributions_mults)"
   ]
  },
  {
   "cell_type": "code",
   "execution_count": 83,
   "id": "69ce91fa-7475-41f1-a3ed-bc4dd97d44d6",
   "metadata": {},
   "outputs": [
    {
     "data": {
      "application/vnd.jupyter.widget-view+json": {
       "model_id": "30adc7f9575145209097d858ff84a17f",
       "version_major": 2,
       "version_minor": 0
      },
      "text/plain": [
       "nattack:   0%|          | 0/6 [00:00<?, ?it/s]"
      ]
     },
     "metadata": {},
     "output_type": "display_data"
    },
    {
     "data": {
      "application/vnd.jupyter.widget-view+json": {
       "model_id": "ae69e9bd98a14487a093dd66c4d2ae87",
       "version_major": 2,
       "version_minor": 0
      },
      "text/plain": [
       "nfeats:   0%|          | 0/10 [00:00<?, ?it/s]"
      ]
     },
     "metadata": {},
     "output_type": "display_data"
    },
    {
     "data": {
      "application/vnd.jupyter.widget-view+json": {
       "model_id": "3085c580a6f34e33a4c19252541e7c8f",
       "version_major": 2,
       "version_minor": 0
      },
      "text/plain": [
       "  0%|          | 0/3215 [00:00<?, ?it/s]"
      ]
     },
     "metadata": {},
     "output_type": "display_data"
    },
    {
     "name": "stdout",
     "output_type": "stream",
     "text": [
      "50,1: [272], 0.14\n"
     ]
    },
    {
     "data": {
      "application/vnd.jupyter.widget-view+json": {
       "model_id": "86e5407f77da4d50be6887551d051307",
       "version_major": 2,
       "version_minor": 0
      },
      "text/plain": [
       "  0%|          | 0/3214 [00:00<?, ?it/s]"
      ]
     },
     "metadata": {},
     "output_type": "display_data"
    },
    {
     "name": "stdout",
     "output_type": "stream",
     "text": [
      "50,2: [272, 3072], 0.392\n"
     ]
    },
    {
     "data": {
      "application/vnd.jupyter.widget-view+json": {
       "model_id": "d096e06f137340f7b3282719aeb35b32",
       "version_major": 2,
       "version_minor": 0
      },
      "text/plain": [
       "  0%|          | 0/3213 [00:00<?, ?it/s]"
      ]
     },
     "metadata": {},
     "output_type": "display_data"
    },
    {
     "name": "stdout",
     "output_type": "stream",
     "text": [
      "50,3: [272, 3072, 205], 0.666\n"
     ]
    },
    {
     "data": {
      "application/vnd.jupyter.widget-view+json": {
       "model_id": "602b4c2771c445cd85d10860f3f09e35",
       "version_major": 2,
       "version_minor": 0
      },
      "text/plain": [
       "  0%|          | 0/3212 [00:00<?, ?it/s]"
      ]
     },
     "metadata": {},
     "output_type": "display_data"
    },
    {
     "name": "stdout",
     "output_type": "stream",
     "text": [
      "50,4: [272, 3072, 205, 122], 0.792\n"
     ]
    },
    {
     "data": {
      "application/vnd.jupyter.widget-view+json": {
       "model_id": "45439c486ee84874ba24f3ba7c15877e",
       "version_major": 2,
       "version_minor": 0
      },
      "text/plain": [
       "  0%|          | 0/3211 [00:00<?, ?it/s]"
      ]
     },
     "metadata": {},
     "output_type": "display_data"
    },
    {
     "name": "stdout",
     "output_type": "stream",
     "text": [
      "50,5: [272, 3072, 205, 122, 63], 0.866\n"
     ]
    },
    {
     "data": {
      "application/vnd.jupyter.widget-view+json": {
       "model_id": "f22fd3e976ec4e1b825ebb0cff0c27d2",
       "version_major": 2,
       "version_minor": 0
      },
      "text/plain": [
       "  0%|          | 0/3210 [00:00<?, ?it/s]"
      ]
     },
     "metadata": {},
     "output_type": "display_data"
    },
    {
     "name": "stdout",
     "output_type": "stream",
     "text": [
      "50,6: [272, 3072, 205, 122, 63, 1020], 0.892\n"
     ]
    },
    {
     "data": {
      "application/vnd.jupyter.widget-view+json": {
       "model_id": "b49e857664c44b6183a415f0d7f7ebdc",
       "version_major": 2,
       "version_minor": 0
      },
      "text/plain": [
       "  0%|          | 0/3209 [00:00<?, ?it/s]"
      ]
     },
     "metadata": {},
     "output_type": "display_data"
    },
    {
     "name": "stdout",
     "output_type": "stream",
     "text": [
      "50,7: [272, 3072, 205, 122, 63, 1020, 316], 0.916\n"
     ]
    },
    {
     "data": {
      "application/vnd.jupyter.widget-view+json": {
       "model_id": "60721cdde08b47b9ab4e8df26f4267ce",
       "version_major": 2,
       "version_minor": 0
      },
      "text/plain": [
       "  0%|          | 0/3208 [00:00<?, ?it/s]"
      ]
     },
     "metadata": {},
     "output_type": "display_data"
    },
    {
     "name": "stdout",
     "output_type": "stream",
     "text": [
      "50,8: [272, 3072, 205, 122, 63, 1020, 316, 768], 0.934\n"
     ]
    },
    {
     "data": {
      "application/vnd.jupyter.widget-view+json": {
       "model_id": "ec695e29455248a18b06dc4eea8c7991",
       "version_major": 2,
       "version_minor": 0
      },
      "text/plain": [
       "  0%|          | 0/3207 [00:00<?, ?it/s]"
      ]
     },
     "metadata": {},
     "output_type": "display_data"
    },
    {
     "name": "stdout",
     "output_type": "stream",
     "text": [
      "50,9: [272, 3072, 205, 122, 63, 1020, 316, 768, 248], 0.948\n"
     ]
    },
    {
     "data": {
      "application/vnd.jupyter.widget-view+json": {
       "model_id": "4993599b66944c51b6445698a26b6c4b",
       "version_major": 2,
       "version_minor": 0
      },
      "text/plain": [
       "  0%|          | 0/3206 [00:00<?, ?it/s]"
      ]
     },
     "metadata": {},
     "output_type": "display_data"
    },
    {
     "name": "stdout",
     "output_type": "stream",
     "text": [
      "50,10: [272, 3072, 205, 122, 63, 1020, 316, 768, 248, 29], 0.966\n"
     ]
    },
    {
     "data": {
      "application/vnd.jupyter.widget-view+json": {
       "model_id": "891d7c7410904a778fb027bf5f18cf24",
       "version_major": 2,
       "version_minor": 0
      },
      "text/plain": [
       "nfeats:   0%|          | 0/10 [00:00<?, ?it/s]"
      ]
     },
     "metadata": {},
     "output_type": "display_data"
    },
    {
     "data": {
      "application/vnd.jupyter.widget-view+json": {
       "model_id": "5b8fa5b1453c417dba79ef1b88ddf7c2",
       "version_major": 2,
       "version_minor": 0
      },
      "text/plain": [
       "  0%|          | 0/3215 [00:00<?, ?it/s]"
      ]
     },
     "metadata": {},
     "output_type": "display_data"
    },
    {
     "name": "stdout",
     "output_type": "stream",
     "text": [
      "100,1: [328], 0.182\n"
     ]
    },
    {
     "data": {
      "application/vnd.jupyter.widget-view+json": {
       "model_id": "78c47a6966d74856b8e49c36d1db854f",
       "version_major": 2,
       "version_minor": 0
      },
      "text/plain": [
       "  0%|          | 0/3214 [00:00<?, ?it/s]"
      ]
     },
     "metadata": {},
     "output_type": "display_data"
    },
    {
     "name": "stdout",
     "output_type": "stream",
     "text": [
      "100,2: [328, 123], 0.512\n"
     ]
    },
    {
     "data": {
      "application/vnd.jupyter.widget-view+json": {
       "model_id": "7c6ea36b771046e9a3b1cb57b3ccf110",
       "version_major": 2,
       "version_minor": 0
      },
      "text/plain": [
       "  0%|          | 0/3213 [00:00<?, ?it/s]"
      ]
     },
     "metadata": {},
     "output_type": "display_data"
    },
    {
     "name": "stdout",
     "output_type": "stream",
     "text": [
      "100,3: [328, 123, 3072], 0.822\n"
     ]
    },
    {
     "data": {
      "application/vnd.jupyter.widget-view+json": {
       "model_id": "fb85165707d7410ba891a6a9241af6ad",
       "version_major": 2,
       "version_minor": 0
      },
      "text/plain": [
       "  0%|          | 0/3212 [00:00<?, ?it/s]"
      ]
     },
     "metadata": {},
     "output_type": "display_data"
    },
    {
     "name": "stdout",
     "output_type": "stream",
     "text": [
      "100,4: [328, 123, 3072, 78], 0.92\n"
     ]
    },
    {
     "data": {
      "application/vnd.jupyter.widget-view+json": {
       "model_id": "9e18d6a1285e4a038b7a7dbe00e6dcdc",
       "version_major": 2,
       "version_minor": 0
      },
      "text/plain": [
       "  0%|          | 0/3211 [00:00<?, ?it/s]"
      ]
     },
     "metadata": {},
     "output_type": "display_data"
    },
    {
     "name": "stdout",
     "output_type": "stream",
     "text": [
      "100,5: [328, 123, 3072, 78, 331], 0.944\n"
     ]
    },
    {
     "data": {
      "application/vnd.jupyter.widget-view+json": {
       "model_id": "0d8511c1d9c14ddabeb4922e5d630c4e",
       "version_major": 2,
       "version_minor": 0
      },
      "text/plain": [
       "  0%|          | 0/3210 [00:00<?, ?it/s]"
      ]
     },
     "metadata": {},
     "output_type": "display_data"
    },
    {
     "name": "stdout",
     "output_type": "stream",
     "text": [
      "100,6: [328, 123, 3072, 78, 331, 63], 0.96\n"
     ]
    },
    {
     "data": {
      "application/vnd.jupyter.widget-view+json": {
       "model_id": "0fa535b3be2249d0a813c2d7853bb540",
       "version_major": 2,
       "version_minor": 0
      },
      "text/plain": [
       "  0%|          | 0/3209 [00:00<?, ?it/s]"
      ]
     },
     "metadata": {},
     "output_type": "display_data"
    },
    {
     "name": "stdout",
     "output_type": "stream",
     "text": [
      "100,7: [328, 123, 3072, 78, 331, 63, 58], 0.974\n"
     ]
    },
    {
     "data": {
      "application/vnd.jupyter.widget-view+json": {
       "model_id": "b5368a2da88a414da0bb8be427d82c68",
       "version_major": 2,
       "version_minor": 0
      },
      "text/plain": [
       "  0%|          | 0/3208 [00:00<?, ?it/s]"
      ]
     },
     "metadata": {},
     "output_type": "display_data"
    },
    {
     "name": "stdout",
     "output_type": "stream",
     "text": [
      "100,8: [328, 123, 3072, 78, 331, 63, 58, 1025], 0.978\n"
     ]
    },
    {
     "data": {
      "application/vnd.jupyter.widget-view+json": {
       "model_id": "97bfe4c441834f649bb8c4881a5688a9",
       "version_major": 2,
       "version_minor": 0
      },
      "text/plain": [
       "  0%|          | 0/3207 [00:00<?, ?it/s]"
      ]
     },
     "metadata": {},
     "output_type": "display_data"
    },
    {
     "name": "stdout",
     "output_type": "stream",
     "text": [
      "100,9: [328, 123, 3072, 78, 331, 63, 58, 1025, 260], 0.984\n"
     ]
    },
    {
     "data": {
      "application/vnd.jupyter.widget-view+json": {
       "model_id": "fb9796841da7472ea47bc54650ef71c2",
       "version_major": 2,
       "version_minor": 0
      },
      "text/plain": [
       "  0%|          | 0/3206 [00:00<?, ?it/s]"
      ]
     },
     "metadata": {},
     "output_type": "display_data"
    },
    {
     "name": "stdout",
     "output_type": "stream",
     "text": [
      "100,10: [328, 123, 3072, 78, 331, 63, 58, 1025, 260, 341], 0.988\n"
     ]
    },
    {
     "data": {
      "application/vnd.jupyter.widget-view+json": {
       "model_id": "344a7ca3f1da4216b92ab1206a6edf2d",
       "version_major": 2,
       "version_minor": 0
      },
      "text/plain": [
       "nfeats:   0%|          | 0/10 [00:00<?, ?it/s]"
      ]
     },
     "metadata": {},
     "output_type": "display_data"
    },
    {
     "data": {
      "application/vnd.jupyter.widget-view+json": {
       "model_id": "5f33c26a88a5469dbf31a4247a9532fe",
       "version_major": 2,
       "version_minor": 0
      },
      "text/plain": [
       "  0%|          | 0/3215 [00:00<?, ?it/s]"
      ]
     },
     "metadata": {},
     "output_type": "display_data"
    },
    {
     "name": "stdout",
     "output_type": "stream",
     "text": [
      "150,1: [320], 0.206\n"
     ]
    },
    {
     "data": {
      "application/vnd.jupyter.widget-view+json": {
       "model_id": "7dff212094e3420187a3dd4313865ebf",
       "version_major": 2,
       "version_minor": 0
      },
      "text/plain": [
       "  0%|          | 0/3214 [00:00<?, ?it/s]"
      ]
     },
     "metadata": {},
     "output_type": "display_data"
    },
    {
     "name": "stdout",
     "output_type": "stream",
     "text": [
      "150,2: [320, 91], 0.63\n"
     ]
    },
    {
     "data": {
      "application/vnd.jupyter.widget-view+json": {
       "model_id": "0a30c27cf73c46e1bff4666ea689ecfa",
       "version_major": 2,
       "version_minor": 0
      },
      "text/plain": [
       "  0%|          | 0/3213 [00:00<?, ?it/s]"
      ]
     },
     "metadata": {},
     "output_type": "display_data"
    },
    {
     "name": "stdout",
     "output_type": "stream",
     "text": [
      "150,3: [320, 91, 1536], 0.86\n"
     ]
    },
    {
     "data": {
      "application/vnd.jupyter.widget-view+json": {
       "model_id": "a66e0aaf03474a1da38cbc90d00d9999",
       "version_major": 2,
       "version_minor": 0
      },
      "text/plain": [
       "  0%|          | 0/3212 [00:00<?, ?it/s]"
      ]
     },
     "metadata": {},
     "output_type": "display_data"
    },
    {
     "name": "stdout",
     "output_type": "stream",
     "text": [
      "150,4: [320, 91, 1536, 244], 0.944\n"
     ]
    },
    {
     "data": {
      "application/vnd.jupyter.widget-view+json": {
       "model_id": "a14311f69c30487fbc4ea5e712737a22",
       "version_major": 2,
       "version_minor": 0
      },
      "text/plain": [
       "  0%|          | 0/3211 [00:00<?, ?it/s]"
      ]
     },
     "metadata": {},
     "output_type": "display_data"
    },
    {
     "name": "stdout",
     "output_type": "stream",
     "text": [
      "150,5: [320, 91, 1536, 244, 59], 0.976\n"
     ]
    },
    {
     "data": {
      "application/vnd.jupyter.widget-view+json": {
       "model_id": "9c26dac1e36845b4be39d2be4ee49f04",
       "version_major": 2,
       "version_minor": 0
      },
      "text/plain": [
       "  0%|          | 0/3210 [00:00<?, ?it/s]"
      ]
     },
     "metadata": {},
     "output_type": "display_data"
    },
    {
     "name": "stdout",
     "output_type": "stream",
     "text": [
      "150,6: [320, 91, 1536, 244, 59, 299], 0.99\n"
     ]
    },
    {
     "data": {
      "application/vnd.jupyter.widget-view+json": {
       "model_id": "5830353333384753a29cf280d87427ed",
       "version_major": 2,
       "version_minor": 0
      },
      "text/plain": [
       "  0%|          | 0/3209 [00:00<?, ?it/s]"
      ]
     },
     "metadata": {},
     "output_type": "display_data"
    },
    {
     "name": "stdout",
     "output_type": "stream",
     "text": [
      "150,7: [320, 91, 1536, 244, 59, 299, 274], 0.994\n"
     ]
    },
    {
     "data": {
      "application/vnd.jupyter.widget-view+json": {
       "model_id": "7ed973612e8047b7a1cf3b075f52aa8a",
       "version_major": 2,
       "version_minor": 0
      },
      "text/plain": [
       "  0%|          | 0/3208 [00:00<?, ?it/s]"
      ]
     },
     "metadata": {},
     "output_type": "display_data"
    },
    {
     "name": "stdout",
     "output_type": "stream",
     "text": [
      "150,8: [320, 91, 1536, 244, 59, 299, 274, 290], 0.998\n"
     ]
    },
    {
     "data": {
      "application/vnd.jupyter.widget-view+json": {
       "model_id": "0d7b7bda37644f459862cc843c6cff79",
       "version_major": 2,
       "version_minor": 0
      },
      "text/plain": [
       "  0%|          | 0/3207 [00:00<?, ?it/s]"
      ]
     },
     "metadata": {},
     "output_type": "display_data"
    },
    {
     "name": "stdout",
     "output_type": "stream",
     "text": [
      "150,9: [320, 91, 1536, 244, 59, 299, 274, 290, 135], 1.0\n"
     ]
    },
    {
     "data": {
      "application/vnd.jupyter.widget-view+json": {
       "model_id": "febf509b5448499ca83795428d38c8ae",
       "version_major": 2,
       "version_minor": 0
      },
      "text/plain": [
       "  0%|          | 0/3206 [00:00<?, ?it/s]"
      ]
     },
     "metadata": {},
     "output_type": "display_data"
    },
    {
     "name": "stdout",
     "output_type": "stream",
     "text": [
      "150,10: [320, 91, 1536, 244, 59, 299, 274, 290, 135, 87], 1.0\n"
     ]
    },
    {
     "data": {
      "application/vnd.jupyter.widget-view+json": {
       "model_id": "9ff1147243794c40af0331f8246b5302",
       "version_major": 2,
       "version_minor": 0
      },
      "text/plain": [
       "nfeats:   0%|          | 0/10 [00:00<?, ?it/s]"
      ]
     },
     "metadata": {},
     "output_type": "display_data"
    },
    {
     "data": {
      "application/vnd.jupyter.widget-view+json": {
       "model_id": "a42893e47144468aa4f4a6b599bfd3ce",
       "version_major": 2,
       "version_minor": 0
      },
      "text/plain": [
       "  0%|          | 0/3215 [00:00<?, ?it/s]"
      ]
     },
     "metadata": {},
     "output_type": "display_data"
    },
    {
     "name": "stdout",
     "output_type": "stream",
     "text": [
      "200,1: [6144], 0.236\n"
     ]
    },
    {
     "data": {
      "application/vnd.jupyter.widget-view+json": {
       "model_id": "e33b49718e274e0597e9cc89d260c0f3",
       "version_major": 2,
       "version_minor": 0
      },
      "text/plain": [
       "  0%|          | 0/3214 [00:00<?, ?it/s]"
      ]
     },
     "metadata": {},
     "output_type": "display_data"
    },
    {
     "name": "stdout",
     "output_type": "stream",
     "text": [
      "200,2: [6144, 165], 0.76\n"
     ]
    },
    {
     "data": {
      "application/vnd.jupyter.widget-view+json": {
       "model_id": "55384764000a434bbb77d636cda01dd2",
       "version_major": 2,
       "version_minor": 0
      },
      "text/plain": [
       "  0%|          | 0/3213 [00:00<?, ?it/s]"
      ]
     },
     "metadata": {},
     "output_type": "display_data"
    },
    {
     "name": "stdout",
     "output_type": "stream",
     "text": [
      "200,3: [6144, 165, 368], 0.92\n"
     ]
    },
    {
     "data": {
      "application/vnd.jupyter.widget-view+json": {
       "model_id": "8509ecc0b41948c6b87c06815d2bd2c5",
       "version_major": 2,
       "version_minor": 0
      },
      "text/plain": [
       "  0%|          | 0/3212 [00:00<?, ?it/s]"
      ]
     },
     "metadata": {},
     "output_type": "display_data"
    },
    {
     "name": "stdout",
     "output_type": "stream",
     "text": [
      "200,4: [6144, 165, 368, 59], 0.972\n"
     ]
    },
    {
     "data": {
      "application/vnd.jupyter.widget-view+json": {
       "model_id": "bd2ec3497aca4a43855f1f5d98d6321b",
       "version_major": 2,
       "version_minor": 0
      },
      "text/plain": [
       "  0%|          | 0/3211 [00:00<?, ?it/s]"
      ]
     },
     "metadata": {},
     "output_type": "display_data"
    },
    {
     "name": "stdout",
     "output_type": "stream",
     "text": [
      "200,5: [6144, 165, 368, 59, 150], 0.99\n"
     ]
    },
    {
     "data": {
      "application/vnd.jupyter.widget-view+json": {
       "model_id": "a264f1f4d64a468e8a26250ab2180133",
       "version_major": 2,
       "version_minor": 0
      },
      "text/plain": [
       "  0%|          | 0/3210 [00:00<?, ?it/s]"
      ]
     },
     "metadata": {},
     "output_type": "display_data"
    },
    {
     "name": "stdout",
     "output_type": "stream",
     "text": [
      "200,6: [6144, 165, 368, 59, 150, 2854495385411919762116571938898990272765493250], 0.996\n"
     ]
    },
    {
     "data": {
      "application/vnd.jupyter.widget-view+json": {
       "model_id": "c42bf7b0e0214440ac5aaab33e7ab394",
       "version_major": 2,
       "version_minor": 0
      },
      "text/plain": [
       "  0%|          | 0/3209 [00:00<?, ?it/s]"
      ]
     },
     "metadata": {},
     "output_type": "display_data"
    },
    {
     "name": "stdout",
     "output_type": "stream",
     "text": [
      "200,7: [6144, 165, 368, 59, 150, 2854495385411919762116571938898990272765493250, 17], 0.992\n"
     ]
    },
    {
     "data": {
      "application/vnd.jupyter.widget-view+json": {
       "model_id": "f595749d8dc74f5fa006a5a0697c2806",
       "version_major": 2,
       "version_minor": 0
      },
      "text/plain": [
       "  0%|          | 0/3208 [00:00<?, ?it/s]"
      ]
     },
     "metadata": {},
     "output_type": "display_data"
    },
    {
     "name": "stdout",
     "output_type": "stream",
     "text": [
      "200,8: [6144, 165, 368, 59, 150, 2854495385411919762116571938898990272765493250, 17, 1019], 0.996\n"
     ]
    },
    {
     "data": {
      "application/vnd.jupyter.widget-view+json": {
       "model_id": "721d135187384cf782380fcfd97504cb",
       "version_major": 2,
       "version_minor": 0
      },
      "text/plain": [
       "  0%|          | 0/3207 [00:00<?, ?it/s]"
      ]
     },
     "metadata": {},
     "output_type": "display_data"
    },
    {
     "name": "stdout",
     "output_type": "stream",
     "text": [
      "200,9: [6144, 165, 368, 59, 150, 2854495385411919762116571938898990272765493250, 17, 1019, 180], 0.998\n"
     ]
    },
    {
     "data": {
      "application/vnd.jupyter.widget-view+json": {
       "model_id": "b6e188890d724406976ad0b1a1f4c330",
       "version_major": 2,
       "version_minor": 0
      },
      "text/plain": [
       "  0%|          | 0/3206 [00:00<?, ?it/s]"
      ]
     },
     "metadata": {},
     "output_type": "display_data"
    },
    {
     "name": "stdout",
     "output_type": "stream",
     "text": [
      "200,10: [6144, 165, 368, 59, 150, 2854495385411919762116571938898990272765493250, 17, 1019, 180, 343], 1.0\n"
     ]
    },
    {
     "data": {
      "application/vnd.jupyter.widget-view+json": {
       "model_id": "79635a49078f42bf92389d472a0fba82",
       "version_major": 2,
       "version_minor": 0
      },
      "text/plain": [
       "nfeats:   0%|          | 0/10 [00:00<?, ?it/s]"
      ]
     },
     "metadata": {},
     "output_type": "display_data"
    },
    {
     "data": {
      "application/vnd.jupyter.widget-view+json": {
       "model_id": "3cde804f2cd84e17a964d222fe3568f7",
       "version_major": 2,
       "version_minor": 0
      },
      "text/plain": [
       "  0%|          | 0/3215 [00:00<?, ?it/s]"
      ]
     },
     "metadata": {},
     "output_type": "display_data"
    },
    {
     "name": "stdout",
     "output_type": "stream",
     "text": [
      "250,1: [3072], 0.25\n"
     ]
    },
    {
     "data": {
      "application/vnd.jupyter.widget-view+json": {
       "model_id": "5f1c627a72f74a2b87c9b5fea45638a5",
       "version_major": 2,
       "version_minor": 0
      },
      "text/plain": [
       "  0%|          | 0/3214 [00:00<?, ?it/s]"
      ]
     },
     "metadata": {},
     "output_type": "display_data"
    },
    {
     "name": "stdout",
     "output_type": "stream",
     "text": [
      "250,2: [3072, 65], 0.796\n"
     ]
    },
    {
     "data": {
      "application/vnd.jupyter.widget-view+json": {
       "model_id": "1044c379d09447a3a8c7c7cc5e3feee3",
       "version_major": 2,
       "version_minor": 0
      },
      "text/plain": [
       "  0%|          | 0/3213 [00:00<?, ?it/s]"
      ]
     },
     "metadata": {},
     "output_type": "display_data"
    },
    {
     "name": "stdout",
     "output_type": "stream",
     "text": [
      "250,3: [3072, 65, 248], 0.96\n"
     ]
    },
    {
     "data": {
      "application/vnd.jupyter.widget-view+json": {
       "model_id": "adaf8d6052f44a1ea2d09d3fdb92ce90",
       "version_major": 2,
       "version_minor": 0
      },
      "text/plain": [
       "  0%|          | 0/3212 [00:00<?, ?it/s]"
      ]
     },
     "metadata": {},
     "output_type": "display_data"
    },
    {
     "name": "stdout",
     "output_type": "stream",
     "text": [
      "250,4: [3072, 65, 248, 139], 0.988\n"
     ]
    },
    {
     "data": {
      "application/vnd.jupyter.widget-view+json": {
       "model_id": "41bb28bbf3be4d1e8d0a47cea8499f30",
       "version_major": 2,
       "version_minor": 0
      },
      "text/plain": [
       "  0%|          | 0/3211 [00:00<?, ?it/s]"
      ]
     },
     "metadata": {},
     "output_type": "display_data"
    },
    {
     "name": "stdout",
     "output_type": "stream",
     "text": [
      "250,5: [3072, 65, 248, 139, 262], 0.996\n"
     ]
    },
    {
     "data": {
      "application/vnd.jupyter.widget-view+json": {
       "model_id": "f8695724b8a744ef9afaecd4be5937a9",
       "version_major": 2,
       "version_minor": 0
      },
      "text/plain": [
       "  0%|          | 0/3210 [00:00<?, ?it/s]"
      ]
     },
     "metadata": {},
     "output_type": "display_data"
    },
    {
     "name": "stdout",
     "output_type": "stream",
     "text": [
      "250,6: [3072, 65, 248, 139, 262, 16380], 1.0\n"
     ]
    },
    {
     "data": {
      "application/vnd.jupyter.widget-view+json": {
       "model_id": "7cf4ebbd8a004e2d97e63b905c744495",
       "version_major": 2,
       "version_minor": 0
      },
      "text/plain": [
       "  0%|          | 0/3209 [00:00<?, ?it/s]"
      ]
     },
     "metadata": {},
     "output_type": "display_data"
    },
    {
     "name": "stdout",
     "output_type": "stream",
     "text": [
      "250,7: [3072, 65, 248, 139, 262, 16380, 214], 1.0\n"
     ]
    },
    {
     "data": {
      "application/vnd.jupyter.widget-view+json": {
       "model_id": "476adc30d3e443c5855735e2d8728c1d",
       "version_major": 2,
       "version_minor": 0
      },
      "text/plain": [
       "  0%|          | 0/3208 [00:00<?, ?it/s]"
      ]
     },
     "metadata": {},
     "output_type": "display_data"
    },
    {
     "name": "stdout",
     "output_type": "stream",
     "text": [
      "250,8: [3072, 65, 248, 139, 262, 16380, 214, 6], 1.0\n"
     ]
    },
    {
     "data": {
      "application/vnd.jupyter.widget-view+json": {
       "model_id": "2dec120b99f2458089ff8bb2c9fa7b97",
       "version_major": 2,
       "version_minor": 0
      },
      "text/plain": [
       "  0%|          | 0/3207 [00:00<?, ?it/s]"
      ]
     },
     "metadata": {},
     "output_type": "display_data"
    },
    {
     "name": "stdout",
     "output_type": "stream",
     "text": [
      "250,9: [3072, 65, 248, 139, 262, 16380, 214, 6, 74], 1.0\n"
     ]
    },
    {
     "data": {
      "application/vnd.jupyter.widget-view+json": {
       "model_id": "ed2ea578309947e7b47cd3ed725fc149",
       "version_major": 2,
       "version_minor": 0
      },
      "text/plain": [
       "  0%|          | 0/3206 [00:00<?, ?it/s]"
      ]
     },
     "metadata": {},
     "output_type": "display_data"
    },
    {
     "name": "stdout",
     "output_type": "stream",
     "text": [
      "250,10: [3072, 65, 248, 139, 262, 16380, 214, 6, 74, 83], 1.0\n"
     ]
    },
    {
     "data": {
      "application/vnd.jupyter.widget-view+json": {
       "model_id": "705a060f3fa24cb3a5b84d32ec12247a",
       "version_major": 2,
       "version_minor": 0
      },
      "text/plain": [
       "nfeats:   0%|          | 0/10 [00:00<?, ?it/s]"
      ]
     },
     "metadata": {},
     "output_type": "display_data"
    },
    {
     "data": {
      "application/vnd.jupyter.widget-view+json": {
       "model_id": "f58ba4fce42049758b0b52b5242d0f8e",
       "version_major": 2,
       "version_minor": 0
      },
      "text/plain": [
       "  0%|          | 0/3215 [00:00<?, ?it/s]"
      ]
     },
     "metadata": {},
     "output_type": "display_data"
    },
    {
     "name": "stdout",
     "output_type": "stream",
     "text": [
      "300,1: [6144], 0.262\n"
     ]
    },
    {
     "data": {
      "application/vnd.jupyter.widget-view+json": {
       "model_id": "bd829f28bce549ceb4d5da563657a5ff",
       "version_major": 2,
       "version_minor": 0
      },
      "text/plain": [
       "  0%|          | 0/3214 [00:00<?, ?it/s]"
      ]
     },
     "metadata": {},
     "output_type": "display_data"
    },
    {
     "name": "stdout",
     "output_type": "stream",
     "text": [
      "300,2: [6144, 75], 0.818\n"
     ]
    },
    {
     "data": {
      "application/vnd.jupyter.widget-view+json": {
       "model_id": "ba0c8cad49bd4a7aa591062ff7f4f838",
       "version_major": 2,
       "version_minor": 0
      },
      "text/plain": [
       "  0%|          | 0/3213 [00:00<?, ?it/s]"
      ]
     },
     "metadata": {},
     "output_type": "display_data"
    },
    {
     "name": "stdout",
     "output_type": "stream",
     "text": [
      "300,3: [6144, 75, 248], 0.954\n"
     ]
    },
    {
     "data": {
      "application/vnd.jupyter.widget-view+json": {
       "model_id": "10fd1f92fc2a44b9a179c54a13f6a44d",
       "version_major": 2,
       "version_minor": 0
      },
      "text/plain": [
       "  0%|          | 0/3212 [00:00<?, ?it/s]"
      ]
     },
     "metadata": {},
     "output_type": "display_data"
    },
    {
     "name": "stdout",
     "output_type": "stream",
     "text": [
      "300,4: [6144, 75, 248, 311], 0.99\n"
     ]
    },
    {
     "data": {
      "application/vnd.jupyter.widget-view+json": {
       "model_id": "8c8c6dc23e9544648f1e44802a5e5db1",
       "version_major": 2,
       "version_minor": 0
      },
      "text/plain": [
       "  0%|          | 0/3211 [00:00<?, ?it/s]"
      ]
     },
     "metadata": {},
     "output_type": "display_data"
    },
    {
     "name": "stdout",
     "output_type": "stream",
     "text": [
      "300,5: [6144, 75, 248, 311, 344], 0.994\n"
     ]
    },
    {
     "data": {
      "application/vnd.jupyter.widget-view+json": {
       "model_id": "edf7a8742135482bb6b75ff6b7c18e73",
       "version_major": 2,
       "version_minor": 0
      },
      "text/plain": [
       "  0%|          | 0/3210 [00:00<?, ?it/s]"
      ]
     },
     "metadata": {},
     "output_type": "display_data"
    },
    {
     "name": "stdout",
     "output_type": "stream",
     "text": [
      "300,6: [6144, 75, 248, 311, 344, 260], 1.0\n"
     ]
    },
    {
     "data": {
      "application/vnd.jupyter.widget-view+json": {
       "model_id": "ac87bf221d9c49acbb375bb0e9fb9b17",
       "version_major": 2,
       "version_minor": 0
      },
      "text/plain": [
       "  0%|          | 0/3209 [00:00<?, ?it/s]"
      ]
     },
     "metadata": {},
     "output_type": "display_data"
    },
    {
     "name": "stdout",
     "output_type": "stream",
     "text": [
      "300,7: [6144, 75, 248, 311, 344, 260, 123], 1.0\n"
     ]
    },
    {
     "data": {
      "application/vnd.jupyter.widget-view+json": {
       "model_id": "940e405be0c746efb122bddf93a72f10",
       "version_major": 2,
       "version_minor": 0
      },
      "text/plain": [
       "  0%|          | 0/3208 [00:00<?, ?it/s]"
      ]
     },
     "metadata": {},
     "output_type": "display_data"
    },
    {
     "name": "stdout",
     "output_type": "stream",
     "text": [
      "300,8: [6144, 75, 248, 311, 344, 260, 123, 100], 1.0\n"
     ]
    },
    {
     "data": {
      "application/vnd.jupyter.widget-view+json": {
       "model_id": "5bed270a06514866af9feda320ece95e",
       "version_major": 2,
       "version_minor": 0
      },
      "text/plain": [
       "  0%|          | 0/3207 [00:00<?, ?it/s]"
      ]
     },
     "metadata": {},
     "output_type": "display_data"
    },
    {
     "name": "stdout",
     "output_type": "stream",
     "text": [
      "300,9: [6144, 75, 248, 311, 344, 260, 123, 100, 151], 1.0\n"
     ]
    },
    {
     "data": {
      "application/vnd.jupyter.widget-view+json": {
       "model_id": "05f88c6988664d3c94bf97ab06cc616c",
       "version_major": 2,
       "version_minor": 0
      },
      "text/plain": [
       "  0%|          | 0/3206 [00:00<?, ?it/s]"
      ]
     },
     "metadata": {},
     "output_type": "display_data"
    },
    {
     "name": "stdout",
     "output_type": "stream",
     "text": [
      "300,10: [6144, 75, 248, 311, 344, 260, 123, 100, 151, 138], 1.0\n"
     ]
    }
   ],
   "source": [
    "simulations = 500\n",
    "nattack = range(50, 350, 50)\n",
    "nfeats = range(1, 11)\n",
    "num_workers = 30\n",
    "\n",
    "bayes_classifier = BayesClassifier()\n",
    "greedy = GreedyFeatures(allfeats, distributions_mults, num_workers,\n",
    "                        simulations, bayes_classifier, top_5_scorer)\n",
    "\n",
    "gre = feature_search(nfeats, nattack, greedy, restarts=False)"
   ]
  },
  {
   "cell_type": "code",
   "execution_count": 89,
   "id": "54e58342-f2d8-42e9-ae63-0f0349efc8eb",
   "metadata": {},
   "outputs": [
    {
     "data": {
      "application/vnd.jupyter.widget-view+json": {
       "model_id": "4a4df7ff85bc4f5a8a547f07e8e7553f",
       "version_major": 2,
       "version_minor": 0
      },
      "text/plain": [
       "Evaluating:   0%|          | 0/60 [00:00<?, ?it/s]"
      ]
     },
     "metadata": {},
     "output_type": "display_data"
    },
    {
     "data": {
      "image/png": "[encoded data removed]",
      "text/plain": [
       "<Figure size 640x480 with 2 Axes>"
      ]
     },
     "metadata": {},
     "output_type": "display_data"
    }
   ],
   "source": [
    "plot_performance(bayes_classifier, top_5_scorer, 500, gre, distributions_mults)"
   ]
  },
  {
   "cell_type": "markdown",
   "id": "7c030a1c-c13d-401a-bcdb-212c064681e4",
   "metadata": {},
   "source": [
    "### Feature selection via mRMR using mutual information"
   ]
  },
  {
   "cell_type": "code",
   "execution_count": null,
   "id": "cd769175-c188-411c-af36-2973e7a0ffd1",
   "metadata": {},
   "outputs": [],
   "source": [
    "def mutual_information(class_priors, p_ci_list, n):\n",
    "    \"\"\"\n",
    "    Compute mutual information I(X; Y) for a binomial feature with given class parameters.\n",
    "    \n",
    "    Args:\n",
    "        class_priors (np.array): P(Y=c), shape (num_classes,)\n",
    "        p_ci_list (np.array): Binomial parameters [p_{c,i}] for each class c, shape (num_classes,)\n",
    "        n (int): Number of trials in binomial distribution\n",
    "    \n",
    "    Returns:\n",
    "        float: Mutual information I(X; Y)\n",
    "    \"\"\"\n",
    "    num_classes = len(class_priors)\n",
    "    \n",
    "    # Precompute all PMFs across x and classes\n",
    "    x_values = np.arange(0, n + 1)[:, None]  # (n+1, 1)\n",
    "    pmfs = binom.pmf(x_values, n, p_ci_list[None, :])  # Shape: (n+1, num_classes)\n",
    "    \n",
    "    # Compute joint probabilities P(Y=c) * P(X=x | Y=c)\n",
    "    # Multiply class_priors (shape C) with each row of pmfs (each x has shape (C,))\n",
    "    # class_priors[None, :] becomes (1, C), so broadcasting works.\n",
    "    joint_probs = pmfs * class_priors[None, :]\n",
    "    \n",
    "    # Compute P(X=x) for all x\n",
    "    px = np.sum(joint_probs, axis=1)\n",
    "\n",
    "    # Compute H(Y|X):\n",
    "    h_ygx = 0.0\n",
    "\n",
    "    for x_idx in range(n + 1):\n",
    "        current_px = px[x_idx]\n",
    "        \n",
    "        if current_px < 1e-9:  # Skip negligible probabilities\n",
    "            continue\n",
    "        \n",
    "        cond_probs = joint_probs[x_idx] / current_px  # P(Y=c | X=x)\n",
    "        \n",
    "        # Compute entropy H(Y|X=x) using scipy's entropy function\n",
    "        h_x = entropy(cond_probs, base=2)\n",
    "        \n",
    "        h_ygx += current_px * h_x\n",
    "    \n",
    "    # Prior entropy H(Y)\n",
    "    h_y = entropy(class_priors, base=2)\n",
    "\n",
    "    return h_y - h_ygx\n",
    "\n",
    "\n",
    "def mutual_information_between_features(class_priors, p_ci_i, p_ci_j, n):\n",
    "    \"\"\"\n",
    "    Compute mutual information between two features X_i and X_j.\n",
    "    \n",
    "    Parameters:\n",
    "        class_priors (array): Prior probabilities of each class. Shape: (num_classes,)\n",
    "        p_ci_i (array): Binomial parameters for feature i across classes. Shape: (num_classes,)\n",
    "        p_ci_j (array): Binomial parameters for feature j across classes. Shape: (num_classes,)\n",
    "        n (int): Number of trials for the binomial distribution.\n",
    "    \n",
    "    Returns:\n",
    "        float: Mutual information I(X_i; X_j)\n",
    "    \"\"\"\n",
    "    num_classes = len(class_priors)\n",
    "    x_vals = np.arange(0, n + 1)  # Possible values of features\n",
    "    \n",
    "    ### Compute marginal distributions P(Xi=x), P(Xj=y) ###\n",
    "    # PMF for feature i across all classes\n",
    "    pmf_i_per_class = binom.pmf(x_vals[:, None], n, p_ci_i[None, :])\n",
    "    px_i = np.sum(pmf_i_per_class * class_priors[None, :], axis=1)\n",
    "    entropy_xi = entropy(px_i, base=2) if not np.allclose(px_i, 0.0) else 0.0\n",
    "    \n",
    "    # PMF for feature j across all classes\n",
    "    pmf_j_per_class = binom.pmf(x_vals[:, None], n, p_ci_j[None, :])\n",
    "    px_j = np.sum(pmf_j_per_class * class_priors[None, :], axis=1)\n",
    "    entropy_xj = entropy(px_j, base=2) if not np.allclose(px_j, 0.0) else 0.0\n",
    "    \n",
    "    ### Compute joint distribution P(Xi=x, Xj=y) ###\n",
    "    joint_xy = np.zeros((n + 1, n + 1))\n",
    "    \n",
    "    for c in range(num_classes):\n",
    "        pmf_i_c = binom.pmf(x_vals, n, p_ci_i[c])\n",
    "        pmf_j_c = binom.pmf(x_vals, n, p_ci_j[c])\n",
    "        \n",
    "        # Outer product gives joint PMF for class c\n",
    "        outer = np.outer(pmf_i_c, pmf_j_c)\n",
    "        joint_xy += class_priors[c] * outer\n",
    "    \n",
    "    # Compute entropy of the joint distribution\n",
    "    epsilon = 1e-10  # To avoid log(0) issues\n",
    "    non_zero = (joint_xy > epsilon)\n",
    "    entropy_joint = -np.sum(joint_xy[non_zero] * np.log2(joint_xy[non_zero]))\n",
    "    \n",
    "    ### Mutual Information ###\n",
    "    mi = entropy_xi + entropy_xj - entropy_joint\n",
    "    \n",
    "    return mi\n",
    "\n",
    "\n",
    "def conditional_mutual_info(class_priors, XJ_params, XK_params, n):\n",
    "    \"\"\"\n",
    "    Compute I(XK; Y | XJ) using vectorization with broadcasting.\n",
    "    \n",
    "    Args:\n",
    "        XJ_params (array): p_{c,J} for all classes c.\n",
    "        XK_params (array): p_{c,K} for all classes c.\n",
    "        class_priors (array): P(Y=c) for all classes c.\n",
    "        n (int): Number of trials in the binomial distribution.\n",
    "\n",
    "    Returns:\n",
    "        float: Conditional mutual information I(XK; Y | XJ).\n",
    "    \"\"\"\n",
    "    K = len(class_priors)\n",
    "    x_values = np.arange(n + 1)\n",
    "\n",
    "    # Precompute PMFs for each class\n",
    "    P_XJ_giv_Y = binom.pmf(x_values[:, None], n, XJ_params)  \n",
    "    P_XK_giv_Y = binom.pmf(x_values[:, None], n, XK_params)  \n",
    "\n",
    "    P_XJ_T = P_XJ_giv_Y.T  # Shape: (K, n+1)\n",
    "    P_XK_T = P_XK_giv_Y.T\n",
    "\n",
    "    ######################################################################\n",
    "    ### Compute H(Y | XJ) ###############################################\n",
    "    ######################################################################\n",
    "\n",
    "    # Calculate P(XJ=xj) for all xj\n",
    "    P_XJ_total = np.dot(class_priors, P_XJ_T)\n",
    "\n",
    "    # Numerators of posterior probabilities P(Y=c | XJ=xj)\n",
    "    numerators_YgXJ = class_priors[:, None] * P_XJ_T  \n",
    "\n",
    "    valid_mask = P_XJ_total > 1e-9\n",
    "    posterior_YgXJ = np.zeros_like(numerators_YgXJ, dtype=float)\n",
    "    posterior_YgXJ[:, valid_mask] = (\n",
    "        numerators_YgXJ[:, valid_mask] / \n",
    "        P_XJ_total[valid_mask]\n",
    "    )\n",
    "\n",
    "    log_p = np.log2(posterior_YgXJ + 1e-9)  \n",
    "    entropy_terms_HYgXJ = -np.sum(\n",
    "        posterior_YgXJ * log_p, \n",
    "        axis=0,\n",
    "        where=(posterior_YgXJ > 1e-9)\n",
    "    )\n",
    "    \n",
    "    H_Y_given_XJ = np.dot(P_XJ_total, entropy_terms_HYgXJ)\n",
    "\n",
    "    ######################################################################\n",
    "    ### Compute H(Y | XJ, XK) ###########################################\n",
    "    ######################################################################\n",
    "\n",
    "    # Broadcast to compute joint PMF P(XJ=xj, XK=xk | Y=c)\n",
    "    P_XJ_giv_Y_T = P_XJ_T[..., None]  # Shape: (K, n+1, 1)\n",
    "    P_XK_giv_Y_T = P_XK_T[:, None, :]  # Shape: (K, 1, n+1)\n",
    "\n",
    "    joint_pmf_conditional = (\n",
    "        P_XJ_giv_Y_T * \n",
    "        P_XK_giv_Y_T\n",
    "    )  # Shape: (K, n+1, n+1)\n",
    "\n",
    "    numerators = class_priors[:, None, None] * joint_pmf_conditional  \n",
    "\n",
    "    denominators = np.sum(numerators, axis=0)  # Shape: (n+1, n+1)\n",
    "\n",
    "    valid_mask_3d = (denominators > 1e-9)[None, ...]  # Expand for class dimension\n",
    "\n",
    "    # Compute posterior probabilities using broadcasting and where\n",
    "    posterior_YgXJXK = numerators / denominators[None, ...]\n",
    "    posterior_YgXJXK = np.where(valid_mask_3d, posterior_YgXJXK, 0.0)\n",
    "\n",
    "    log_p_joint = np.log2(posterior_YgXJXK + 1e-9)  \n",
    "    entropy_terms_HYgXJXK = -np.sum(\n",
    "        posterior_YgXJXK * log_p_joint,\n",
    "        axis=0,  # Sum over classes (axis 0 is K)\n",
    "        where=(posterior_YgXJXK > 1e-9),\n",
    "    )\n",
    "\n",
    "    H_Y_given_XJXK = np.sum(denominators * entropy_terms_HYgXJXK)\n",
    "\n",
    "    ######################################################################\n",
    "    ### Compute CMI #####################################################\n",
    "    ######################################################################\n",
    "\n",
    "    cmi = H_Y_given_XJ - H_Y_given_XJXK\n",
    "\n",
    "    return max(cmi, 0.0)  "
   ]
  },
  {
   "cell_type": "markdown",
   "id": "03acb79a-040e-4bc7-a235-fd80dd72addb",
   "metadata": {},
   "source": [
    "#### Relevance and redundancy\n",
    "First, lets pre-compute the relevance and redundancy metrics for mRMR (also used in JMI). We assume a uniform class prior."
   ]
  },
  {
   "cell_type": "code",
   "execution_count": null,
   "id": "febfb392-017f-442f-8aaa-cb48bcdb9a6b",
   "metadata": {},
   "outputs": [],
   "source": [
    "priors = np.full(nmults, 1/nmults, dtype=np.float64)\n",
    "probs = np.zeros((nallfeats, nmults), dtype=np.float64)\n",
    "for i, divisor in enumerate(allfeats):\n",
    "    for j, (mult, probmap) in enumerate(distributions_mults.items()):\n",
    "        probs[i, j] = probmap[divisor]\n",
    "\n",
    "nattack = 100\n",
    "mis = []\n",
    "relevance = np.zeros(nallfeats, dtype=np.float64)\n",
    "for i, divisor in enumerate(allfeats):\n",
    "    mi = mutual_information(priors, probs[i, ], nattack)\n",
    "    relevance[i] = mi\n",
    "    mis.append((mi, divisor))\n",
    "mis.sort(key=lambda item: item[0], reverse=True)\n",
    "\n",
    "print(\"Top 10 feats\")\n",
    "for mi, divisor in mis[:10]:\n",
    "    print(f\"{divisor} {mi:.3f}\")"
   ]
  },
  {
   "cell_type": "code",
   "execution_count": null,
   "id": "8361d1a3-87d1-4d35-9a8a-1a9a4a6eb638",
   "metadata": {},
   "outputs": [],
   "source": [
    "num_workers = 30\n",
    "\n",
    "redundancy = np.zeros((nallfeats, nallfeats), dtype=np.float64)\n",
    "with TaskExecutor(max_workers=num_workers) as pool:\n",
    "    for i in trange(nallfeats):\n",
    "        for j in range(nallfeats):\n",
    "            if i < j:\n",
    "                continue\n",
    "            pool.submit_task((i, j),\n",
    "                             mutual_information_between_features,\n",
    "                             priors, probs[i, ], probs[j, ], nattack)\n",
    "        for (i, j), future in pool.as_completed():\n",
    "            mi = future.result()\n",
    "            redundancy[i][j] = mi\n",
    "            redundancy[j][i] = mi\n"
   ]
  },
  {
   "cell_type": "markdown",
   "id": "95e0b366-188f-4c65-b92c-e9b9587a8083",
   "metadata": {},
   "source": [
    "Store the relevance and redundancy arrays."
   ]
  },
  {
   "cell_type": "code",
   "execution_count": null,
   "id": "d64cf0a1-a83f-4837-8113-5de536fb0f09",
   "metadata": {},
   "outputs": [],
   "source": [
    "with open(\"relevance.pickle\", \"wb\") as f:\n",
    "    pickle.dump(relevance, f)\n",
    "with open(\"redundancy.pickle\", \"wb\") as f:\n",
    "    pickle.dump(redundancy, f)"
   ]
  },
  {
   "cell_type": "code",
   "execution_count": null,
   "id": "d3223edc-f3b2-4137-bc1f-75e311ff075e",
   "metadata": {},
   "outputs": [],
   "source": [
    "def mrmr_selection(relevance, redundancy, nfeats):\n",
    "    \"\"\"\n",
    "    Select top features using mRMR.\n",
    "    \n",
    "    Returns:\n",
    "        indices of selected features.\n",
    "    \"\"\"\n",
    "    selected_indices = []\n",
    "    remaining_indices = list(range(nallfeats))\n",
    "    \n",
    "    # Initialize by selecting the most relevant feature\n",
    "    first_feature_idx = np.argmax(relevance)\n",
    "    selected_indices.append(first_feature_idx)\n",
    "    remaining_indices.remove(first_feature_idx)\n",
    "    \n",
    "    while len(selected_indices) < nfeats:\n",
    "        candidates_scores = []\n",
    "        \n",
    "        for candidate in remaining_indices:\n",
    "            # Compute mRMR score: relevance - average redundancy with selected features\n",
    "            current_relevance = relevance[candidate]\n",
    "            \n",
    "            avg_red = 0.0\n",
    "            if len(selected_indices) > 0:\n",
    "                sum_red = np.sum(redundancy[candidate][selected_indices])\n",
    "                avg_red = sum_red / len(selected_indices)\n",
    "            \n",
    "            score = current_relevance - avg_red\n",
    "            candidates_scores.append(score)\n",
    "        \n",
    "        # Select the candidate with highest score\n",
    "        best_candidate_idx = remaining_indices[np.argmax(candidates_scores)]\n",
    "        selected_indices.append(best_candidate_idx)\n",
    "        remaining_indices.remove(best_candidate_idx)\n",
    "    \n",
    "    return selected_indices"
   ]
  },
  {
   "cell_type": "code",
   "execution_count": null,
   "id": "5604d599-ef63-49fc-a7c8-65fa90c15620",
   "metadata": {},
   "outputs": [],
   "source": [
    "selected_mrmr = [allfeats[i] for i in mrmr_selection(relevance, redundancy, nfeats=5)]"
   ]
  },
  {
   "cell_type": "markdown",
   "id": "a12b75cd-3c62-4b87-a7df-f0c5f7748386",
   "metadata": {},
   "source": [
    "### Feature selection via JMI"
   ]
  },
  {
   "cell_type": "code",
   "execution_count": null,
   "id": "d8b3f827-baef-49c2-af60-0be74ff0efa2",
   "metadata": {},
   "outputs": [],
   "source": [
    "def jmi_selection(features_params_list, class_priors, n_trials, relevance, nfeats):\n",
    "    \"\"\"\n",
    "    Select top features using JMI.\n",
    "    \n",
    "    Returns:\n",
    "        indices of selected features.\n",
    "    \"\"\"\n",
    "    selected_indices = []\n",
    "    remaining_indices = list(range(nallfeats))\n",
    "    \n",
    "    # Initialize by selecting the most relevant feature\n",
    "    first_feature_idx = np.argmax(relevance)\n",
    "    selected_indices.append(first_feature_idx)\n",
    "    remaining_indices.remove(first_feature_idx)\n",
    "    \n",
    "    while len(selected_indices) < nfeats:\n",
    "        candidates_scores = []\n",
    "        \n",
    "        for candidate in tqdm(remaining_indices):\n",
    "            # Compute mRMR score: relevance - average redundancy with selected features\n",
    "            current_relevance = relevance[candidate]\n",
    "            \n",
    "            sum_cmi = 0.0\n",
    "            for selected in selected_indices:\n",
    "                XJ_params = features_params_list[selected]\n",
    "                XK_params = features_params_list[candidate]\n",
    "                \n",
    "                cmi_val = conditional_mutual_info(\n",
    "                    class_priors=class_priors,\n",
    "                    XJ_params=XJ_params,\n",
    "                    XK_params=XK_params,\n",
    "                    n=n_trials\n",
    "                )\n",
    "                sum_cmi += cmi_val\n",
    "            avg_cmi = sum_cmi / len(selected_indices)\n",
    "            score = current_relevance + avg_cmi\n",
    "            candidates_scores.append(score)\n",
    "        \n",
    "        # Select the candidate with highest score\n",
    "        best_candidate_idx = remaining_indices[np.argmax(candidates_scores)]\n",
    "        selected_indices.append(best_candidate_idx)\n",
    "        remaining_indices.remove(best_candidate_idx)\n",
    "    \n",
    "    return selected_indices"
   ]
  },
  {
   "cell_type": "code",
   "execution_count": null,
   "id": "6739192e-879a-4862-b862-6a8fc3939b73",
   "metadata": {},
   "outputs": [],
   "source": [
    "selected_jmi = [allfeats[i] for i in jmi_selection(probs, priors, nattack, relevance, nfeats=5)]"
   ]
  }
 ],
 "metadata": {
  "kernelspec": {
   "display_name": "Python 3 (ipykernel)",
   "language": "python",
   "name": "python3"
  },
  "language_info": {
   "codemirror_mode": {
    "name": "ipython",
    "version": 3
   },
   "file_extension": ".py",
   "mimetype": "text/x-python",
   "name": "python",
   "nbconvert_exporter": "python",
   "pygments_lexer": "ipython3",
   "version": "3.12.3"
  }
 },
 "nbformat": 4,
 "nbformat_minor": 5
}
